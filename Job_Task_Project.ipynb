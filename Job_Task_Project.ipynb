{
  "cells": [
    {
      "cell_type": "markdown",
      "metadata": {
        "id": "view-in-github",
        "colab_type": "text"
      },
      "source": [
        "<a href=\"https://colab.research.google.com/github/shahzorkhan/LaborProject/blob/main/Job_Task_Project.ipynb\" target=\"_parent\"><img src=\"https://colab.research.google.com/assets/colab-badge.svg\" alt=\"Open In Colab\"/></a>"
      ]
    },
    {
      "cell_type": "markdown",
      "metadata": {
        "id": "lVo66BEgnYDF"
      },
      "source": [
        "Jobs  and Tasks: Mapping, proximities, Task space and Job complexity in R\n",
        "================================================================================\n",
        "\n"
      ]
    },
    {
      "cell_type": "markdown",
      "metadata": {
        "id": "ZRWpwBOdnYDT"
      },
      "source": [
        "21 February 2022, Shahzor Khan (shahzor@mit.edu)\n",
        "\n"
      ]
    },
    {
      "cell_type": "markdown",
      "metadata": {
        "id": "2WBzXurRnYDc"
      },
      "source": [
        "## Notes\n",
        "\n"
      ]
    },
    {
      "cell_type": "markdown",
      "metadata": {
        "id": "qo7TamcKnYDi"
      },
      "source": [
        "Google colab link Python:\n",
        "\n",
        "[https://colab.research.google.com/github/matteha/product-space-eci-workshop/blob/main/product-space-eci-workshop.ipynb](https://colab.research.google.com/github/matteha/product-space-eci-workshop/blob/main/product-space-eci-workshop.ipynb)\n",
        "\n",
        "Google colab link in R:\n",
        "[https://colab.research.google.com/github/matteha/product-space-eci-workshop/blob/main/product-space-eci-workshop-in-R.ipynb](https://colab.research.google.com/github/matteha/product-space-eci-workshop/blob/main/product-space-eci-workshop-in-R.ipynb)\n",
        "\n",
        "To run code in Google Colab, you need a Google account.\n",
        "\n"
      ]
    },
    {
      "cell_type": "markdown",
      "metadata": {
        "id": "YzfGKS3EnYD6"
      },
      "source": [
        "## Outline of lab session\n",
        "\n"
      ]
    },
    {
      "cell_type": "markdown",
      "metadata": {
        "id": "ybiKAqnHnYD-"
      },
      "source": [
        "We&rsquo;ll cover:\n",
        "\n",
        "-   Introduction to Onet data\n",
        "\n",
        "-   Calculating Main Taskss, co-occurences and proximities\n",
        "    -   Task and technology proximities\n",
        "    -   Trade: specialization of Tasks over time\n",
        "    --   Technologies (patents): specialization of countries and US cities over time\n",
        "\n",
        "-   Task space visualization\n",
        "\n",
        "-   Calculating Task Complexity / Job Complexity (by destination)\n",
        "\n"
      ]
    },
    {
      "cell_type": "markdown",
      "metadata": {
        "id": "pScmTELGnYEE"
      },
      "source": [
        "## Job data\n",
        "\n"
      ]
    },
    {
      "cell_type": "markdown",
      "metadata": {
        "id": "uTKw91hbnYEN"
      },
      "source": [
        "### Background\n",
        "\n"
      ]
    },
    {
      "cell_type": "markdown",
      "metadata": {
        "id": "O93E7QnenYER"
      },
      "source": [
        "Onet Data maintains relevance of Jobs to Tasks, job requirements, work experience etc using survey data. The job titles etc is updated frequently to map the current status. https://www.onetcodeconnector.org/\n",
        "\n",
        "Jobs and Task are a important field of study, especially by Daron Acemoglu and Pascual Restrepo in terms of Technological replacement and classifying impact of automation, (Good Automation vs Bad Automation)\n",
        "\n",
        "---\n",
        "The product space is, as well as its derivations / related measures such as economic complexity and the Growth&rsquo;s annual rankings of countries by economic complexity (at [https://atlas.cid.harvard.edu](https://atlas.cid.harvard.edu)), are based on trade data between countries.\n",
        "\n",
        "The Growth Lab maintains and periodically updates a cleaned version of trade data at Harvard Dataverse:\n",
        "\n",
        "[https://dataverse.harvard.edu/dataverse/atlas](https://dataverse.harvard.edu/dataverse/atlas)\n",
        "\n",
        "This dataset contains bilateral trade data among 235 countries and territories in thousands of different products categories (a description of the data can be found at: [http://atlas.cid.harvard.edu/downloads](http://atlas.cid.harvard.edu/downloads)).\n",
        "\n",
        "How does the data look like? We will explore the data in R whilst mainly using the &rsquo;tidyverse&rsquo; packages (most popular R packages for data analysis).\n",
        "\n"
      ]
    },
    {
      "cell_type": "markdown",
      "metadata": {
        "id": "4bu1DWHpnYEZ"
      },
      "source": [
        "#### Footnote on trade and services (ICT, tourism, etc.):\n",
        "\n"
      ]
    },
    {
      "cell_type": "markdown",
      "metadata": {
        "id": "9hHQ_mNXnYEg"
      },
      "source": [
        "-   Services and tourism are included in the Growth Lab&rsquo;s Atlas and trade data as well as of September 2018. See announcement at:\n",
        "\n",
        "[https://atlas.cid.harvard.edu/announcements/2018/services-press-release](https://atlas.cid.harvard.edu/announcements/2018/services-press-release)\n",
        "\n",
        "Obtained from IMF, trade in services covers four categories of economic activities between producers and consumers across borders:\n",
        "\n",
        "-   services supplied from one country to another (e.g. call centers)\n",
        "-   consumption in other countries (e.g. international tourism)\n",
        "-   firms with branches in other countries (e.g. bank branches overseas)\n",
        "-   individuals supplying services in another country (e.g. IT consultant abroad)\n",
        "\n"
      ]
    },
    {
      "cell_type": "markdown",
      "metadata": {
        "id": "xBjFZxmjnYEi"
      },
      "source": [
        "### Install necessary R packages\n",
        "\n"
      ]
    },
    {
      "cell_type": "code",
      "execution_count": null,
      "metadata": {
        "id": "C3bmACC2nYEl",
        "colab": {
          "base_uri": "https://localhost:8080/",
          "height": 880
        },
        "outputId": "e60d5626-2fb0-4633-b379-468760507ae4"
      },
      "outputs": [
        {
          "output_type": "stream",
          "name": "stdout",
          "text": [
            "[1] \"installing packages, takes some mins on Google Colab\"\n",
            "[1] \"installing tidyverse\"\n"
          ]
        },
        {
          "output_type": "stream",
          "name": "stderr",
          "text": [
            "Installing package into ‘/usr/local/lib/R/site-library’\n",
            "(as ‘lib’ is unspecified)\n",
            "\n"
          ]
        },
        {
          "output_type": "display_data",
          "data": {
            "text/plain": [
              "   user  system elapsed \n",
              "  7.328   0.870  10.148 "
            ]
          },
          "metadata": {}
        },
        {
          "output_type": "stream",
          "name": "stdout",
          "text": [
            "[1] \"installing reticulate\"\n"
          ]
        },
        {
          "output_type": "stream",
          "name": "stderr",
          "text": [
            "Installing package into ‘/usr/local/lib/R/site-library’\n",
            "(as ‘lib’ is unspecified)\n",
            "\n",
            "also installing the dependencies ‘RcppTOML’, ‘here’, ‘png’\n",
            "\n",
            "\n"
          ]
        },
        {
          "output_type": "display_data",
          "data": {
            "text/plain": [
              "   user  system elapsed \n",
              " 45.673   4.363  52.583 "
            ]
          },
          "metadata": {}
        },
        {
          "output_type": "stream",
          "name": "stdout",
          "text": [
            "[1] \"installing foreign\"\n"
          ]
        },
        {
          "output_type": "stream",
          "name": "stderr",
          "text": [
            "Installing package into ‘/usr/local/lib/R/site-library’\n",
            "(as ‘lib’ is unspecified)\n",
            "\n"
          ]
        },
        {
          "output_type": "display_data",
          "data": {
            "text/plain": [
              "   user  system elapsed \n",
              "  5.998   0.905   7.413 "
            ]
          },
          "metadata": {}
        },
        {
          "output_type": "stream",
          "name": "stdout",
          "text": [
            "[1] \"installing png\"\n"
          ]
        },
        {
          "output_type": "stream",
          "name": "stderr",
          "text": [
            "Installing package into ‘/usr/local/lib/R/site-library’\n",
            "(as ‘lib’ is unspecified)\n",
            "\n"
          ]
        },
        {
          "output_type": "display_data",
          "data": {
            "text/plain": [
              "   user  system elapsed \n",
              "  2.304   0.542   3.024 "
            ]
          },
          "metadata": {}
        },
        {
          "output_type": "stream",
          "name": "stdout",
          "text": [
            "[1] \"installing economiccomplexity\"\n"
          ]
        },
        {
          "output_type": "stream",
          "name": "stderr",
          "text": [
            "Installing package into ‘/usr/local/lib/R/site-library’\n",
            "(as ‘lib’ is unspecified)\n",
            "\n",
            "also installing the dependencies ‘rbibutils’, ‘igraph’, ‘Rdpack’\n",
            "\n",
            "\n"
          ]
        },
        {
          "output_type": "display_data",
          "data": {
            "text/plain": [
              "   user  system elapsed \n",
              "125.069  17.898 145.469 "
            ]
          },
          "metadata": {}
        },
        {
          "output_type": "stream",
          "name": "stdout",
          "text": [
            "[1] \"installing tidylog\"\n"
          ]
        },
        {
          "output_type": "stream",
          "name": "stderr",
          "text": [
            "Installing package into ‘/usr/local/lib/R/site-library’\n",
            "(as ‘lib’ is unspecified)\n",
            "\n",
            "also installing the dependency ‘clisymbols’\n",
            "\n",
            "\n"
          ]
        },
        {
          "output_type": "display_data",
          "data": {
            "text/plain": [
              "   user  system elapsed \n",
              "  6.017   0.988   7.500 "
            ]
          },
          "metadata": {}
        },
        {
          "output_type": "stream",
          "name": "stdout",
          "text": [
            "[1] \"done installing packages\"\n"
          ]
        }
      ],
      "source": [
        "print('installing packages, takes some mins on Google Colab')\n",
        "\n",
        "ptm <- proc.time()\n",
        "print('installing tidyverse')\n",
        "install.packages('tidyverse')\n",
        "proc.time() - ptm\n",
        "\n",
        "ptm <- proc.time()\n",
        "print('installing reticulate')\n",
        "install.packages('reticulate')\n",
        "proc.time() - ptm\n",
        "\n",
        "ptm <- proc.time()\n",
        "print('installing foreign')\n",
        "install.packages('foreign')\n",
        "proc.time() - ptm\n",
        "\n",
        "ptm <- proc.time()\n",
        "print('installing png')\n",
        "install.packages('png')\n",
        "proc.time() - ptm\n",
        "\n",
        "ptm <- proc.time()\n",
        "print('installing economiccomplexity')\n",
        "install.packages('economiccomplexity')\n",
        "proc.time() - ptm\n",
        "\n",
        "ptm <- proc.time()\n",
        "print('installing tidylog')\n",
        "install.packages('tidylog')\n",
        "proc.time() - ptm\n",
        "\n",
        "#ptm <- proc.time()\n",
        "#print('installing ONETr')\n",
        "#install.packages('ONETr')\n",
        "#proc.time() - ptm\n",
        "\n",
        "#ptm <- proc.time()\n",
        "#print('installing readxl')\n",
        "#install.packages(\"readxl\")\n",
        "#proc.time() - ptm\n",
        "\n",
        "\n",
        "#ptm <- proc.time()\n",
        "#print('installing dplyr')\n",
        "#install.packages(\"dplyr\")\n",
        "#proc.time() - ptm\n",
        "\n",
        "#ptm <- proc.time()\n",
        "#print('installing dplyr')\n",
        "#install.packages(\"dplyr\")\n",
        "#proc.time() - ptm\n",
        "print('done installing packages')"
      ]
    },
    {
      "cell_type": "markdown",
      "metadata": {
        "id": "JBLjMaHrnYFF"
      },
      "source": [
        "### Load necessary R packages\n",
        "\n"
      ]
    },
    {
      "cell_type": "code",
      "execution_count": null,
      "metadata": {
        "id": "ZWyuFGP9nYFJ",
        "colab": {
          "base_uri": "https://localhost:8080/"
        },
        "outputId": "123ec5ed-d7a0-46c5-d02f-c45000d4f111"
      },
      "outputs": [
        {
          "output_type": "stream",
          "name": "stderr",
          "text": [
            "Warning message in system(\"timedatectl\", intern = TRUE):\n",
            "“running command 'timedatectl' had status 1”\n",
            "── \u001b[1mAttaching packages\u001b[22m ─────────────────────────────────────── tidyverse 1.3.1 ──\n",
            "\n",
            "\u001b[32m✔\u001b[39m \u001b[34mggplot2\u001b[39m 3.3.5     \u001b[32m✔\u001b[39m \u001b[34mpurrr  \u001b[39m 0.3.4\n",
            "\u001b[32m✔\u001b[39m \u001b[34mtibble \u001b[39m 3.1.6     \u001b[32m✔\u001b[39m \u001b[34mdplyr  \u001b[39m 1.0.8\n",
            "\u001b[32m✔\u001b[39m \u001b[34mtidyr  \u001b[39m 1.2.0     \u001b[32m✔\u001b[39m \u001b[34mstringr\u001b[39m 1.4.0\n",
            "\u001b[32m✔\u001b[39m \u001b[34mreadr  \u001b[39m 2.1.2     \u001b[32m✔\u001b[39m \u001b[34mforcats\u001b[39m 0.5.1\n",
            "\n",
            "── \u001b[1mConflicts\u001b[22m ────────────────────────────────────────── tidyverse_conflicts() ──\n",
            "\u001b[31m✖\u001b[39m \u001b[34mdplyr\u001b[39m::\u001b[32madd_count()\u001b[39m     masks \u001b[34mtidylog\u001b[39m::add_count()\n",
            "\u001b[31m✖\u001b[39m \u001b[34mdplyr\u001b[39m::\u001b[32madd_tally()\u001b[39m     masks \u001b[34mtidylog\u001b[39m::add_tally()\n",
            "\u001b[31m✖\u001b[39m \u001b[34mdplyr\u001b[39m::\u001b[32manti_join()\u001b[39m     masks \u001b[34mtidylog\u001b[39m::anti_join()\n",
            "\u001b[31m✖\u001b[39m \u001b[34mdplyr\u001b[39m::\u001b[32mcount()\u001b[39m         masks \u001b[34mtidylog\u001b[39m::count()\n",
            "\u001b[31m✖\u001b[39m \u001b[34mdplyr\u001b[39m::\u001b[32mdistinct()\u001b[39m      masks \u001b[34mtidylog\u001b[39m::distinct()\n",
            "\u001b[31m✖\u001b[39m \u001b[34mdplyr\u001b[39m::\u001b[32mdistinct_all()\u001b[39m  masks \u001b[34mtidylog\u001b[39m::distinct_all()\n",
            "\u001b[31m✖\u001b[39m \u001b[34mdplyr\u001b[39m::\u001b[32mdistinct_at()\u001b[39m   masks \u001b[34mtidylog\u001b[39m::distinct_at()\n",
            "\u001b[31m✖\u001b[39m \u001b[34mdplyr\u001b[39m::\u001b[32mdistinct_if()\u001b[39m   masks \u001b[34mtidylog\u001b[39m::distinct_if()\n",
            "\u001b[31m✖\u001b[39m \u001b[34mtidyr\u001b[39m::\u001b[32mdrop_na()\u001b[39m       masks \u001b[34mtidylog\u001b[39m::drop_na()\n",
            "\u001b[31m✖\u001b[39m \u001b[34mtidyr\u001b[39m::\u001b[32mfill()\u001b[39m          masks \u001b[34mtidylog\u001b[39m::fill()\n",
            "\u001b[31m✖\u001b[39m \u001b[34mdplyr\u001b[39m::\u001b[32mfilter()\u001b[39m        masks \u001b[34mtidylog\u001b[39m::filter(), \u001b[34mstats\u001b[39m::filter()\n",
            "\u001b[31m✖\u001b[39m \u001b[34mdplyr\u001b[39m::\u001b[32mfilter_all()\u001b[39m    masks \u001b[34mtidylog\u001b[39m::filter_all()\n",
            "\u001b[31m✖\u001b[39m \u001b[34mdplyr\u001b[39m::\u001b[32mfilter_at()\u001b[39m     masks \u001b[34mtidylog\u001b[39m::filter_at()\n",
            "\u001b[31m✖\u001b[39m \u001b[34mdplyr\u001b[39m::\u001b[32mfilter_if()\u001b[39m     masks \u001b[34mtidylog\u001b[39m::filter_if()\n",
            "\u001b[31m✖\u001b[39m \u001b[34mdplyr\u001b[39m::\u001b[32mfull_join()\u001b[39m     masks \u001b[34mtidylog\u001b[39m::full_join()\n",
            "\u001b[31m✖\u001b[39m \u001b[34mtidyr\u001b[39m::\u001b[32mgather()\u001b[39m        masks \u001b[34mtidylog\u001b[39m::gather()\n",
            "\u001b[31m✖\u001b[39m \u001b[34mdplyr\u001b[39m::\u001b[32mgroup_by()\u001b[39m      masks \u001b[34mtidylog\u001b[39m::group_by()\n",
            "\u001b[31m✖\u001b[39m \u001b[34mdplyr\u001b[39m::\u001b[32mgroup_by_all()\u001b[39m  masks \u001b[34mtidylog\u001b[39m::group_by_all()\n",
            "\u001b[31m✖\u001b[39m \u001b[34mdplyr\u001b[39m::\u001b[32mgroup_by_at()\u001b[39m   masks \u001b[34mtidylog\u001b[39m::group_by_at()\n",
            "\u001b[31m✖\u001b[39m \u001b[34mdplyr\u001b[39m::\u001b[32mgroup_by_if()\u001b[39m   masks \u001b[34mtidylog\u001b[39m::group_by_if()\n",
            "\u001b[31m✖\u001b[39m \u001b[34mdplyr\u001b[39m::\u001b[32minner_join()\u001b[39m    masks \u001b[34mtidylog\u001b[39m::inner_join()\n",
            "\u001b[31m✖\u001b[39m \u001b[34mdplyr\u001b[39m::\u001b[32mlag()\u001b[39m           masks \u001b[34mstats\u001b[39m::lag()\n",
            "\u001b[31m✖\u001b[39m \u001b[34mdplyr\u001b[39m::\u001b[32mleft_join()\u001b[39m     masks \u001b[34mtidylog\u001b[39m::left_join()\n",
            "\u001b[31m✖\u001b[39m \u001b[34mdplyr\u001b[39m::\u001b[32mmutate()\u001b[39m        masks \u001b[34mtidylog\u001b[39m::mutate()\n",
            "\u001b[31m✖\u001b[39m \u001b[34mdplyr\u001b[39m::\u001b[32mmutate_all()\u001b[39m    masks \u001b[34mtidylog\u001b[39m::mutate_all()\n",
            "\u001b[31m✖\u001b[39m \u001b[34mdplyr\u001b[39m::\u001b[32mmutate_at()\u001b[39m     masks \u001b[34mtidylog\u001b[39m::mutate_at()\n",
            "\u001b[31m✖\u001b[39m \u001b[34mdplyr\u001b[39m::\u001b[32mmutate_if()\u001b[39m     masks \u001b[34mtidylog\u001b[39m::mutate_if()\n",
            "\u001b[31m✖\u001b[39m \u001b[34mtidyr\u001b[39m::\u001b[32mpivot_longer()\u001b[39m  masks \u001b[34mtidylog\u001b[39m::pivot_longer()\n",
            "\u001b[31m✖\u001b[39m \u001b[34mtidyr\u001b[39m::\u001b[32mpivot_wider()\u001b[39m   masks \u001b[34mtidylog\u001b[39m::pivot_wider()\n",
            "\u001b[31m✖\u001b[39m \u001b[34mdplyr\u001b[39m::\u001b[32mrelocate()\u001b[39m      masks \u001b[34mtidylog\u001b[39m::relocate()\n",
            "\u001b[31m✖\u001b[39m \u001b[34mdplyr\u001b[39m::\u001b[32mrename()\u001b[39m        masks \u001b[34mtidylog\u001b[39m::rename()\n",
            "\u001b[31m✖\u001b[39m \u001b[34mdplyr\u001b[39m::\u001b[32mrename_all()\u001b[39m    masks \u001b[34mtidylog\u001b[39m::rename_all()\n",
            "\u001b[31m✖\u001b[39m \u001b[34mdplyr\u001b[39m::\u001b[32mrename_at()\u001b[39m     masks \u001b[34mtidylog\u001b[39m::rename_at()\n",
            "\u001b[31m✖\u001b[39m \u001b[34mdplyr\u001b[39m::\u001b[32mrename_if()\u001b[39m     masks \u001b[34mtidylog\u001b[39m::rename_if()\n",
            "\u001b[31m✖\u001b[39m \u001b[34mdplyr\u001b[39m::\u001b[32mrename_with()\u001b[39m   masks \u001b[34mtidylog\u001b[39m::rename_with()\n",
            "\u001b[31m✖\u001b[39m \u001b[34mtidyr\u001b[39m::\u001b[32mreplace_na()\u001b[39m    masks \u001b[34mtidylog\u001b[39m::replace_na()\n",
            "\u001b[31m✖\u001b[39m \u001b[34mdplyr\u001b[39m::\u001b[32mright_join()\u001b[39m    masks \u001b[34mtidylog\u001b[39m::right_join()\n",
            "\u001b[31m✖\u001b[39m \u001b[34mdplyr\u001b[39m::\u001b[32msample_frac()\u001b[39m   masks \u001b[34mtidylog\u001b[39m::sample_frac()\n",
            "\u001b[31m✖\u001b[39m \u001b[34mdplyr\u001b[39m::\u001b[32msample_n()\u001b[39m      masks \u001b[34mtidylog\u001b[39m::sample_n()\n",
            "\u001b[31m✖\u001b[39m \u001b[34mdplyr\u001b[39m::\u001b[32mselect()\u001b[39m        masks \u001b[34mtidylog\u001b[39m::select()\n",
            "\u001b[31m✖\u001b[39m \u001b[34mdplyr\u001b[39m::\u001b[32mselect_all()\u001b[39m    masks \u001b[34mtidylog\u001b[39m::select_all()\n",
            "\u001b[31m✖\u001b[39m \u001b[34mdplyr\u001b[39m::\u001b[32mselect_at()\u001b[39m     masks \u001b[34mtidylog\u001b[39m::select_at()\n",
            "\u001b[31m✖\u001b[39m \u001b[34mdplyr\u001b[39m::\u001b[32mselect_if()\u001b[39m     masks \u001b[34mtidylog\u001b[39m::select_if()\n",
            "\u001b[31m✖\u001b[39m \u001b[34mdplyr\u001b[39m::\u001b[32msemi_join()\u001b[39m     masks \u001b[34mtidylog\u001b[39m::semi_join()\n",
            "\u001b[31m✖\u001b[39m \u001b[34mdplyr\u001b[39m::\u001b[32mslice()\u001b[39m         masks \u001b[34mtidylog\u001b[39m::slice()\n",
            "\u001b[31m✖\u001b[39m \u001b[34mdplyr\u001b[39m::\u001b[32mslice_head()\u001b[39m    masks \u001b[34mtidylog\u001b[39m::slice_head()\n",
            "\u001b[31m✖\u001b[39m \u001b[34mdplyr\u001b[39m::\u001b[32mslice_max()\u001b[39m     masks \u001b[34mtidylog\u001b[39m::slice_max()\n",
            "\u001b[31m✖\u001b[39m \u001b[34mdplyr\u001b[39m::\u001b[32mslice_min()\u001b[39m     masks \u001b[34mtidylog\u001b[39m::slice_min()\n",
            "\u001b[31m✖\u001b[39m \u001b[34mdplyr\u001b[39m::\u001b[32mslice_sample()\u001b[39m  masks \u001b[34mtidylog\u001b[39m::slice_sample()\n",
            "\u001b[31m✖\u001b[39m \u001b[34mdplyr\u001b[39m::\u001b[32mslice_tail()\u001b[39m    masks \u001b[34mtidylog\u001b[39m::slice_tail()\n",
            "\u001b[31m✖\u001b[39m \u001b[34mtidyr\u001b[39m::\u001b[32mspread()\u001b[39m        masks \u001b[34mtidylog\u001b[39m::spread()\n",
            "\u001b[31m✖\u001b[39m \u001b[34mdplyr\u001b[39m::\u001b[32msummarise()\u001b[39m     masks \u001b[34mtidylog\u001b[39m::summarise()\n",
            "\u001b[31m✖\u001b[39m \u001b[34mdplyr\u001b[39m::\u001b[32msummarise_all()\u001b[39m masks \u001b[34mtidylog\u001b[39m::summarise_all()\n",
            "\u001b[31m✖\u001b[39m \u001b[34mdplyr\u001b[39m::\u001b[32msummarise_at()\u001b[39m  masks \u001b[34mtidylog\u001b[39m::summarise_at()\n",
            "\u001b[31m✖\u001b[39m \u001b[34mdplyr\u001b[39m::\u001b[32msummarise_if()\u001b[39m  masks \u001b[34mtidylog\u001b[39m::summarise_if()\n",
            "\u001b[31m✖\u001b[39m \u001b[34mdplyr\u001b[39m::\u001b[32msummarize()\u001b[39m     masks \u001b[34mtidylog\u001b[39m::summarize()\n",
            "\u001b[31m✖\u001b[39m \u001b[34mdplyr\u001b[39m::\u001b[32msummarize_all()\u001b[39m masks \u001b[34mtidylog\u001b[39m::summarize_all()\n",
            "\u001b[31m✖\u001b[39m \u001b[34mdplyr\u001b[39m::\u001b[32msummarize_at()\u001b[39m  masks \u001b[34mtidylog\u001b[39m::summarize_at()\n",
            "\u001b[31m✖\u001b[39m \u001b[34mdplyr\u001b[39m::\u001b[32msummarize_if()\u001b[39m  masks \u001b[34mtidylog\u001b[39m::summarize_if()\n",
            "\u001b[31m✖\u001b[39m \u001b[34mdplyr\u001b[39m::\u001b[32mtally()\u001b[39m         masks \u001b[34mtidylog\u001b[39m::tally()\n",
            "\u001b[31m✖\u001b[39m \u001b[34mdplyr\u001b[39m::\u001b[32mtop_frac()\u001b[39m      masks \u001b[34mtidylog\u001b[39m::top_frac()\n",
            "\u001b[31m✖\u001b[39m \u001b[34mdplyr\u001b[39m::\u001b[32mtop_n()\u001b[39m         masks \u001b[34mtidylog\u001b[39m::top_n()\n",
            "\u001b[31m✖\u001b[39m \u001b[34mdplyr\u001b[39m::\u001b[32mtransmute()\u001b[39m     masks \u001b[34mtidylog\u001b[39m::transmute()\n",
            "\u001b[31m✖\u001b[39m \u001b[34mdplyr\u001b[39m::\u001b[32mtransmute_all()\u001b[39m masks \u001b[34mtidylog\u001b[39m::transmute_all()\n",
            "\u001b[31m✖\u001b[39m \u001b[34mdplyr\u001b[39m::\u001b[32mtransmute_at()\u001b[39m  masks \u001b[34mtidylog\u001b[39m::transmute_at()\n",
            "\u001b[31m✖\u001b[39m \u001b[34mdplyr\u001b[39m::\u001b[32mtransmute_if()\u001b[39m  masks \u001b[34mtidylog\u001b[39m::transmute_if()\n",
            "\u001b[31m✖\u001b[39m \u001b[34mtidyr\u001b[39m::\u001b[32muncount()\u001b[39m       masks \u001b[34mtidylog\u001b[39m::uncount()\n",
            "\u001b[31m✖\u001b[39m \u001b[34mdplyr\u001b[39m::\u001b[32mungroup()\u001b[39m       masks \u001b[34mtidylog\u001b[39m::ungroup()\n",
            "\n"
          ]
        },
        {
          "output_type": "stream",
          "name": "stdout",
          "text": [
            "[1] \"loaded libraries\"\n"
          ]
        }
      ],
      "source": [
        "#library('arrow') # for reading parquet etc.\n",
        "library('foreign') # to load STATA files into R\n",
        "library('glue') # to concatenate strings / variables\n",
        "library('png') # to load / show image files\n",
        "library(tidylog, warn.conflicts = FALSE) # for join statistics, e.g. left_only\n",
        "library('economiccomplexity')\n",
        "library(\"reticulate\") # R - Python interaction\n",
        "# -- if reticulate throws error on OSX, run: brew install xquartz --cask\n",
        "library('repr') # to change IRkernel properties (R kernel in Jupyter Notebook)\n",
        "library('tidyverse') # data analysis standard toolkit\n",
        "#library('ONETr') # ONET toolkit for R\n",
        "#library('readxl') # ONET toolkit for R\n",
        "\n",
        "#library('tidyr') # for reshaping data (making it from long to wide format, and vice versa)\n",
        "#library('dplyr', warn.conflicts = FALSE)\n",
        "# -- readr: for reading data\n",
        "# -- ggplot2: for plotting\n",
        "# -- tibble: for creating “tibbles”; these are the tidyverse’s take on data frames.\n",
        "# -- dplyr: for manipulating tibbles (or data frames); creating new variables, calculating summary statistics etc.\n",
        "# -- tidyr: for reshaping data (making it from long to wide format, and vice versa)\n",
        "# -- purrr: for functional programming.\n",
        "# -- stringr: for manipulating strings\n",
        "# -- forcats: FOR CATegorical data (factors); this makes it easier to reorder and rename the levels in factor variables.\n",
        "# -- library(datasets) # - Built in datasets\n",
        "print('loaded libraries')"
      ]
    },
    {
      "cell_type": "markdown",
      "metadata": {
        "id": "dWyF1KwonYFb"
      },
      "source": [
        "### Download trade dataset and load into memory\n",
        "\n"
      ]
    },
    {
      "cell_type": "markdown",
      "metadata": {
        "id": "jl-eyDaynYFg"
      },
      "source": [
        "Job data is constantly updated by the US Department of Labor, you can find the most recent version of the job data here: https://www.onetcodeconnector.org/\n",
        "\n",
        "____\n",
        "\n",
        "[https://dataverse.harvard.edu/dataverse/atlas](https://dataverse.harvard.edu/dataverse/atlas)\n",
        "\n",
        "Below we&rsquo;re using the trade data using the HS classification (&rsquo;Harmonized System 1992&rsquo; - alternative is &rsquo;SITC - Standard Industrial Trade Classification&rsquo; which goes back further in time) at the 4 digit level (alternative is 2 or 6 - 6 has more detail). It can be found here:\n",
        "\n",
        "[https://dataverse.harvard.edu/file.xhtml?fileId=4946953&version=4.0](https://dataverse.harvard.edu/file.xhtml?fileId=4946953&version=4.0)\n",
        "\n",
        "The trade file we&rsquo;re using below has a fix implemented in the labels (strings) of the products - some products currently erronuously have the same strings (e.g. product codes 5209 and 5211 in Zimbabwe have the same product string). The file is regularly updated by the Growth Lab.\n",
        "\n",
        "To load the data directly we&rsquo;re using a Dropbox link with the fix implemented (Dataverse normally requires one to fill in an agreement form first but see Section 1 (by Shreyas) on how to use the dataverse library in R to load data from there directly into R).\n",
        "\n",
        "(The trade file is a large file because it includes country / product strings, takes 1 - 3 minutes to load. One can also merge strings in separately but for illustrative purposes it is easier to have them all preloaded - also to avoid memory problems that R quickly runs into).\n",
        "\n"
      ]
    },
    {
      "cell_type": "code",
      "execution_count": null,
      "metadata": {
        "id": "E_XBWJsrnYFl",
        "colab": {
          "base_uri": "https://localhost:8080/"
        },
        "outputId": "a45cf7a0-6ae1-4b54-b5fa-037b52263ce2"
      },
      "outputs": [
        {
          "output_type": "stream",
          "name": "stdout",
          "text": [
            "[1] \"loading jobs data - takes 1 - 3 mins\"\n",
            "[1] \"task data loaded\"\n"
          ]
        }
      ],
      "source": [
        "print('loading jobs data - takes 1 - 3 mins')\n",
        "#df_orig <- read_xlsx('https://www.dropbox.com/scl/fi/0cc6mlkau424eua5lqkur/Task-Ratings.xlsx?dl=0&rlkey=5yudx5zgpc9cnsp133r31xlrw')\n",
        "df_orig <- read_csv('https://www.dropbox.com/s/xbm7oqrcr5xz3ln/Task%20Ratings.csv?dl=1', col_names = TRUE, show_col_types = FALSE, quote = \"\\\"\")\n",
        "print('task data loaded')\n",
        "\n"
      ]
    },
    {
      "cell_type": "markdown",
      "metadata": {
        "id": "hUw5siDfnYFp"
      },
      "source": [
        "### Exploring the trade data\n",
        "\n"
      ]
    },
    {
      "cell_type": "markdown",
      "metadata": {
        "id": "5CbEx3-fnYFs"
      },
      "source": [
        "#### Structure of dataset\n",
        "\n"
      ]
    },
    {
      "cell_type": "markdown",
      "metadata": {
        "id": "G9hPlS1dnYF0"
      },
      "source": [
        "Our $X_{cpt}$ matrix:\n",
        "\n"
      ]
    },
    {
      "cell_type": "code",
      "execution_count": null,
      "metadata": {
        "id": "MukaEe-ynYF2",
        "colab": {
          "base_uri": "https://localhost:8080/",
          "height": 759
        },
        "outputId": "b9579436-4b61-4379-d221-cecb0b6b2b4e"
      },
      "outputs": [
        {
          "output_type": "display_data",
          "data": {
            "text/plain": [
              "   O*NET-SOC_Code Title            Task_ID\n",
              "1  11-1011.00     Chief Executives 8823   \n",
              "2  11-1011.00     Chief Executives 8823   \n",
              "3  11-1011.00     Chief Executives 8823   \n",
              "4  11-1011.00     Chief Executives 8823   \n",
              "5  11-1011.00     Chief Executives 8823   \n",
              "6  11-1011.00     Chief Executives 8823   \n",
              "7  11-1011.00     Chief Executives 8823   \n",
              "8  11-1011.00     Chief Executives 8823   \n",
              "9  11-1011.00     Chief Executives 8823   \n",
              "10 11-1011.00     Chief Executives 8831   \n",
              "   Task                                                                                                                                   \n",
              "1  Direct or coordinate an organization's financial or budget activities to fund operations, maximize investments, or increase efficiency.\n",
              "2  Direct or coordinate an organization's financial or budget activities to fund operations, maximize investments, or increase efficiency.\n",
              "3  Direct or coordinate an organization's financial or budget activities to fund operations, maximize investments, or increase efficiency.\n",
              "4  Direct or coordinate an organization's financial or budget activities to fund operations, maximize investments, or increase efficiency.\n",
              "5  Direct or coordinate an organization's financial or budget activities to fund operations, maximize investments, or increase efficiency.\n",
              "6  Direct or coordinate an organization's financial or budget activities to fund operations, maximize investments, or increase efficiency.\n",
              "7  Direct or coordinate an organization's financial or budget activities to fund operations, maximize investments, or increase efficiency.\n",
              "8  Direct or coordinate an organization's financial or budget activities to fund operations, maximize investments, or increase efficiency.\n",
              "9  Direct or coordinate an organization's financial or budget activities to fund operations, maximize investments, or increase efficiency.\n",
              "10 Appoint department heads or managers and assign or delegate responsibilities to them.                                                  \n",
              "   Scale_ID Scale_Name                         Category Data_Value N \n",
              "1  FT       Frequency of Task (Categories 1-7)  1        4.34      79\n",
              "2  FT       Frequency of Task (Categories 1-7)  2        9.16      79\n",
              "3  FT       Frequency of Task (Categories 1-7)  3       11.04      79\n",
              "4  FT       Frequency of Task (Categories 1-7)  4       16.19      79\n",
              "5  FT       Frequency of Task (Categories 1-7)  5       46.67      79\n",
              "6  FT       Frequency of Task (Categories 1-7)  6        7.33      79\n",
              "7  FT       Frequency of Task (Categories 1-7)  7        5.26      79\n",
              "8  IM       Importance                         NA        4.54      78\n",
              "9  RT       Relevance of Task                  NA       94.19      87\n",
              "10 FT       Frequency of Task (Categories 1-7)  1       12.96      83\n",
              "   Standard_Error Lower_CI_Bound Upper_CI_Bound Recommend_Suppress Date   \n",
              "1  2.48            1.36          12.96          N                  07/2014\n",
              "2  3.86            3.86          20.24          N                  07/2014\n",
              "3  3.44            5.82          19.95          N                  07/2014\n",
              "4  4.37            9.24          26.83          N                  07/2014\n",
              "5  6.03           35.07          58.64          N                  07/2014\n",
              "6  3.40            2.83          17.65          N                  07/2014\n",
              "7  4.30            0.99          23.59          N                  07/2014\n",
              "8  0.08            4.38           4.71          N                  07/2014\n",
              "9  3.35           82.75          98.21          N                  07/2014\n",
              "10 3.77            7.12          22.44          N                  07/2014\n",
              "   Domain_Source\n",
              "1  Incumbent    \n",
              "2  Incumbent    \n",
              "3  Incumbent    \n",
              "4  Incumbent    \n",
              "5  Incumbent    \n",
              "6  Incumbent    \n",
              "7  Incumbent    \n",
              "8  Incumbent    \n",
              "9  Incumbent    \n",
              "10 Incumbent    "
            ],
            "text/latex": "A tibble: 10 × 15\n\\begin{tabular}{lllllllllllllll}\n O*NET-SOC\\_Code & Title & Task\\_ID & Task & Scale\\_ID & Scale\\_Name & Category & Data\\_Value & N & Standard\\_Error & Lower\\_CI\\_Bound & Upper\\_CI\\_Bound & Recommend\\_Suppress & Date & Domain\\_Source\\\\\n <chr> & <chr> & <dbl> & <chr> & <chr> & <chr> & <dbl> & <dbl> & <dbl> & <dbl> & <dbl> & <dbl> & <chr> & <chr> & <chr>\\\\\n\\hline\n\t 11-1011.00 & Chief Executives & 8823 & Direct or coordinate an organization's financial or budget activities to fund operations, maximize investments, or increase efficiency. & FT & Frequency of Task (Categories 1-7) &  1 &  4.34 & 79 & 2.48 &  1.36 & 12.96 & N & 07/2014 & Incumbent\\\\\n\t 11-1011.00 & Chief Executives & 8823 & Direct or coordinate an organization's financial or budget activities to fund operations, maximize investments, or increase efficiency. & FT & Frequency of Task (Categories 1-7) &  2 &  9.16 & 79 & 3.86 &  3.86 & 20.24 & N & 07/2014 & Incumbent\\\\\n\t 11-1011.00 & Chief Executives & 8823 & Direct or coordinate an organization's financial or budget activities to fund operations, maximize investments, or increase efficiency. & FT & Frequency of Task (Categories 1-7) &  3 & 11.04 & 79 & 3.44 &  5.82 & 19.95 & N & 07/2014 & Incumbent\\\\\n\t 11-1011.00 & Chief Executives & 8823 & Direct or coordinate an organization's financial or budget activities to fund operations, maximize investments, or increase efficiency. & FT & Frequency of Task (Categories 1-7) &  4 & 16.19 & 79 & 4.37 &  9.24 & 26.83 & N & 07/2014 & Incumbent\\\\\n\t 11-1011.00 & Chief Executives & 8823 & Direct or coordinate an organization's financial or budget activities to fund operations, maximize investments, or increase efficiency. & FT & Frequency of Task (Categories 1-7) &  5 & 46.67 & 79 & 6.03 & 35.07 & 58.64 & N & 07/2014 & Incumbent\\\\\n\t 11-1011.00 & Chief Executives & 8823 & Direct or coordinate an organization's financial or budget activities to fund operations, maximize investments, or increase efficiency. & FT & Frequency of Task (Categories 1-7) &  6 &  7.33 & 79 & 3.40 &  2.83 & 17.65 & N & 07/2014 & Incumbent\\\\\n\t 11-1011.00 & Chief Executives & 8823 & Direct or coordinate an organization's financial or budget activities to fund operations, maximize investments, or increase efficiency. & FT & Frequency of Task (Categories 1-7) &  7 &  5.26 & 79 & 4.30 &  0.99 & 23.59 & N & 07/2014 & Incumbent\\\\\n\t 11-1011.00 & Chief Executives & 8823 & Direct or coordinate an organization's financial or budget activities to fund operations, maximize investments, or increase efficiency. & IM & Importance                         & NA &  4.54 & 78 & 0.08 &  4.38 &  4.71 & N & 07/2014 & Incumbent\\\\\n\t 11-1011.00 & Chief Executives & 8823 & Direct or coordinate an organization's financial or budget activities to fund operations, maximize investments, or increase efficiency. & RT & Relevance of Task                  & NA & 94.19 & 87 & 3.35 & 82.75 & 98.21 & N & 07/2014 & Incumbent\\\\\n\t 11-1011.00 & Chief Executives & 8831 & Appoint department heads or managers and assign or delegate responsibilities to them.                                                   & FT & Frequency of Task (Categories 1-7) &  1 & 12.96 & 83 & 3.77 &  7.12 & 22.44 & N & 07/2014 & Incumbent\\\\\n\\end{tabular}\n",
            "text/markdown": "\nA tibble: 10 × 15\n\n| O*NET-SOC_Code &lt;chr&gt; | Title &lt;chr&gt; | Task_ID &lt;dbl&gt; | Task &lt;chr&gt; | Scale_ID &lt;chr&gt; | Scale_Name &lt;chr&gt; | Category &lt;dbl&gt; | Data_Value &lt;dbl&gt; | N &lt;dbl&gt; | Standard_Error &lt;dbl&gt; | Lower_CI_Bound &lt;dbl&gt; | Upper_CI_Bound &lt;dbl&gt; | Recommend_Suppress &lt;chr&gt; | Date &lt;chr&gt; | Domain_Source &lt;chr&gt; |\n|---|---|---|---|---|---|---|---|---|---|---|---|---|---|---|\n| 11-1011.00 | Chief Executives | 8823 | Direct or coordinate an organization's financial or budget activities to fund operations, maximize investments, or increase efficiency. | FT | Frequency of Task (Categories 1-7) |  1 |  4.34 | 79 | 2.48 |  1.36 | 12.96 | N | 07/2014 | Incumbent |\n| 11-1011.00 | Chief Executives | 8823 | Direct or coordinate an organization's financial or budget activities to fund operations, maximize investments, or increase efficiency. | FT | Frequency of Task (Categories 1-7) |  2 |  9.16 | 79 | 3.86 |  3.86 | 20.24 | N | 07/2014 | Incumbent |\n| 11-1011.00 | Chief Executives | 8823 | Direct or coordinate an organization's financial or budget activities to fund operations, maximize investments, or increase efficiency. | FT | Frequency of Task (Categories 1-7) |  3 | 11.04 | 79 | 3.44 |  5.82 | 19.95 | N | 07/2014 | Incumbent |\n| 11-1011.00 | Chief Executives | 8823 | Direct or coordinate an organization's financial or budget activities to fund operations, maximize investments, or increase efficiency. | FT | Frequency of Task (Categories 1-7) |  4 | 16.19 | 79 | 4.37 |  9.24 | 26.83 | N | 07/2014 | Incumbent |\n| 11-1011.00 | Chief Executives | 8823 | Direct or coordinate an organization's financial or budget activities to fund operations, maximize investments, or increase efficiency. | FT | Frequency of Task (Categories 1-7) |  5 | 46.67 | 79 | 6.03 | 35.07 | 58.64 | N | 07/2014 | Incumbent |\n| 11-1011.00 | Chief Executives | 8823 | Direct or coordinate an organization's financial or budget activities to fund operations, maximize investments, or increase efficiency. | FT | Frequency of Task (Categories 1-7) |  6 |  7.33 | 79 | 3.40 |  2.83 | 17.65 | N | 07/2014 | Incumbent |\n| 11-1011.00 | Chief Executives | 8823 | Direct or coordinate an organization's financial or budget activities to fund operations, maximize investments, or increase efficiency. | FT | Frequency of Task (Categories 1-7) |  7 |  5.26 | 79 | 4.30 |  0.99 | 23.59 | N | 07/2014 | Incumbent |\n| 11-1011.00 | Chief Executives | 8823 | Direct or coordinate an organization's financial or budget activities to fund operations, maximize investments, or increase efficiency. | IM | Importance                         | NA |  4.54 | 78 | 0.08 |  4.38 |  4.71 | N | 07/2014 | Incumbent |\n| 11-1011.00 | Chief Executives | 8823 | Direct or coordinate an organization's financial or budget activities to fund operations, maximize investments, or increase efficiency. | RT | Relevance of Task                  | NA | 94.19 | 87 | 3.35 | 82.75 | 98.21 | N | 07/2014 | Incumbent |\n| 11-1011.00 | Chief Executives | 8831 | Appoint department heads or managers and assign or delegate responsibilities to them.                                                   | FT | Frequency of Task (Categories 1-7) |  1 | 12.96 | 83 | 3.77 |  7.12 | 22.44 | N | 07/2014 | Incumbent |\n\n",
            "text/html": [
              "<table class=\"dataframe\">\n",
              "<caption>A tibble: 10 × 15</caption>\n",
              "<thead>\n",
              "\t<tr><th scope=col>O*NET-SOC_Code</th><th scope=col>Title</th><th scope=col>Task_ID</th><th scope=col>Task</th><th scope=col>Scale_ID</th><th scope=col>Scale_Name</th><th scope=col>Category</th><th scope=col>Data_Value</th><th scope=col>N</th><th scope=col>Standard_Error</th><th scope=col>Lower_CI_Bound</th><th scope=col>Upper_CI_Bound</th><th scope=col>Recommend_Suppress</th><th scope=col>Date</th><th scope=col>Domain_Source</th></tr>\n",
              "\t<tr><th scope=col>&lt;chr&gt;</th><th scope=col>&lt;chr&gt;</th><th scope=col>&lt;dbl&gt;</th><th scope=col>&lt;chr&gt;</th><th scope=col>&lt;chr&gt;</th><th scope=col>&lt;chr&gt;</th><th scope=col>&lt;dbl&gt;</th><th scope=col>&lt;dbl&gt;</th><th scope=col>&lt;dbl&gt;</th><th scope=col>&lt;dbl&gt;</th><th scope=col>&lt;dbl&gt;</th><th scope=col>&lt;dbl&gt;</th><th scope=col>&lt;chr&gt;</th><th scope=col>&lt;chr&gt;</th><th scope=col>&lt;chr&gt;</th></tr>\n",
              "</thead>\n",
              "<tbody>\n",
              "\t<tr><td>11-1011.00</td><td>Chief Executives</td><td>8823</td><td>Direct or coordinate an organization's financial or budget activities to fund operations, maximize investments, or increase efficiency.</td><td>FT</td><td>Frequency of Task (Categories 1-7)</td><td> 1</td><td> 4.34</td><td>79</td><td>2.48</td><td> 1.36</td><td>12.96</td><td>N</td><td>07/2014</td><td>Incumbent</td></tr>\n",
              "\t<tr><td>11-1011.00</td><td>Chief Executives</td><td>8823</td><td>Direct or coordinate an organization's financial or budget activities to fund operations, maximize investments, or increase efficiency.</td><td>FT</td><td>Frequency of Task (Categories 1-7)</td><td> 2</td><td> 9.16</td><td>79</td><td>3.86</td><td> 3.86</td><td>20.24</td><td>N</td><td>07/2014</td><td>Incumbent</td></tr>\n",
              "\t<tr><td>11-1011.00</td><td>Chief Executives</td><td>8823</td><td>Direct or coordinate an organization's financial or budget activities to fund operations, maximize investments, or increase efficiency.</td><td>FT</td><td>Frequency of Task (Categories 1-7)</td><td> 3</td><td>11.04</td><td>79</td><td>3.44</td><td> 5.82</td><td>19.95</td><td>N</td><td>07/2014</td><td>Incumbent</td></tr>\n",
              "\t<tr><td>11-1011.00</td><td>Chief Executives</td><td>8823</td><td>Direct or coordinate an organization's financial or budget activities to fund operations, maximize investments, or increase efficiency.</td><td>FT</td><td>Frequency of Task (Categories 1-7)</td><td> 4</td><td>16.19</td><td>79</td><td>4.37</td><td> 9.24</td><td>26.83</td><td>N</td><td>07/2014</td><td>Incumbent</td></tr>\n",
              "\t<tr><td>11-1011.00</td><td>Chief Executives</td><td>8823</td><td>Direct or coordinate an organization's financial or budget activities to fund operations, maximize investments, or increase efficiency.</td><td>FT</td><td>Frequency of Task (Categories 1-7)</td><td> 5</td><td>46.67</td><td>79</td><td>6.03</td><td>35.07</td><td>58.64</td><td>N</td><td>07/2014</td><td>Incumbent</td></tr>\n",
              "\t<tr><td>11-1011.00</td><td>Chief Executives</td><td>8823</td><td>Direct or coordinate an organization's financial or budget activities to fund operations, maximize investments, or increase efficiency.</td><td>FT</td><td>Frequency of Task (Categories 1-7)</td><td> 6</td><td> 7.33</td><td>79</td><td>3.40</td><td> 2.83</td><td>17.65</td><td>N</td><td>07/2014</td><td>Incumbent</td></tr>\n",
              "\t<tr><td>11-1011.00</td><td>Chief Executives</td><td>8823</td><td>Direct or coordinate an organization's financial or budget activities to fund operations, maximize investments, or increase efficiency.</td><td>FT</td><td>Frequency of Task (Categories 1-7)</td><td> 7</td><td> 5.26</td><td>79</td><td>4.30</td><td> 0.99</td><td>23.59</td><td>N</td><td>07/2014</td><td>Incumbent</td></tr>\n",
              "\t<tr><td>11-1011.00</td><td>Chief Executives</td><td>8823</td><td>Direct or coordinate an organization's financial or budget activities to fund operations, maximize investments, or increase efficiency.</td><td>IM</td><td>Importance                        </td><td>NA</td><td> 4.54</td><td>78</td><td>0.08</td><td> 4.38</td><td> 4.71</td><td>N</td><td>07/2014</td><td>Incumbent</td></tr>\n",
              "\t<tr><td>11-1011.00</td><td>Chief Executives</td><td>8823</td><td>Direct or coordinate an organization's financial or budget activities to fund operations, maximize investments, or increase efficiency.</td><td>RT</td><td>Relevance of Task                 </td><td>NA</td><td>94.19</td><td>87</td><td>3.35</td><td>82.75</td><td>98.21</td><td>N</td><td>07/2014</td><td>Incumbent</td></tr>\n",
              "\t<tr><td>11-1011.00</td><td>Chief Executives</td><td>8831</td><td>Appoint department heads or managers and assign or delegate responsibilities to them.                                                  </td><td>FT</td><td>Frequency of Task (Categories 1-7)</td><td> 1</td><td>12.96</td><td>83</td><td>3.77</td><td> 7.12</td><td>22.44</td><td>N</td><td>07/2014</td><td>Incumbent</td></tr>\n",
              "</tbody>\n",
              "</table>\n"
            ]
          },
          "metadata": {}
        }
      ],
      "source": [
        " #dplyr::summarize(df_orig)\n",
        "#df_orig[1]\n",
        "#head(df_orig,10) # show 10 random rows\n",
        "#fix col names\n",
        "colnames(df_orig) = gsub(\" \", \"_\", colnames(df_orig))\n",
        "# make.names(colnames(df_orig))\n",
        "head(df_orig,10) # show 10 random rows"
      ]
    },
    {
      "cell_type": "markdown",
      "metadata": {
        "id": "D0AKlsaLnYF6"
      },
      "source": [
        "#### What Titles, Tasks are in the data?\n",
        "\n"
      ]
    },
    {
      "cell_type": "code",
      "execution_count": null,
      "metadata": {
        "id": "djct_jlFnYF8",
        "colab": {
          "base_uri": "https://localhost:8080/",
          "height": 208
        },
        "outputId": "20a9e70d-3c19-4004-ecac-e6cda3cd6a91"
      },
      "outputs": [
        {
          "output_type": "display_data",
          "data": {
            "text/plain": [
              "[1] 873"
            ],
            "text/latex": "873",
            "text/markdown": "873",
            "text/html": [
              "873"
            ]
          },
          "metadata": {}
        },
        {
          "output_type": "display_data",
          "data": {
            "text/plain": [
              " [1] \"Chief Executives\"                         \n",
              " [2] \"Chief Sustainability Officers\"            \n",
              " [3] \"General and Operations Managers\"          \n",
              " [4] \"Advertising and Promotions Managers\"      \n",
              " [5] \"Marketing Managers\"                       \n",
              " [6] \"Sales Managers\"                           \n",
              " [7] \"Administrative Services Managers\"         \n",
              " [8] \"Computer and Information Systems Managers\"\n",
              " [9] \"Financial Managers\"                       \n",
              "[10] \"Treasurers and Controllers\"               "
            ],
            "text/latex": "\\begin{enumerate*}\n\\item 'Chief Executives'\n\\item 'Chief Sustainability Officers'\n\\item 'General and Operations Managers'\n\\item 'Advertising and Promotions Managers'\n\\item 'Marketing Managers'\n\\item 'Sales Managers'\n\\item 'Administrative Services Managers'\n\\item 'Computer and Information Systems Managers'\n\\item 'Financial Managers'\n\\item 'Treasurers and Controllers'\n\\end{enumerate*}\n",
            "text/markdown": "1. 'Chief Executives'\n2. 'Chief Sustainability Officers'\n3. 'General and Operations Managers'\n4. 'Advertising and Promotions Managers'\n5. 'Marketing Managers'\n6. 'Sales Managers'\n7. 'Administrative Services Managers'\n8. 'Computer and Information Systems Managers'\n9. 'Financial Managers'\n10. 'Treasurers and Controllers'\n\n\n",
            "text/html": [
              "<style>\n",
              ".list-inline {list-style: none; margin:0; padding: 0}\n",
              ".list-inline>li {display: inline-block}\n",
              ".list-inline>li:not(:last-child)::after {content: \"\\00b7\"; padding: 0 .5ex}\n",
              "</style>\n",
              "<ol class=list-inline><li>'Chief Executives'</li><li>'Chief Sustainability Officers'</li><li>'General and Operations Managers'</li><li>'Advertising and Promotions Managers'</li><li>'Marketing Managers'</li><li>'Sales Managers'</li><li>'Administrative Services Managers'</li><li>'Computer and Information Systems Managers'</li><li>'Financial Managers'</li><li>'Treasurers and Controllers'</li></ol>\n"
            ]
          },
          "metadata": {}
        },
        {
          "output_type": "display_data",
          "data": {
            "text/plain": [
              "[1] 16833"
            ],
            "text/latex": "16833",
            "text/markdown": "16833",
            "text/html": [
              "16833"
            ]
          },
          "metadata": {}
        },
        {
          "output_type": "display_data",
          "data": {
            "text/plain": [
              " [1] \"Direct or coordinate an organization's financial or budget activities to fund operations, maximize investments, or increase efficiency.\"                                                                      \n",
              " [2] \"Appoint department heads or managers and assign or delegate responsibilities to them.\"                                                                                                                        \n",
              " [3] \"Analyze operations to evaluate performance of a company or its staff in meeting objectives or to determine areas of potential cost reduction, program improvement, or policy change.\"                         \n",
              " [4] \"Direct, plan, or implement policies, objectives, or activities of organizations or businesses to ensure continuing operations, to maximize returns on investments, or to increase productivity.\"              \n",
              " [5] \"Prepare budgets for approval, including those for funding or implementation of programs.\"                                                                                                                     \n",
              " [6] \"Confer with board members, organization officials, or staff members to discuss issues, coordinate activities, or resolve problems.\"                                                                           \n",
              " [7] \"Implement corrective action plans to solve organizational or departmental problems.\"                                                                                                                          \n",
              " [8] \"Direct human resources activities, including the approval of human resource plans or activities, the selection of directors or other high-level staff, or establishment or organization of major departments.\"\n",
              " [9] \"Establish departmental responsibilities and coordinate functions among departments and sites.\"                                                                                                                \n",
              "[10] \"Preside over, or serve on, boards of directors, management committees, or other governing boards.\"                                                                                                            "
            ],
            "text/latex": "\\begin{enumerate*}\n\\item 'Direct or coordinate an organization\\textbackslash{}'s financial or budget activities to fund operations, maximize investments, or increase efficiency.'\n\\item 'Appoint department heads or managers and assign or delegate responsibilities to them.'\n\\item 'Analyze operations to evaluate performance of a company or its staff in meeting objectives or to determine areas of potential cost reduction, program improvement, or policy change.'\n\\item 'Direct, plan, or implement policies, objectives, or activities of organizations or businesses to ensure continuing operations, to maximize returns on investments, or to increase productivity.'\n\\item 'Prepare budgets for approval, including those for funding or implementation of programs.'\n\\item 'Confer with board members, organization officials, or staff members to discuss issues, coordinate activities, or resolve problems.'\n\\item 'Implement corrective action plans to solve organizational or departmental problems.'\n\\item 'Direct human resources activities, including the approval of human resource plans or activities, the selection of directors or other high-level staff, or establishment or organization of major departments.'\n\\item 'Establish departmental responsibilities and coordinate functions among departments and sites.'\n\\item 'Preside over, or serve on, boards of directors, management committees, or other governing boards.'\n\\end{enumerate*}\n",
            "text/markdown": "1. 'Direct or coordinate an organization\\'s financial or budget activities to fund operations, maximize investments, or increase efficiency.'\n2. 'Appoint department heads or managers and assign or delegate responsibilities to them.'\n3. 'Analyze operations to evaluate performance of a company or its staff in meeting objectives or to determine areas of potential cost reduction, program improvement, or policy change.'\n4. 'Direct, plan, or implement policies, objectives, or activities of organizations or businesses to ensure continuing operations, to maximize returns on investments, or to increase productivity.'\n5. 'Prepare budgets for approval, including those for funding or implementation of programs.'\n6. 'Confer with board members, organization officials, or staff members to discuss issues, coordinate activities, or resolve problems.'\n7. 'Implement corrective action plans to solve organizational or departmental problems.'\n8. 'Direct human resources activities, including the approval of human resource plans or activities, the selection of directors or other high-level staff, or establishment or organization of major departments.'\n9. 'Establish departmental responsibilities and coordinate functions among departments and sites.'\n10. 'Preside over, or serve on, boards of directors, management committees, or other governing boards.'\n\n\n",
            "text/html": [
              "<style>\n",
              ".list-inline {list-style: none; margin:0; padding: 0}\n",
              ".list-inline>li {display: inline-block}\n",
              ".list-inline>li:not(:last-child)::after {content: \"\\00b7\"; padding: 0 .5ex}\n",
              "</style>\n",
              "<ol class=list-inline><li>'Direct or coordinate an organization\\'s financial or budget activities to fund operations, maximize investments, or increase efficiency.'</li><li>'Appoint department heads or managers and assign or delegate responsibilities to them.'</li><li>'Analyze operations to evaluate performance of a company or its staff in meeting objectives or to determine areas of potential cost reduction, program improvement, or policy change.'</li><li>'Direct, plan, or implement policies, objectives, or activities of organizations or businesses to ensure continuing operations, to maximize returns on investments, or to increase productivity.'</li><li>'Prepare budgets for approval, including those for funding or implementation of programs.'</li><li>'Confer with board members, organization officials, or staff members to discuss issues, coordinate activities, or resolve problems.'</li><li>'Implement corrective action plans to solve organizational or departmental problems.'</li><li>'Direct human resources activities, including the approval of human resource plans or activities, the selection of directors or other high-level staff, or establishment or organization of major departments.'</li><li>'Establish departmental responsibilities and coordinate functions among departments and sites.'</li><li>'Preside over, or serve on, boards of directors, management committees, or other governing boards.'</li></ol>\n"
            ]
          },
          "metadata": {}
        },
        {
          "output_type": "display_data",
          "data": {
            "text/plain": [
              "[1] 15"
            ],
            "text/latex": "15",
            "text/markdown": "15",
            "text/html": [
              "15"
            ]
          },
          "metadata": {}
        }
      ],
      "source": [
        "length(unique(df_orig$Title))\n",
        "head(unique(df_orig$Title),10)\n",
        "\n",
        "length(unique(df_orig$Task))\n",
        "head(unique(df_orig$Task),10)\n",
        "\n",
        "length(df_orig)\n"
      ]
    },
    {
      "cell_type": "markdown",
      "metadata": {
        "id": "GHU9uHV-nYF-"
      },
      "source": [
        "#### How many Data Scales are in the data?\n",
        "\n"
      ]
    },
    {
      "cell_type": "code",
      "execution_count": null,
      "metadata": {
        "id": "iJWWxT8fnYGC",
        "colab": {
          "base_uri": "https://localhost:8080/",
          "height": 52
        },
        "outputId": "d41c93cf-f4d8-4040-fae2-173727f9d557"
      },
      "outputs": [
        {
          "output_type": "display_data",
          "data": {
            "text/plain": [
              "[1] \"Frequency of Task (Categories 1-7)\" \"Importance\"                        \n",
              "[3] \"Relevance of Task\"                 "
            ],
            "text/latex": "\\begin{enumerate*}\n\\item 'Frequency of Task (Categories 1-7)'\n\\item 'Importance'\n\\item 'Relevance of Task'\n\\end{enumerate*}\n",
            "text/markdown": "1. 'Frequency of Task (Categories 1-7)'\n2. 'Importance'\n3. 'Relevance of Task'\n\n\n",
            "text/html": [
              "<style>\n",
              ".list-inline {list-style: none; margin:0; padding: 0}\n",
              ".list-inline>li {display: inline-block}\n",
              ".list-inline>li:not(:last-child)::after {content: \"\\00b7\"; padding: 0 .5ex}\n",
              "</style>\n",
              "<ol class=list-inline><li>'Frequency of Task (Categories 1-7)'</li><li>'Importance'</li><li>'Relevance of Task'</li></ol>\n"
            ]
          },
          "metadata": {}
        },
        {
          "output_type": "display_data",
          "data": {
            "text/plain": [
              "[1]  1  2  3  4  5  6  7 NA"
            ],
            "text/latex": "\\begin{enumerate*}\n\\item 1\n\\item 2\n\\item 3\n\\item 4\n\\item 5\n\\item 6\n\\item 7\n\\item <NA>\n\\end{enumerate*}\n",
            "text/markdown": "1. 1\n2. 2\n3. 3\n4. 4\n5. 5\n6. 6\n7. 7\n8. &lt;NA&gt;\n\n\n",
            "text/html": [
              "<style>\n",
              ".list-inline {list-style: none; margin:0; padding: 0}\n",
              ".list-inline>li {display: inline-block}\n",
              ".list-inline>li:not(:last-child)::after {content: \"\\00b7\"; padding: 0 .5ex}\n",
              "</style>\n",
              "<ol class=list-inline><li>1</li><li>2</li><li>3</li><li>4</li><li>5</li><li>6</li><li>7</li><li>&lt;NA&gt;</li></ol>\n"
            ]
          },
          "metadata": {}
        }
      ],
      "source": [
        "unique(df_orig$Scale_Name)\n",
        "unique(df_orig$Category)\n"
      ]
    },
    {
      "cell_type": "markdown",
      "metadata": {
        "id": "1Q-da0IcnYGF"
      },
      "source": [
        "Currently the information available is Importance, Relevance, and Frequency of Task Category (Intensity).\n",
        "\n"
      ]
    },
    {
      "cell_type": "markdown",
      "metadata": {
        "id": "NicmiKjcnYGG"
      },
      "source": [
        "If we&rsquo;re interested in finding data on certain job titles / task Lets take example of top tasks for a given job titles\n",
        "\n"
      ]
    },
    {
      "cell_type": "code",
      "execution_count": null,
      "metadata": {
        "id": "YK-wxz9PnYGI",
        "colab": {
          "base_uri": "https://localhost:8080/",
          "height": 556
        },
        "outputId": "4cc97b71-7032-44d3-cae6-a2d027ebd3fc"
      },
      "outputs": [
        {
          "output_type": "display_data",
          "data": {
            "text/plain": [
              "  Title           \n",
              "1 Chief Executives\n",
              "2 Chief Executives\n",
              "3 Chief Executives\n",
              "4 Chief Executives\n",
              "5 Chief Executives\n",
              "6 Chief Executives\n",
              "  Task                                                                                                                                                                                           \n",
              "1 Direct or coordinate an organization's financial or budget activities to fund operations, maximize investments, or increase efficiency.                                                        \n",
              "2 Appoint department heads or managers and assign or delegate responsibilities to them.                                                                                                          \n",
              "3 Analyze operations to evaluate performance of a company or its staff in meeting objectives or to determine areas of potential cost reduction, program improvement, or policy change.           \n",
              "4 Direct, plan, or implement policies, objectives, or activities of organizations or businesses to ensure continuing operations, to maximize returns on investments, or to increase productivity.\n",
              "5 Direct or coordinate activities of businesses or departments concerned with production, pricing, sales, or distribution of products.                                                           \n",
              "6 Prepare budgets for approval, including those for funding or implementation of programs.                                                                                                       \n",
              "  Data_Value\n",
              "1 4.54      \n",
              "2 4.48      \n",
              "3 4.40      \n",
              "4 4.39      \n",
              "5 4.25      \n",
              "6 4.17      "
            ],
            "text/latex": "A tibble: 6 × 3\n\\begin{tabular}{lll}\n Title & Task & Data\\_Value\\\\\n <chr> & <chr> & <dbl>\\\\\n\\hline\n\t Chief Executives & Direct or coordinate an organization's financial or budget activities to fund operations, maximize investments, or increase efficiency.                                                         & 4.54\\\\\n\t Chief Executives & Appoint department heads or managers and assign or delegate responsibilities to them.                                                                                                           & 4.48\\\\\n\t Chief Executives & Analyze operations to evaluate performance of a company or its staff in meeting objectives or to determine areas of potential cost reduction, program improvement, or policy change.            & 4.40\\\\\n\t Chief Executives & Direct, plan, or implement policies, objectives, or activities of organizations or businesses to ensure continuing operations, to maximize returns on investments, or to increase productivity. & 4.39\\\\\n\t Chief Executives & Direct or coordinate activities of businesses or departments concerned with production, pricing, sales, or distribution of products.                                                            & 4.25\\\\\n\t Chief Executives & Prepare budgets for approval, including those for funding or implementation of programs.                                                                                                        & 4.17\\\\\n\\end{tabular}\n",
            "text/markdown": "\nA tibble: 6 × 3\n\n| Title &lt;chr&gt; | Task &lt;chr&gt; | Data_Value &lt;dbl&gt; |\n|---|---|---|\n| Chief Executives | Direct or coordinate an organization's financial or budget activities to fund operations, maximize investments, or increase efficiency.                                                         | 4.54 |\n| Chief Executives | Appoint department heads or managers and assign or delegate responsibilities to them.                                                                                                           | 4.48 |\n| Chief Executives | Analyze operations to evaluate performance of a company or its staff in meeting objectives or to determine areas of potential cost reduction, program improvement, or policy change.            | 4.40 |\n| Chief Executives | Direct, plan, or implement policies, objectives, or activities of organizations or businesses to ensure continuing operations, to maximize returns on investments, or to increase productivity. | 4.39 |\n| Chief Executives | Direct or coordinate activities of businesses or departments concerned with production, pricing, sales, or distribution of products.                                                            | 4.25 |\n| Chief Executives | Prepare budgets for approval, including those for funding or implementation of programs.                                                                                                        | 4.17 |\n\n",
            "text/html": [
              "<table class=\"dataframe\">\n",
              "<caption>A tibble: 6 × 3</caption>\n",
              "<thead>\n",
              "\t<tr><th scope=col>Title</th><th scope=col>Task</th><th scope=col>Data_Value</th></tr>\n",
              "\t<tr><th scope=col>&lt;chr&gt;</th><th scope=col>&lt;chr&gt;</th><th scope=col>&lt;dbl&gt;</th></tr>\n",
              "</thead>\n",
              "<tbody>\n",
              "\t<tr><td>Chief Executives</td><td>Direct or coordinate an organization's financial or budget activities to fund operations, maximize investments, or increase efficiency.                                                        </td><td>4.54</td></tr>\n",
              "\t<tr><td>Chief Executives</td><td>Appoint department heads or managers and assign or delegate responsibilities to them.                                                                                                          </td><td>4.48</td></tr>\n",
              "\t<tr><td>Chief Executives</td><td>Analyze operations to evaluate performance of a company or its staff in meeting objectives or to determine areas of potential cost reduction, program improvement, or policy change.           </td><td>4.40</td></tr>\n",
              "\t<tr><td>Chief Executives</td><td>Direct, plan, or implement policies, objectives, or activities of organizations or businesses to ensure continuing operations, to maximize returns on investments, or to increase productivity.</td><td>4.39</td></tr>\n",
              "\t<tr><td>Chief Executives</td><td>Direct or coordinate activities of businesses or departments concerned with production, pricing, sales, or distribution of products.                                                           </td><td>4.25</td></tr>\n",
              "\t<tr><td>Chief Executives</td><td>Prepare budgets for approval, including those for funding or implementation of programs.                                                                                                       </td><td>4.17</td></tr>\n",
              "</tbody>\n",
              "</table>\n"
            ]
          },
          "metadata": {}
        },
        {
          "output_type": "display_data",
          "data": {
            "text/plain": [
              "  Title                      \n",
              "1 Tire Repairers and Changers\n",
              "2 Tire Repairers and Changers\n",
              "3 Tire Repairers and Changers\n",
              "4 Tire Repairers and Changers\n",
              "5 Tire Repairers and Changers\n",
              "6 Tire Repairers and Changers\n",
              "  Task                                                                                      \n",
              "1 Raise vehicles, using hydraulic jacks.                                                    \n",
              "2 Remount wheels onto vehicles.                                                             \n",
              "3 Unbolt and remove wheels from vehicles, using lug wrenches or other hand or power tools.  \n",
              "4 Place wheels on balancing machines to determine counterweights required to balance wheels.\n",
              "5 Identify tire size and ply and inflate tires accordingly.                                 \n",
              "6 Replace valve stems and remove puncturing objects.                                        \n",
              "  Data_Value\n",
              "1 4.62      \n",
              "2 4.56      \n",
              "3 4.51      \n",
              "4 4.50      \n",
              "5 4.50      \n",
              "6 4.37      "
            ],
            "text/latex": "A tibble: 6 × 3\n\\begin{tabular}{lll}\n Title & Task & Data\\_Value\\\\\n <chr> & <chr> & <dbl>\\\\\n\\hline\n\t Tire Repairers and Changers & Raise vehicles, using hydraulic jacks.                                                     & 4.62\\\\\n\t Tire Repairers and Changers & Remount wheels onto vehicles.                                                              & 4.56\\\\\n\t Tire Repairers and Changers & Unbolt and remove wheels from vehicles, using lug wrenches or other hand or power tools.   & 4.51\\\\\n\t Tire Repairers and Changers & Place wheels on balancing machines to determine counterweights required to balance wheels. & 4.50\\\\\n\t Tire Repairers and Changers & Identify tire size and ply and inflate tires accordingly.                                  & 4.50\\\\\n\t Tire Repairers and Changers & Replace valve stems and remove puncturing objects.                                         & 4.37\\\\\n\\end{tabular}\n",
            "text/markdown": "\nA tibble: 6 × 3\n\n| Title &lt;chr&gt; | Task &lt;chr&gt; | Data_Value &lt;dbl&gt; |\n|---|---|---|\n| Tire Repairers and Changers | Raise vehicles, using hydraulic jacks.                                                     | 4.62 |\n| Tire Repairers and Changers | Remount wheels onto vehicles.                                                              | 4.56 |\n| Tire Repairers and Changers | Unbolt and remove wheels from vehicles, using lug wrenches or other hand or power tools.   | 4.51 |\n| Tire Repairers and Changers | Place wheels on balancing machines to determine counterweights required to balance wheels. | 4.50 |\n| Tire Repairers and Changers | Identify tire size and ply and inflate tires accordingly.                                  | 4.50 |\n| Tire Repairers and Changers | Replace valve stems and remove puncturing objects.                                         | 4.37 |\n\n",
            "text/html": [
              "<table class=\"dataframe\">\n",
              "<caption>A tibble: 6 × 3</caption>\n",
              "<thead>\n",
              "\t<tr><th scope=col>Title</th><th scope=col>Task</th><th scope=col>Data_Value</th></tr>\n",
              "\t<tr><th scope=col>&lt;chr&gt;</th><th scope=col>&lt;chr&gt;</th><th scope=col>&lt;dbl&gt;</th></tr>\n",
              "</thead>\n",
              "<tbody>\n",
              "\t<tr><td>Tire Repairers and Changers</td><td>Raise vehicles, using hydraulic jacks.                                                    </td><td>4.62</td></tr>\n",
              "\t<tr><td>Tire Repairers and Changers</td><td>Remount wheels onto vehicles.                                                             </td><td>4.56</td></tr>\n",
              "\t<tr><td>Tire Repairers and Changers</td><td>Unbolt and remove wheels from vehicles, using lug wrenches or other hand or power tools.  </td><td>4.51</td></tr>\n",
              "\t<tr><td>Tire Repairers and Changers</td><td>Place wheels on balancing machines to determine counterweights required to balance wheels.</td><td>4.50</td></tr>\n",
              "\t<tr><td>Tire Repairers and Changers</td><td>Identify tire size and ply and inflate tires accordingly.                                 </td><td>4.50</td></tr>\n",
              "\t<tr><td>Tire Repairers and Changers</td><td>Replace valve stems and remove puncturing objects.                                        </td><td>4.37</td></tr>\n",
              "</tbody>\n",
              "</table>\n"
            ]
          },
          "metadata": {}
        }
      ],
      "source": [
        "STRING <- 'Chief Executives'\n",
        "df_orig %>%\n",
        "  filter(grepl(STRING, Title), Scale_Name == \"Importance\")  %>%\n",
        "   arrange(desc(Data_Value)) %>%\n",
        "  select(Title, Task, Data_Value)  %>%\n",
        "  head()\n",
        "\n",
        "  STRING <- 'Tire Repairers and Changers'\n",
        "df_orig %>%\n",
        "  filter(grepl(STRING, Title), Scale_Name == \"Importance\")  %>%\n",
        "   arrange(desc(Data_Value)) %>%\n",
        "  select(Title, Task, Data_Value)  %>%\n",
        "  head()"
      ]
    },
    {
      "cell_type": "markdown",
      "metadata": {
        "id": "hDmxISTxnYGg"
      },
      "source": [
        "## Revealed job importance "
      ]
    },
    {
      "cell_type": "markdown",
      "metadata": {
        "id": "MPL6egkpnYGi"
      },
      "source": [
        "Onet database classifies the task importance in a job based on survey, which is a good initial indicator of initial assumtpion:\n",
        "We can go to the next stage to determine this importance for ourselves.\n",
        "\n",
        "\n",
        "___\n",
        "\n",
        "What products are countries specialized in? For that, following Hidalgo et al. (2007), we calculate the Revealed Comparative Advantage (RCA) of each country-product pair: how much a country &rsquo;over-exports&rsquo; a product in comparison to all other countries.\n",
        "\n",
        "Technically this is the Balassa index of comparative advantage, calculated as follows for product $p$ and country $c$ at time $t$:\n",
        "\n",
        "\\begin{equation} \\label{e_RCA}\n",
        "{RCA}_{cpt}=\\frac{X_{cpt}/X_{ct}}{X_{pt}/X_{t}}\n",
        "\\tag{1}\n",
        "\\end{equation}\n",
        "\n",
        "where $X_{cpt}$ represents the total value of country $c$’s exports of product $p$ at time $t$ across all importers. An omitted subscript indicates a summation over the omitted dimension, e.g.: $X_{t}=\\sum \\limits_{c,p,t} X_{cpt}$.\n",
        "\n",
        "A product-country pair with $RCA>1$ means that the product is over-represented in the country&rsquo;s export basket.\n",
        "\n",
        "We use the original trade dataset (&rsquo;df<sub>orig</sub>&rsquo;) that is loaded into memory, calculating RCAs as follows:\n",
        "\n"
      ]
    },
    {
      "cell_type": "code",
      "source": [
        " #df_all <-\n",
        "  df_orig %>%\n",
        "    filter(Scale_Name == \"Importance\") %>%\n",
        "    select(Title,Task, Data_Value) %>%\n",
        "    head()"
      ],
      "metadata": {
        "colab": {
          "base_uri": "https://localhost:8080/",
          "height": 286
        },
        "id": "jMKjnPm2f4QR",
        "outputId": "dc00695e-b772-4fe3-da87-583c83e9d005"
      },
      "execution_count": null,
      "outputs": [
        {
          "output_type": "display_data",
          "data": {
            "text/plain": [
              "  Title           \n",
              "1 Chief Executives\n",
              "2 Chief Executives\n",
              "3 Chief Executives\n",
              "4 Chief Executives\n",
              "5 Chief Executives\n",
              "6 Chief Executives\n",
              "  Task                                                                                                                                                                                           \n",
              "1 Direct or coordinate an organization's financial or budget activities to fund operations, maximize investments, or increase efficiency.                                                        \n",
              "2 Appoint department heads or managers and assign or delegate responsibilities to them.                                                                                                          \n",
              "3 Analyze operations to evaluate performance of a company or its staff in meeting objectives or to determine areas of potential cost reduction, program improvement, or policy change.           \n",
              "4 Direct, plan, or implement policies, objectives, or activities of organizations or businesses to ensure continuing operations, to maximize returns on investments, or to increase productivity.\n",
              "5 Prepare budgets for approval, including those for funding or implementation of programs.                                                                                                       \n",
              "6 Confer with board members, organization officials, or staff members to discuss issues, coordinate activities, or resolve problems.                                                             \n",
              "  Data_Value\n",
              "1 4.54      \n",
              "2 4.48      \n",
              "3 4.40      \n",
              "4 4.39      \n",
              "5 4.17      \n",
              "6 4.15      "
            ],
            "text/latex": "A tibble: 6 × 3\n\\begin{tabular}{lll}\n Title & Task & Data\\_Value\\\\\n <chr> & <chr> & <dbl>\\\\\n\\hline\n\t Chief Executives & Direct or coordinate an organization's financial or budget activities to fund operations, maximize investments, or increase efficiency.                                                         & 4.54\\\\\n\t Chief Executives & Appoint department heads or managers and assign or delegate responsibilities to them.                                                                                                           & 4.48\\\\\n\t Chief Executives & Analyze operations to evaluate performance of a company or its staff in meeting objectives or to determine areas of potential cost reduction, program improvement, or policy change.            & 4.40\\\\\n\t Chief Executives & Direct, plan, or implement policies, objectives, or activities of organizations or businesses to ensure continuing operations, to maximize returns on investments, or to increase productivity. & 4.39\\\\\n\t Chief Executives & Prepare budgets for approval, including those for funding or implementation of programs.                                                                                                        & 4.17\\\\\n\t Chief Executives & Confer with board members, organization officials, or staff members to discuss issues, coordinate activities, or resolve problems.                                                              & 4.15\\\\\n\\end{tabular}\n",
            "text/markdown": "\nA tibble: 6 × 3\n\n| Title &lt;chr&gt; | Task &lt;chr&gt; | Data_Value &lt;dbl&gt; |\n|---|---|---|\n| Chief Executives | Direct or coordinate an organization's financial or budget activities to fund operations, maximize investments, or increase efficiency.                                                         | 4.54 |\n| Chief Executives | Appoint department heads or managers and assign or delegate responsibilities to them.                                                                                                           | 4.48 |\n| Chief Executives | Analyze operations to evaluate performance of a company or its staff in meeting objectives or to determine areas of potential cost reduction, program improvement, or policy change.            | 4.40 |\n| Chief Executives | Direct, plan, or implement policies, objectives, or activities of organizations or businesses to ensure continuing operations, to maximize returns on investments, or to increase productivity. | 4.39 |\n| Chief Executives | Prepare budgets for approval, including those for funding or implementation of programs.                                                                                                        | 4.17 |\n| Chief Executives | Confer with board members, organization officials, or staff members to discuss issues, coordinate activities, or resolve problems.                                                              | 4.15 |\n\n",
            "text/html": [
              "<table class=\"dataframe\">\n",
              "<caption>A tibble: 6 × 3</caption>\n",
              "<thead>\n",
              "\t<tr><th scope=col>Title</th><th scope=col>Task</th><th scope=col>Data_Value</th></tr>\n",
              "\t<tr><th scope=col>&lt;chr&gt;</th><th scope=col>&lt;chr&gt;</th><th scope=col>&lt;dbl&gt;</th></tr>\n",
              "</thead>\n",
              "<tbody>\n",
              "\t<tr><td>Chief Executives</td><td>Direct or coordinate an organization's financial or budget activities to fund operations, maximize investments, or increase efficiency.                                                        </td><td>4.54</td></tr>\n",
              "\t<tr><td>Chief Executives</td><td>Appoint department heads or managers and assign or delegate responsibilities to them.                                                                                                          </td><td>4.48</td></tr>\n",
              "\t<tr><td>Chief Executives</td><td>Analyze operations to evaluate performance of a company or its staff in meeting objectives or to determine areas of potential cost reduction, program improvement, or policy change.           </td><td>4.40</td></tr>\n",
              "\t<tr><td>Chief Executives</td><td>Direct, plan, or implement policies, objectives, or activities of organizations or businesses to ensure continuing operations, to maximize returns on investments, or to increase productivity.</td><td>4.39</td></tr>\n",
              "\t<tr><td>Chief Executives</td><td>Prepare budgets for approval, including those for funding or implementation of programs.                                                                                                       </td><td>4.17</td></tr>\n",
              "\t<tr><td>Chief Executives</td><td>Confer with board members, organization officials, or staff members to discuss issues, coordinate activities, or resolve problems.                                                             </td><td>4.15</td></tr>\n",
              "</tbody>\n",
              "</table>\n"
            ]
          },
          "metadata": {}
        }
      ]
    },
    {
      "cell_type": "code",
      "execution_count": null,
      "metadata": {
        "id": "pDMaYvTRnYGm"
      },
      "outputs": [],
      "source": [
        "#Todo: Update name later\n",
        "calc_rca <- function(data,job_col,task_col,selection_col,selection_value, value_col, product_code) {\n",
        "    # - add all possible products for each country with export value 0\n",
        "    # - else matrices later on will have missing values in them, complicating calculations\n",
        "    df_all <- data %>%\n",
        "    filter(selection_col == selection_value) %>%\n",
        "    select(job_col,task_col, value_col, product_code)\n",
        "\n",
        "    #####\n",
        "    return(df_all)\n",
        "}"
      ]
    },
    {
      "cell_type": "markdown",
      "metadata": {
        "id": "OIRFmU6lnYGq"
      },
      "source": [
        "Calculate RCAs:\n",
        "\n"
      ]
    },
    {
      "cell_type": "code",
      "execution_count": null,
      "metadata": {
        "id": "trHCb8CXnYGx",
        "colab": {
          "base_uri": "https://localhost:8080/"
        },
        "outputId": "909c0482-3607-45d7-d4b1-98ff55c140cf"
      },
      "outputs": [
        {
          "output_type": "stream",
          "name": "stdout",
          "text": [
            "[1] \"df_rca ready\"\n"
          ]
        }
      ],
      "source": [
        "# rename columns accordingly\n",
        "df_orig2 <- df_orig;\n",
        "\n",
        "df_rca <- df_orig2 %>%\n",
        "  mutate(selection_col = Scale_Name,\n",
        "         job_col = Title,\n",
        "         task_col = Task,\n",
        "         value_col = Data_Value,\n",
        "         product_code = Task_ID)\n",
        "\n",
        "# calculate RCAs\n",
        "df_rca <- calc_rca(data=df_rca,job_col,task_col,selection_col,\"Importance\", value_col, product_code)\n",
        "\n",
        "\n",
        "\n",
        "print('df_rca ready')"
      ]
    },
    {
      "cell_type": "markdown",
      "metadata": {
        "id": "CZLFQAGnnYG1"
      },
      "source": [
        "( Sidenote: in Python you can run it as follows - without renaming columns beforehand - which may be little more intuitive:\n",
        "\n",
        "df \\_ rca = calc \\_ rca(data=df \\_ orig,country \\_ col=&rsquo;country \\_ name&rsquo;,product \\_ col=&rsquo;product \\_ name&rsquo;,time \\_ col=&rsquo;year&rsquo;,value \\_ col=&rsquo;export \\_ value&rsquo;)\n",
        "\n",
        "but when passing in column names from tidyverse into functions you quickly run into issues with tidyverse where non-standard evaluation (NSE) is common - symbols being evaluated in the context of the tibble / dataframe in use. Hence you&rsquo;d have to program it such as &ldquo;group \\_ by(!!sym(country \\_ col),!!sym(time \\_ col)) %>%&rdquo; which quickly becomes painful.\n",
        "\n",
        "Informative post here: [https://www.brodieg.com/2020/05/05/on-nse/> ](https://www.brodieg.com/2020/05/05/on-nse/> ))\n",
        "\n"
      ]
    },
    {
      "cell_type": "markdown",
      "metadata": {
        "id": "s35NxQyQnYG4"
      },
      "source": [
        "### Sample of dataset\n",
        "\n"
      ]
    },
    {
      "cell_type": "code",
      "execution_count": null,
      "metadata": {
        "id": "VxZwZT8inYG6",
        "colab": {
          "base_uri": "https://localhost:8080/",
          "height": 952
        },
        "outputId": "bc155f8b-d15c-46ac-f960-9927471073a3"
      },
      "outputs": [
        {
          "output_type": "display_data",
          "data": {
            "text/plain": [
              "  job_col                                                                 \n",
              "1 Music Directors and Composers                                           \n",
              "2 Compliance Officers                                                     \n",
              "3 Multiple Machine Tool Setters, Operators, and Tenders, Metal and Plastic\n",
              "4 Marine Engineers and Naval Architects                                   \n",
              "5 Producers and Directors                                                 \n",
              "  task_col                                                                                                                                                \n",
              "1 Audition and select performers for musical presentations.                                                                                               \n",
              "2 Score tests and observe equipment operation and control to rate ability of applicants.                                                                  \n",
              "3 Instruct other workers in machine set-up and operation.                                                                                                 \n",
              "4 Investigate and observe tests on machinery and equipment for compliance with standards.                                                                 \n",
              "5 Consult with writers, producers, or actors about script changes or \"workshop\" scripts, through rehearsal with writers and actors to create final drafts.\n",
              "  value_col product_code\n",
              "1 4.15      22552       \n",
              "2 4.28      21456       \n",
              "3 3.68      10218       \n",
              "4 3.67      21901       \n",
              "5 3.94      22524       "
            ],
            "text/latex": "A tibble: 5 × 4\n\\begin{tabular}{llll}\n job\\_col & task\\_col & value\\_col & product\\_code\\\\\n <chr> & <chr> & <dbl> & <dbl>\\\\\n\\hline\n\t Music Directors and Composers                                            & Audition and select performers for musical presentations.                                                                                                & 4.15 & 22552\\\\\n\t Compliance Officers                                                      & Score tests and observe equipment operation and control to rate ability of applicants.                                                                   & 4.28 & 21456\\\\\n\t Multiple Machine Tool Setters, Operators, and Tenders, Metal and Plastic & Instruct other workers in machine set-up and operation.                                                                                                  & 3.68 & 10218\\\\\n\t Marine Engineers and Naval Architects                                    & Investigate and observe tests on machinery and equipment for compliance with standards.                                                                  & 3.67 & 21901\\\\\n\t Producers and Directors                                                  & Consult with writers, producers, or actors about script changes or \"workshop\" scripts, through rehearsal with writers and actors to create final drafts. & 3.94 & 22524\\\\\n\\end{tabular}\n",
            "text/markdown": "\nA tibble: 5 × 4\n\n| job_col &lt;chr&gt; | task_col &lt;chr&gt; | value_col &lt;dbl&gt; | product_code &lt;dbl&gt; |\n|---|---|---|---|\n| Music Directors and Composers                                            | Audition and select performers for musical presentations.                                                                                                | 4.15 | 22552 |\n| Compliance Officers                                                      | Score tests and observe equipment operation and control to rate ability of applicants.                                                                   | 4.28 | 21456 |\n| Multiple Machine Tool Setters, Operators, and Tenders, Metal and Plastic | Instruct other workers in machine set-up and operation.                                                                                                  | 3.68 | 10218 |\n| Marine Engineers and Naval Architects                                    | Investigate and observe tests on machinery and equipment for compliance with standards.                                                                  | 3.67 | 21901 |\n| Producers and Directors                                                  | Consult with writers, producers, or actors about script changes or \"workshop\" scripts, through rehearsal with writers and actors to create final drafts. | 3.94 | 22524 |\n\n",
            "text/html": [
              "<table class=\"dataframe\">\n",
              "<caption>A tibble: 5 × 4</caption>\n",
              "<thead>\n",
              "\t<tr><th scope=col>job_col</th><th scope=col>task_col</th><th scope=col>value_col</th><th scope=col>product_code</th></tr>\n",
              "\t<tr><th scope=col>&lt;chr&gt;</th><th scope=col>&lt;chr&gt;</th><th scope=col>&lt;dbl&gt;</th><th scope=col>&lt;dbl&gt;</th></tr>\n",
              "</thead>\n",
              "<tbody>\n",
              "\t<tr><td>Music Directors and Composers                                           </td><td>Audition and select performers for musical presentations.                                                                                               </td><td>4.15</td><td>22552</td></tr>\n",
              "\t<tr><td>Compliance Officers                                                     </td><td>Score tests and observe equipment operation and control to rate ability of applicants.                                                                  </td><td>4.28</td><td>21456</td></tr>\n",
              "\t<tr><td>Multiple Machine Tool Setters, Operators, and Tenders, Metal and Plastic</td><td>Instruct other workers in machine set-up and operation.                                                                                                 </td><td>3.68</td><td>10218</td></tr>\n",
              "\t<tr><td>Marine Engineers and Naval Architects                                   </td><td>Investigate and observe tests on machinery and equipment for compliance with standards.                                                                 </td><td>3.67</td><td>21901</td></tr>\n",
              "\t<tr><td>Producers and Directors                                                 </td><td>Consult with writers, producers, or actors about script changes or \"workshop\" scripts, through rehearsal with writers and actors to create final drafts.</td><td>3.94</td><td>22524</td></tr>\n",
              "</tbody>\n",
              "</table>\n"
            ]
          },
          "metadata": {}
        }
      ],
      "source": [
        "sample_n(df_rca,5)"
      ]
    },
    {
      "cell_type": "markdown",
      "metadata": {
        "id": "HYRWIOgAnYG7"
      },
      "source": [
        "### Example: What tasks are The CEOs and Tire Repairers and Changers specialized in?\n",
        "\n"
      ]
    },
    {
      "cell_type": "code",
      "execution_count": null,
      "metadata": {
        "id": "obW7FYLonYG9",
        "colab": {
          "base_uri": "https://localhost:8080/",
          "height": 1000
        },
        "outputId": "a2269ef9-64f4-48c5-d02f-c637e2b927ef"
      },
      "outputs": [
        {
          "output_type": "stream",
          "name": "stdout",
          "text": [
            "[1] \"\\n Chief Executives: \\n\"\n"
          ]
        },
        {
          "output_type": "display_data",
          "data": {
            "text/plain": [
              "  task_col                                                                                                                                                                                       \n",
              "1 Direct or coordinate an organization's financial or budget activities to fund operations, maximize investments, or increase efficiency.                                                        \n",
              "2 Appoint department heads or managers and assign or delegate responsibilities to them.                                                                                                          \n",
              "3 Analyze operations to evaluate performance of a company or its staff in meeting objectives or to determine areas of potential cost reduction, program improvement, or policy change.           \n",
              "4 Direct, plan, or implement policies, objectives, or activities of organizations or businesses to ensure continuing operations, to maximize returns on investments, or to increase productivity.\n",
              "5 Direct or coordinate activities of businesses or departments concerned with production, pricing, sales, or distribution of products.                                                           \n",
              "  product_code value_col\n",
              "1 8823         4.54     \n",
              "2 8831         4.48     \n",
              "3 8825         4.40     \n",
              "4 8826         4.39     \n",
              "5 8828         4.25     "
            ],
            "text/latex": "A tibble: 5 × 3\n\\begin{tabular}{lll}\n task\\_col & product\\_code & value\\_col\\\\\n <chr> & <dbl> & <dbl>\\\\\n\\hline\n\t Direct or coordinate an organization's financial or budget activities to fund operations, maximize investments, or increase efficiency.                                                         & 8823 & 4.54\\\\\n\t Appoint department heads or managers and assign or delegate responsibilities to them.                                                                                                           & 8831 & 4.48\\\\\n\t Analyze operations to evaluate performance of a company or its staff in meeting objectives or to determine areas of potential cost reduction, program improvement, or policy change.            & 8825 & 4.40\\\\\n\t Direct, plan, or implement policies, objectives, or activities of organizations or businesses to ensure continuing operations, to maximize returns on investments, or to increase productivity. & 8826 & 4.39\\\\\n\t Direct or coordinate activities of businesses or departments concerned with production, pricing, sales, or distribution of products.                                                            & 8828 & 4.25\\\\\n\\end{tabular}\n",
            "text/markdown": "\nA tibble: 5 × 3\n\n| task_col &lt;chr&gt; | product_code &lt;dbl&gt; | value_col &lt;dbl&gt; |\n|---|---|---|\n| Direct or coordinate an organization's financial or budget activities to fund operations, maximize investments, or increase efficiency.                                                         | 8823 | 4.54 |\n| Appoint department heads or managers and assign or delegate responsibilities to them.                                                                                                           | 8831 | 4.48 |\n| Analyze operations to evaluate performance of a company or its staff in meeting objectives or to determine areas of potential cost reduction, program improvement, or policy change.            | 8825 | 4.40 |\n| Direct, plan, or implement policies, objectives, or activities of organizations or businesses to ensure continuing operations, to maximize returns on investments, or to increase productivity. | 8826 | 4.39 |\n| Direct or coordinate activities of businesses or departments concerned with production, pricing, sales, or distribution of products.                                                            | 8828 | 4.25 |\n\n",
            "text/html": [
              "<table class=\"dataframe\">\n",
              "<caption>A tibble: 5 × 3</caption>\n",
              "<thead>\n",
              "\t<tr><th scope=col>task_col</th><th scope=col>product_code</th><th scope=col>value_col</th></tr>\n",
              "\t<tr><th scope=col>&lt;chr&gt;</th><th scope=col>&lt;dbl&gt;</th><th scope=col>&lt;dbl&gt;</th></tr>\n",
              "</thead>\n",
              "<tbody>\n",
              "\t<tr><td>Direct or coordinate an organization's financial or budget activities to fund operations, maximize investments, or increase efficiency.                                                        </td><td>8823</td><td>4.54</td></tr>\n",
              "\t<tr><td>Appoint department heads or managers and assign or delegate responsibilities to them.                                                                                                          </td><td>8831</td><td>4.48</td></tr>\n",
              "\t<tr><td>Analyze operations to evaluate performance of a company or its staff in meeting objectives or to determine areas of potential cost reduction, program improvement, or policy change.           </td><td>8825</td><td>4.40</td></tr>\n",
              "\t<tr><td>Direct, plan, or implement policies, objectives, or activities of organizations or businesses to ensure continuing operations, to maximize returns on investments, or to increase productivity.</td><td>8826</td><td>4.39</td></tr>\n",
              "\t<tr><td>Direct or coordinate activities of businesses or departments concerned with production, pricing, sales, or distribution of products.                                                           </td><td>8828</td><td>4.25</td></tr>\n",
              "</tbody>\n",
              "</table>\n"
            ]
          },
          "metadata": {}
        },
        {
          "output_type": "stream",
          "name": "stdout",
          "text": [
            "[1] \"\\n Tire Repairers and Changers:\\n\"\n"
          ]
        },
        {
          "output_type": "display_data",
          "data": {
            "text/plain": [
              "  task_col                                                                                  \n",
              "1 Raise vehicles, using hydraulic jacks.                                                    \n",
              "2 Remount wheels onto vehicles.                                                             \n",
              "3 Unbolt and remove wheels from vehicles, using lug wrenches or other hand or power tools.  \n",
              "4 Place wheels on balancing machines to determine counterweights required to balance wheels.\n",
              "5 Identify tire size and ply and inflate tires accordingly.                                 \n",
              "  product_code value_col\n",
              "1  8364        4.62     \n",
              "2  8365        4.56     \n",
              "3 20654        4.51     \n",
              "4  8363        4.50     \n",
              "5 20655        4.50     "
            ],
            "text/latex": "A tibble: 5 × 3\n\\begin{tabular}{lll}\n task\\_col & product\\_code & value\\_col\\\\\n <chr> & <dbl> & <dbl>\\\\\n\\hline\n\t Raise vehicles, using hydraulic jacks.                                                     &  8364 & 4.62\\\\\n\t Remount wheels onto vehicles.                                                              &  8365 & 4.56\\\\\n\t Unbolt and remove wheels from vehicles, using lug wrenches or other hand or power tools.   & 20654 & 4.51\\\\\n\t Place wheels on balancing machines to determine counterweights required to balance wheels. &  8363 & 4.50\\\\\n\t Identify tire size and ply and inflate tires accordingly.                                  & 20655 & 4.50\\\\\n\\end{tabular}\n",
            "text/markdown": "\nA tibble: 5 × 3\n\n| task_col &lt;chr&gt; | product_code &lt;dbl&gt; | value_col &lt;dbl&gt; |\n|---|---|---|\n| Raise vehicles, using hydraulic jacks.                                                     |  8364 | 4.62 |\n| Remount wheels onto vehicles.                                                              |  8365 | 4.56 |\n| Unbolt and remove wheels from vehicles, using lug wrenches or other hand or power tools.   | 20654 | 4.51 |\n| Place wheels on balancing machines to determine counterweights required to balance wheels. |  8363 | 4.50 |\n| Identify tire size and ply and inflate tires accordingly.                                  | 20655 | 4.50 |\n\n",
            "text/html": [
              "<table class=\"dataframe\">\n",
              "<caption>A tibble: 5 × 3</caption>\n",
              "<thead>\n",
              "\t<tr><th scope=col>task_col</th><th scope=col>product_code</th><th scope=col>value_col</th></tr>\n",
              "\t<tr><th scope=col>&lt;chr&gt;</th><th scope=col>&lt;dbl&gt;</th><th scope=col>&lt;dbl&gt;</th></tr>\n",
              "</thead>\n",
              "<tbody>\n",
              "\t<tr><td>Raise vehicles, using hydraulic jacks.                                                    </td><td> 8364</td><td>4.62</td></tr>\n",
              "\t<tr><td>Remount wheels onto vehicles.                                                             </td><td> 8365</td><td>4.56</td></tr>\n",
              "\t<tr><td>Unbolt and remove wheels from vehicles, using lug wrenches or other hand or power tools.  </td><td>20654</td><td>4.51</td></tr>\n",
              "\t<tr><td>Place wheels on balancing machines to determine counterweights required to balance wheels.</td><td> 8363</td><td>4.50</td></tr>\n",
              "\t<tr><td>Identify tire size and ply and inflate tires accordingly.                                 </td><td>20655</td><td>4.50</td></tr>\n",
              "</tbody>\n",
              "</table>\n"
            ]
          },
          "metadata": {}
        }
      ],
      "source": [
        "print(\"\\n Chief Executives: \\n\")\n",
        "\n",
        "df_rca %>%\n",
        "  filter(job_col=='Chief Executives') %>%\n",
        "  arrange(desc(value_col)) %>%\n",
        "  select(task_col, product_code,value_col) %>%\n",
        "  head(n=5)\n",
        "\n",
        "print(\"\\n Tire Repairers and Changers:\\n\")\n",
        "\n",
        "df_rca %>%\n",
        "  filter(job_col=='Tire Repairers and Changers') %>%\n",
        "  arrange(desc(value_col)) %>%\n",
        "  select(task_col, product_code,value_col) %>%\n",
        "  head(n=5)"
      ]
    },
    {
      "cell_type": "markdown",
      "metadata": {
        "id": "XsqCaXkanYHA"
      },
      "source": [
        "## Task proximity (based on co-occurences)\n",
        "\n"
      ]
    },
    {
      "cell_type": "markdown",
      "metadata": {
        "id": "SjdbfHxvnYHD"
      },
      "source": [
        "### Calculating task co-occurences and proximities\n",
        "\n"
      ]
    },
    {
      "cell_type": "markdown",
      "metadata": {
        "id": "suXqslVqnYHG"
      },
      "source": [
        "Knowing which countries are specialized in which products, the next step analyzes the extent to which two products are over-represented ($RCA>1$) in the same countries.\n",
        "\n",
        "As noted in the lecture, the main insight supporting this inference is that countries will produce combinations of products that require similar capabilities.\n",
        "\n",
        "Hence we infer capabilities from trade patterns, because the capabilities of a country is a priori hard to determine and capabilities themselves are hard to observe.\n",
        "\n",
        "Hence, **the degree to which two products cooccur in the export baskets of the same countries provides an indication of how similar the capability requirements of the two products are**.\n",
        "\n",
        "We will calculate the co-occurence matrix of products below.\n",
        "\n",
        "First, a product is &rsquo;present&rsquo; in a country if the country exports the product with $RCA>1$:\n",
        "\n",
        "\\begin{equation} \\label{e_presence}\n",
        "M_{cp}=\\begin{cases}\n",
        "    1 & \\text{if ${RCA}_{cp}>1$}; \\\\\n",
        "    0 & \\text{elsewhere.}\n",
        "    \\end{cases}\n",
        "\\tag{2}\n",
        "\\end{equation}\n",
        "\n"
      ]
    },
    {
      "cell_type": "code",
      "execution_count": null,
      "metadata": {
        "id": "oWOLHB9InYHJ"
      },
      "outputs": [],
      "source": [
        "#No Filtering, use non-binary Mcp\n",
        "df_rca <- mutate(df_rca, Mcp = value_col) \n",
        "#df_rca[df_rca$valueCol>1, 'Mcp'] <- 1"
      ]
    },
    {
      "cell_type": "markdown",
      "metadata": {
        "id": "awHvWN5hnYHK"
      },
      "source": [
        "Next, we calculate how often two products are present in the same countries, using the Mcp threshold:\n",
        "\n",
        "\\begin{equation} \\label{e_cooc}\n",
        "C_{pp'}=\\sum \\limits_{c} M_{cp} M_{cp'}\n",
        "\\tag{3}\n",
        "\\end{equation}\n",
        "\n",
        "To get an accurate value of product proximity, we need to correct these numbers for the extent to which products are present in general in trade flows between countries. To do so, Hidalgo et al. (2007) calculate product proximity as follows, defining it as the minimum of two conditional probabilities:\n",
        "\n",
        "\\begin{equation}\n",
        "C_{ppt'}  = \\min \\left( \\frac{C_{pp'}}{C_{p}},\\frac{C_{pp'}}{C_{p'}} \\right)\n",
        "\\tag{4}\n",
        "\\end{equation}\n",
        "\n",
        "The minimum here is used to elimate a &rsquo;false positive&rsquo;.\n",
        "\n",
        "Hence we correct for how prevalent specialization in product $i$ and product $j$ is across countries (i.e. the &rsquo;ubiquity&rsquo; of the products).\n",
        "\n",
        "We will use the first year of data in the dataset, **1995,** below.\n",
        "\n",
        "Note that to reduce yearly votality, Hidalgo et al. (2007) aggregate the trade data across multiple years (1998-2000) when calculating RCAs and product proximities for the product space. (However, when comparing the product space across years, they do use individual years).\n",
        "\n",
        "Function to calculate cppt:\n",
        "\n"
      ]
    },
    {
      "cell_type": "code",
      "execution_count": null,
      "metadata": {
        "id": "-v1s0QzNnYHQ"
      },
      "outputs": [],
      "source": [
        "calc_cppt <- function(data,job_col,task_col) {\n",
        "\n",
        "  # create task_col_2 column (to create all combinations of products within columns)\n",
        "  data$task_col_1<- data$task_col\n",
        "  data$task_col_2 <- data$task_col_1\n",
        "\n",
        "  # create all product combinations within countries\n",
        "  print('creating combinations')\n",
        "  dft3 <- data %>% group_by(job_col) %>% complete(task_col_1, task_col_2)\n",
        "  print('combinations ready')\n",
        "\n",
        "  # drop diagonal\n",
        "  dft3 <- filter(dft3,task_col_1!=task_col_2)\n",
        "\n",
        "  # calculate N of times that {task_col}s occur together\n",
        "  dft3$count = 1\n",
        "  dft3 <- dft3 %>%\n",
        "    group_by(task_col_1,task_col_2) %>%\n",
        "    summarise(Cpp = sum(count))\n",
        "\n",
        "  # calculate ubiquity\n",
        "  df_ub <- data %>%\n",
        "    group_by(task_col) %>%\n",
        "    summarize(Mcp = sum(Mcp))\n",
        "\n",
        "  # Merge ubiquities of product 1 and 2 into cpp matrix\n",
        "  df_ub <- df_ub %>%\n",
        "    rename(task_col_1 = task_col)\n",
        "  dft3 <- left_join(dft3,df_ub,by=c('task_col_1'))\n",
        "\n",
        "  df_ub <- df_ub %>%\n",
        "    rename(task_col_2 = task_col_1)\n",
        "  dft3 <- left_join(dft3,df_ub,by=c('task_col_2'))\n",
        "\n",
        "  # Take minimum of conditional probabilities\n",
        "  dft3$kpi = dft3$Cpp/dft3$Mcp.x\n",
        "  dft3$kpj = dft3$Cpp/dft3$Mcp.y\n",
        "  dft3$phi = dft3$kpi\n",
        "  dft3 <- dft3 %>%\n",
        "      mutate(phi = ifelse(kpj < kpi, kpj ,kpi))\n",
        "\n",
        "  ############\n",
        "  return(dft3)\n",
        "}"
      ]
    },
    {
      "cell_type": "code",
      "execution_count": null,
      "metadata": {
        "id": "U3AgU2UdnYHT",
        "colab": {
          "base_uri": "https://localhost:8080/"
        },
        "outputId": "1ca6790f-6a89-45da-f562-1d8f5989f3cd"
      },
      "outputs": [
        {
          "output_type": "stream",
          "name": "stdout",
          "text": [
            "[1] \"creating combinations\"\n",
            "[1] \"combinations ready\"\n"
          ]
        },
        {
          "output_type": "stream",
          "name": "stderr",
          "text": [
            "\u001b[1m\u001b[22m`summarise()` has grouped output by 'task_col_1'. You can override using the\n",
            "`.groups` argument.\n"
          ]
        },
        {
          "output_type": "stream",
          "name": "stdout",
          "text": [
            "[1] \"cppt product co-occurences and proximities dataframe ready\"\n"
          ]
        }
      ],
      "source": [
        "# keep only year 1995 and only country-product combinations where Mcp == 1 (thus RCAcpt > 1)\n",
        "# NO FILTERING\n",
        "#dft <- filter(df_rca,Mcp==1)\n",
        "# calculate cppt\n",
        "#library(dplyr, warn.conflicts = FALSE)\n",
        "\n",
        "\n",
        "\n",
        "df_cppt <- df_rca %>% calc_cppt(job_col,task_col)\n",
        "\n",
        "print('cppt product co-occurences and proximities dataframe ready')"
      ]
    },
    {
      "cell_type": "markdown",
      "metadata": {
        "id": "FUc3e57dnYHZ"
      },
      "source": [
        "#### Products that co-occur most often\n",
        "\n"
      ]
    },
    {
      "cell_type": "code",
      "execution_count": null,
      "metadata": {
        "id": "en8eCpV-nYHb",
        "colab": {
          "base_uri": "https://localhost:8080/",
          "height": 1000
        },
        "outputId": "5a4d170c-dc28-4e48-c838-2f6a36a20e22"
      },
      "outputs": [
        {
          "output_type": "display_data",
          "data": {
            "text/plain": [
              "   task_col_1                                                                      \n",
              "1  Act as advisers to student organizations.                                       \n",
              "2  Act as advisers to student organizations.                                       \n",
              "3  Act as advisers to student organizations.                                       \n",
              "4  Act as advisers to student organizations.                                       \n",
              "5  Act as advisers to student organizations.                                       \n",
              "6  Compile bibliographies of specialized materials for outside reading assignments.\n",
              "7  Compile bibliographies of specialized materials for outside reading assignments.\n",
              "8  Compile bibliographies of specialized materials for outside reading assignments.\n",
              "9  Compile bibliographies of specialized materials for outside reading assignments.\n",
              "10 Compile bibliographies of specialized materials for outside reading assignments.\n",
              "   task_col_2                                                                                                                      \n",
              "1  Compile bibliographies of specialized materials for outside reading assignments.                                                \n",
              "2  Maintain regularly scheduled office hours to advise and assist students.                                                        \n",
              "3  Maintain student attendance records, grades, and other required records.                                                        \n",
              "4  Participate in student recruitment, registration, and placement activities.                                                     \n",
              "5  Serve on academic or administrative committees that deal with institutional policies, departmental matters, and academic issues.\n",
              "6  Act as advisers to student organizations.                                                                                       \n",
              "7  Maintain regularly scheduled office hours to advise and assist students.                                                        \n",
              "8  Maintain student attendance records, grades, and other required records.                                                        \n",
              "9  Participate in student recruitment, registration, and placement activities.                                                     \n",
              "10 Serve on academic or administrative committees that deal with institutional policies, departmental matters, and academic issues.\n",
              "   Cpp Mcp.x  Mcp.y  kpi       kpj       phi      \n",
              "1  34  102.08 106.88 0.3330721 0.3181138 0.3181138\n",
              "2  34  102.08 135.35 0.3330721 0.2512006 0.2512006\n",
              "3  34  102.08 142.80 0.3330721 0.2380952 0.2380952\n",
              "4  34  102.08 118.38 0.3330721 0.2872107 0.2872107\n",
              "5  34  102.08 119.03 0.3330721 0.2856423 0.2856423\n",
              "6  34  106.88 102.08 0.3181138 0.3330721 0.3181138\n",
              "7  34  106.88 135.35 0.3181138 0.2512006 0.2512006\n",
              "8  34  106.88 142.80 0.3181138 0.2380952 0.2380952\n",
              "9  34  106.88 118.38 0.3181138 0.2872107 0.2872107\n",
              "10 34  106.88 119.03 0.3181138 0.2856423 0.2856423"
            ],
            "text/latex": "A grouped\\_df: 10 × 8\n\\begin{tabular}{llllllll}\n task\\_col\\_1 & task\\_col\\_2 & Cpp & Mcp.x & Mcp.y & kpi & kpj & phi\\\\\n <chr> & <chr> & <dbl> & <dbl> & <dbl> & <dbl> & <dbl> & <dbl>\\\\\n\\hline\n\t Act as advisers to student organizations.                                        & Compile bibliographies of specialized materials for outside reading assignments.                                                 & 34 & 102.08 & 106.88 & 0.3330721 & 0.3181138 & 0.3181138\\\\\n\t Act as advisers to student organizations.                                        & Maintain regularly scheduled office hours to advise and assist students.                                                         & 34 & 102.08 & 135.35 & 0.3330721 & 0.2512006 & 0.2512006\\\\\n\t Act as advisers to student organizations.                                        & Maintain student attendance records, grades, and other required records.                                                         & 34 & 102.08 & 142.80 & 0.3330721 & 0.2380952 & 0.2380952\\\\\n\t Act as advisers to student organizations.                                        & Participate in student recruitment, registration, and placement activities.                                                      & 34 & 102.08 & 118.38 & 0.3330721 & 0.2872107 & 0.2872107\\\\\n\t Act as advisers to student organizations.                                        & Serve on academic or administrative committees that deal with institutional policies, departmental matters, and academic issues. & 34 & 102.08 & 119.03 & 0.3330721 & 0.2856423 & 0.2856423\\\\\n\t Compile bibliographies of specialized materials for outside reading assignments. & Act as advisers to student organizations.                                                                                        & 34 & 106.88 & 102.08 & 0.3181138 & 0.3330721 & 0.3181138\\\\\n\t Compile bibliographies of specialized materials for outside reading assignments. & Maintain regularly scheduled office hours to advise and assist students.                                                         & 34 & 106.88 & 135.35 & 0.3181138 & 0.2512006 & 0.2512006\\\\\n\t Compile bibliographies of specialized materials for outside reading assignments. & Maintain student attendance records, grades, and other required records.                                                         & 34 & 106.88 & 142.80 & 0.3181138 & 0.2380952 & 0.2380952\\\\\n\t Compile bibliographies of specialized materials for outside reading assignments. & Participate in student recruitment, registration, and placement activities.                                                      & 34 & 106.88 & 118.38 & 0.3181138 & 0.2872107 & 0.2872107\\\\\n\t Compile bibliographies of specialized materials for outside reading assignments. & Serve on academic or administrative committees that deal with institutional policies, departmental matters, and academic issues. & 34 & 106.88 & 119.03 & 0.3181138 & 0.2856423 & 0.2856423\\\\\n\\end{tabular}\n",
            "text/markdown": "\nA grouped_df: 10 × 8\n\n| task_col_1 &lt;chr&gt; | task_col_2 &lt;chr&gt; | Cpp &lt;dbl&gt; | Mcp.x &lt;dbl&gt; | Mcp.y &lt;dbl&gt; | kpi &lt;dbl&gt; | kpj &lt;dbl&gt; | phi &lt;dbl&gt; |\n|---|---|---|---|---|---|---|---|\n| Act as advisers to student organizations.                                        | Compile bibliographies of specialized materials for outside reading assignments.                                                 | 34 | 102.08 | 106.88 | 0.3330721 | 0.3181138 | 0.3181138 |\n| Act as advisers to student organizations.                                        | Maintain regularly scheduled office hours to advise and assist students.                                                         | 34 | 102.08 | 135.35 | 0.3330721 | 0.2512006 | 0.2512006 |\n| Act as advisers to student organizations.                                        | Maintain student attendance records, grades, and other required records.                                                         | 34 | 102.08 | 142.80 | 0.3330721 | 0.2380952 | 0.2380952 |\n| Act as advisers to student organizations.                                        | Participate in student recruitment, registration, and placement activities.                                                      | 34 | 102.08 | 118.38 | 0.3330721 | 0.2872107 | 0.2872107 |\n| Act as advisers to student organizations.                                        | Serve on academic or administrative committees that deal with institutional policies, departmental matters, and academic issues. | 34 | 102.08 | 119.03 | 0.3330721 | 0.2856423 | 0.2856423 |\n| Compile bibliographies of specialized materials for outside reading assignments. | Act as advisers to student organizations.                                                                                        | 34 | 106.88 | 102.08 | 0.3181138 | 0.3330721 | 0.3181138 |\n| Compile bibliographies of specialized materials for outside reading assignments. | Maintain regularly scheduled office hours to advise and assist students.                                                         | 34 | 106.88 | 135.35 | 0.3181138 | 0.2512006 | 0.2512006 |\n| Compile bibliographies of specialized materials for outside reading assignments. | Maintain student attendance records, grades, and other required records.                                                         | 34 | 106.88 | 142.80 | 0.3181138 | 0.2380952 | 0.2380952 |\n| Compile bibliographies of specialized materials for outside reading assignments. | Participate in student recruitment, registration, and placement activities.                                                      | 34 | 106.88 | 118.38 | 0.3181138 | 0.2872107 | 0.2872107 |\n| Compile bibliographies of specialized materials for outside reading assignments. | Serve on academic or administrative committees that deal with institutional policies, departmental matters, and academic issues. | 34 | 106.88 | 119.03 | 0.3181138 | 0.2856423 | 0.2856423 |\n\n",
            "text/html": [
              "<table class=\"dataframe\">\n",
              "<caption>A grouped_df: 10 × 8</caption>\n",
              "<thead>\n",
              "\t<tr><th scope=col>task_col_1</th><th scope=col>task_col_2</th><th scope=col>Cpp</th><th scope=col>Mcp.x</th><th scope=col>Mcp.y</th><th scope=col>kpi</th><th scope=col>kpj</th><th scope=col>phi</th></tr>\n",
              "\t<tr><th scope=col>&lt;chr&gt;</th><th scope=col>&lt;chr&gt;</th><th scope=col>&lt;dbl&gt;</th><th scope=col>&lt;dbl&gt;</th><th scope=col>&lt;dbl&gt;</th><th scope=col>&lt;dbl&gt;</th><th scope=col>&lt;dbl&gt;</th><th scope=col>&lt;dbl&gt;</th></tr>\n",
              "</thead>\n",
              "<tbody>\n",
              "\t<tr><td>Act as advisers to student organizations.                                       </td><td>Compile bibliographies of specialized materials for outside reading assignments.                                                </td><td>34</td><td>102.08</td><td>106.88</td><td>0.3330721</td><td>0.3181138</td><td>0.3181138</td></tr>\n",
              "\t<tr><td>Act as advisers to student organizations.                                       </td><td>Maintain regularly scheduled office hours to advise and assist students.                                                        </td><td>34</td><td>102.08</td><td>135.35</td><td>0.3330721</td><td>0.2512006</td><td>0.2512006</td></tr>\n",
              "\t<tr><td>Act as advisers to student organizations.                                       </td><td>Maintain student attendance records, grades, and other required records.                                                        </td><td>34</td><td>102.08</td><td>142.80</td><td>0.3330721</td><td>0.2380952</td><td>0.2380952</td></tr>\n",
              "\t<tr><td>Act as advisers to student organizations.                                       </td><td>Participate in student recruitment, registration, and placement activities.                                                     </td><td>34</td><td>102.08</td><td>118.38</td><td>0.3330721</td><td>0.2872107</td><td>0.2872107</td></tr>\n",
              "\t<tr><td>Act as advisers to student organizations.                                       </td><td>Serve on academic or administrative committees that deal with institutional policies, departmental matters, and academic issues.</td><td>34</td><td>102.08</td><td>119.03</td><td>0.3330721</td><td>0.2856423</td><td>0.2856423</td></tr>\n",
              "\t<tr><td>Compile bibliographies of specialized materials for outside reading assignments.</td><td>Act as advisers to student organizations.                                                                                       </td><td>34</td><td>106.88</td><td>102.08</td><td>0.3181138</td><td>0.3330721</td><td>0.3181138</td></tr>\n",
              "\t<tr><td>Compile bibliographies of specialized materials for outside reading assignments.</td><td>Maintain regularly scheduled office hours to advise and assist students.                                                        </td><td>34</td><td>106.88</td><td>135.35</td><td>0.3181138</td><td>0.2512006</td><td>0.2512006</td></tr>\n",
              "\t<tr><td>Compile bibliographies of specialized materials for outside reading assignments.</td><td>Maintain student attendance records, grades, and other required records.                                                        </td><td>34</td><td>106.88</td><td>142.80</td><td>0.3181138</td><td>0.2380952</td><td>0.2380952</td></tr>\n",
              "\t<tr><td>Compile bibliographies of specialized materials for outside reading assignments.</td><td>Participate in student recruitment, registration, and placement activities.                                                     </td><td>34</td><td>106.88</td><td>118.38</td><td>0.3181138</td><td>0.2872107</td><td>0.2872107</td></tr>\n",
              "\t<tr><td>Compile bibliographies of specialized materials for outside reading assignments.</td><td>Serve on academic or administrative committees that deal with institutional policies, departmental matters, and academic issues.</td><td>34</td><td>106.88</td><td>119.03</td><td>0.3181138</td><td>0.2856423</td><td>0.2856423</td></tr>\n",
              "</tbody>\n",
              "</table>\n"
            ]
          },
          "metadata": {}
        }
      ],
      "source": [
        "df_cppt %>%\n",
        "  arrange(desc(Cpp)) %>%\n",
        "  head(n=10)"
      ]
    },
    {
      "cell_type": "markdown",
      "metadata": {
        "id": "KikdEWn9nYHd"
      },
      "source": [
        "#### Most proximate products\n",
        "\n"
      ]
    },
    {
      "cell_type": "code",
      "execution_count": null,
      "metadata": {
        "id": "5KXFOG2inYHf",
        "colab": {
          "base_uri": "https://localhost:8080/",
          "height": 1000
        },
        "outputId": "3f85cf5e-58ab-42b3-b57a-5e6c3f2bbeb2"
      },
      "outputs": [
        {
          "output_type": "display_data",
          "data": {
            "text/plain": [
              "   task_col_1                                                                                                                                                        \n",
              "1  Monitor national or international legislation on ozone-depleting substances or global warming.                                                                    \n",
              "2  Obtain clearances for the use of recycled plastics in product packaging.                                                                                          \n",
              "3  Assess the potential impact of climate change on business financial issues, such as damage repairs, insurance costs, or potential disruptions of daily activities.\n",
              "4  Develop tools to assess green technologies or green financial products, such as green hedge funds or social responsibility investment funds.                      \n",
              "5  Assess the potential impact of climate change on business financial issues, such as damage repairs, insurance costs, or potential disruptions of daily activities.\n",
              "6  Develop methods of assessing or measuring corporate performance in terms of environmental, social, and governance (ESG) issues.                                   \n",
              "7  Develop methods of assessing or measuring corporate performance in terms of environmental, social, and governance (ESG) issues.                                   \n",
              "8  Develop tools to assess green technologies or green financial products, such as green hedge funds or social responsibility investment funds.                      \n",
              "9  Remove material from bars of percussion instruments to obtain specified tones, using bandsaws, sanding machines, machine grinders, or hand files and scrapers.    \n",
              "10 Replace xylophone bars and wheels.                                                                                                                                \n",
              "   task_col_2                                                                                                                                                        \n",
              "1  Obtain clearances for the use of recycled plastics in product packaging.                                                                                          \n",
              "2  Monitor national or international legislation on ozone-depleting substances or global warming.                                                                    \n",
              "3  Develop tools to assess green technologies or green financial products, such as green hedge funds or social responsibility investment funds.                      \n",
              "4  Assess the potential impact of climate change on business financial issues, such as damage repairs, insurance costs, or potential disruptions of daily activities.\n",
              "5  Develop methods of assessing or measuring corporate performance in terms of environmental, social, and governance (ESG) issues.                                   \n",
              "6  Assess the potential impact of climate change on business financial issues, such as damage repairs, insurance costs, or potential disruptions of daily activities.\n",
              "7  Develop tools to assess green technologies or green financial products, such as green hedge funds or social responsibility investment funds.                      \n",
              "8  Develop methods of assessing or measuring corporate performance in terms of environmental, social, and governance (ESG) issues.                                   \n",
              "9  Replace xylophone bars and wheels.                                                                                                                                \n",
              "10 Remove material from bars of percussion instruments to obtain specified tones, using bandsaws, sanding machines, machine grinders, or hand files and scrapers.    \n",
              "   Cpp Mcp.x Mcp.y kpi       kpj       phi      \n",
              "1  1   1.50  1.50  0.6666667 0.6666667 0.6666667\n",
              "2  1   1.50  1.50  0.6666667 0.6666667 0.6666667\n",
              "3  1   1.67  1.69  0.5988024 0.5917160 0.5917160\n",
              "4  1   1.69  1.67  0.5917160 0.5988024 0.5917160\n",
              "5  1   1.67  1.88  0.5988024 0.5319149 0.5319149\n",
              "6  1   1.88  1.67  0.5319149 0.5988024 0.5319149\n",
              "7  1   1.88  1.69  0.5319149 0.5917160 0.5319149\n",
              "8  1   1.69  1.88  0.5917160 0.5319149 0.5319149\n",
              "9  1   1.57  1.92  0.6369427 0.5208333 0.5208333\n",
              "10 1   1.92  1.57  0.5208333 0.6369427 0.5208333"
            ],
            "text/latex": "A grouped\\_df: 10 × 8\n\\begin{tabular}{llllllll}\n task\\_col\\_1 & task\\_col\\_2 & Cpp & Mcp.x & Mcp.y & kpi & kpj & phi\\\\\n <chr> & <chr> & <dbl> & <dbl> & <dbl> & <dbl> & <dbl> & <dbl>\\\\\n\\hline\n\t Monitor national or international legislation on ozone-depleting substances or global warming.                                                                     & Obtain clearances for the use of recycled plastics in product packaging.                                                                                           & 1 & 1.50 & 1.50 & 0.6666667 & 0.6666667 & 0.6666667\\\\\n\t Obtain clearances for the use of recycled plastics in product packaging.                                                                                           & Monitor national or international legislation on ozone-depleting substances or global warming.                                                                     & 1 & 1.50 & 1.50 & 0.6666667 & 0.6666667 & 0.6666667\\\\\n\t Assess the potential impact of climate change on business financial issues, such as damage repairs, insurance costs, or potential disruptions of daily activities. & Develop tools to assess green technologies or green financial products, such as green hedge funds or social responsibility investment funds.                       & 1 & 1.67 & 1.69 & 0.5988024 & 0.5917160 & 0.5917160\\\\\n\t Develop tools to assess green technologies or green financial products, such as green hedge funds or social responsibility investment funds.                       & Assess the potential impact of climate change on business financial issues, such as damage repairs, insurance costs, or potential disruptions of daily activities. & 1 & 1.69 & 1.67 & 0.5917160 & 0.5988024 & 0.5917160\\\\\n\t Assess the potential impact of climate change on business financial issues, such as damage repairs, insurance costs, or potential disruptions of daily activities. & Develop methods of assessing or measuring corporate performance in terms of environmental, social, and governance (ESG) issues.                                    & 1 & 1.67 & 1.88 & 0.5988024 & 0.5319149 & 0.5319149\\\\\n\t Develop methods of assessing or measuring corporate performance in terms of environmental, social, and governance (ESG) issues.                                    & Assess the potential impact of climate change on business financial issues, such as damage repairs, insurance costs, or potential disruptions of daily activities. & 1 & 1.88 & 1.67 & 0.5319149 & 0.5988024 & 0.5319149\\\\\n\t Develop methods of assessing or measuring corporate performance in terms of environmental, social, and governance (ESG) issues.                                    & Develop tools to assess green technologies or green financial products, such as green hedge funds or social responsibility investment funds.                       & 1 & 1.88 & 1.69 & 0.5319149 & 0.5917160 & 0.5319149\\\\\n\t Develop tools to assess green technologies or green financial products, such as green hedge funds or social responsibility investment funds.                       & Develop methods of assessing or measuring corporate performance in terms of environmental, social, and governance (ESG) issues.                                    & 1 & 1.69 & 1.88 & 0.5917160 & 0.5319149 & 0.5319149\\\\\n\t Remove material from bars of percussion instruments to obtain specified tones, using bandsaws, sanding machines, machine grinders, or hand files and scrapers.     & Replace xylophone bars and wheels.                                                                                                                                 & 1 & 1.57 & 1.92 & 0.6369427 & 0.5208333 & 0.5208333\\\\\n\t Replace xylophone bars and wheels.                                                                                                                                 & Remove material from bars of percussion instruments to obtain specified tones, using bandsaws, sanding machines, machine grinders, or hand files and scrapers.     & 1 & 1.92 & 1.57 & 0.5208333 & 0.6369427 & 0.5208333\\\\\n\\end{tabular}\n",
            "text/markdown": "\nA grouped_df: 10 × 8\n\n| task_col_1 &lt;chr&gt; | task_col_2 &lt;chr&gt; | Cpp &lt;dbl&gt; | Mcp.x &lt;dbl&gt; | Mcp.y &lt;dbl&gt; | kpi &lt;dbl&gt; | kpj &lt;dbl&gt; | phi &lt;dbl&gt; |\n|---|---|---|---|---|---|---|---|\n| Monitor national or international legislation on ozone-depleting substances or global warming.                                                                     | Obtain clearances for the use of recycled plastics in product packaging.                                                                                           | 1 | 1.50 | 1.50 | 0.6666667 | 0.6666667 | 0.6666667 |\n| Obtain clearances for the use of recycled plastics in product packaging.                                                                                           | Monitor national or international legislation on ozone-depleting substances or global warming.                                                                     | 1 | 1.50 | 1.50 | 0.6666667 | 0.6666667 | 0.6666667 |\n| Assess the potential impact of climate change on business financial issues, such as damage repairs, insurance costs, or potential disruptions of daily activities. | Develop tools to assess green technologies or green financial products, such as green hedge funds or social responsibility investment funds.                       | 1 | 1.67 | 1.69 | 0.5988024 | 0.5917160 | 0.5917160 |\n| Develop tools to assess green technologies or green financial products, such as green hedge funds or social responsibility investment funds.                       | Assess the potential impact of climate change on business financial issues, such as damage repairs, insurance costs, or potential disruptions of daily activities. | 1 | 1.69 | 1.67 | 0.5917160 | 0.5988024 | 0.5917160 |\n| Assess the potential impact of climate change on business financial issues, such as damage repairs, insurance costs, or potential disruptions of daily activities. | Develop methods of assessing or measuring corporate performance in terms of environmental, social, and governance (ESG) issues.                                    | 1 | 1.67 | 1.88 | 0.5988024 | 0.5319149 | 0.5319149 |\n| Develop methods of assessing or measuring corporate performance in terms of environmental, social, and governance (ESG) issues.                                    | Assess the potential impact of climate change on business financial issues, such as damage repairs, insurance costs, or potential disruptions of daily activities. | 1 | 1.88 | 1.67 | 0.5319149 | 0.5988024 | 0.5319149 |\n| Develop methods of assessing or measuring corporate performance in terms of environmental, social, and governance (ESG) issues.                                    | Develop tools to assess green technologies or green financial products, such as green hedge funds or social responsibility investment funds.                       | 1 | 1.88 | 1.69 | 0.5319149 | 0.5917160 | 0.5319149 |\n| Develop tools to assess green technologies or green financial products, such as green hedge funds or social responsibility investment funds.                       | Develop methods of assessing or measuring corporate performance in terms of environmental, social, and governance (ESG) issues.                                    | 1 | 1.69 | 1.88 | 0.5917160 | 0.5319149 | 0.5319149 |\n| Remove material from bars of percussion instruments to obtain specified tones, using bandsaws, sanding machines, machine grinders, or hand files and scrapers.     | Replace xylophone bars and wheels.                                                                                                                                 | 1 | 1.57 | 1.92 | 0.6369427 | 0.5208333 | 0.5208333 |\n| Replace xylophone bars and wheels.                                                                                                                                 | Remove material from bars of percussion instruments to obtain specified tones, using bandsaws, sanding machines, machine grinders, or hand files and scrapers.     | 1 | 1.92 | 1.57 | 0.5208333 | 0.6369427 | 0.5208333 |\n\n",
            "text/html": [
              "<table class=\"dataframe\">\n",
              "<caption>A grouped_df: 10 × 8</caption>\n",
              "<thead>\n",
              "\t<tr><th scope=col>task_col_1</th><th scope=col>task_col_2</th><th scope=col>Cpp</th><th scope=col>Mcp.x</th><th scope=col>Mcp.y</th><th scope=col>kpi</th><th scope=col>kpj</th><th scope=col>phi</th></tr>\n",
              "\t<tr><th scope=col>&lt;chr&gt;</th><th scope=col>&lt;chr&gt;</th><th scope=col>&lt;dbl&gt;</th><th scope=col>&lt;dbl&gt;</th><th scope=col>&lt;dbl&gt;</th><th scope=col>&lt;dbl&gt;</th><th scope=col>&lt;dbl&gt;</th><th scope=col>&lt;dbl&gt;</th></tr>\n",
              "</thead>\n",
              "<tbody>\n",
              "\t<tr><td>Monitor national or international legislation on ozone-depleting substances or global warming.                                                                    </td><td>Obtain clearances for the use of recycled plastics in product packaging.                                                                                          </td><td>1</td><td>1.50</td><td>1.50</td><td>0.6666667</td><td>0.6666667</td><td>0.6666667</td></tr>\n",
              "\t<tr><td>Obtain clearances for the use of recycled plastics in product packaging.                                                                                          </td><td>Monitor national or international legislation on ozone-depleting substances or global warming.                                                                    </td><td>1</td><td>1.50</td><td>1.50</td><td>0.6666667</td><td>0.6666667</td><td>0.6666667</td></tr>\n",
              "\t<tr><td>Assess the potential impact of climate change on business financial issues, such as damage repairs, insurance costs, or potential disruptions of daily activities.</td><td>Develop tools to assess green technologies or green financial products, such as green hedge funds or social responsibility investment funds.                      </td><td>1</td><td>1.67</td><td>1.69</td><td>0.5988024</td><td>0.5917160</td><td>0.5917160</td></tr>\n",
              "\t<tr><td>Develop tools to assess green technologies or green financial products, such as green hedge funds or social responsibility investment funds.                      </td><td>Assess the potential impact of climate change on business financial issues, such as damage repairs, insurance costs, or potential disruptions of daily activities.</td><td>1</td><td>1.69</td><td>1.67</td><td>0.5917160</td><td>0.5988024</td><td>0.5917160</td></tr>\n",
              "\t<tr><td>Assess the potential impact of climate change on business financial issues, such as damage repairs, insurance costs, or potential disruptions of daily activities.</td><td>Develop methods of assessing or measuring corporate performance in terms of environmental, social, and governance (ESG) issues.                                   </td><td>1</td><td>1.67</td><td>1.88</td><td>0.5988024</td><td>0.5319149</td><td>0.5319149</td></tr>\n",
              "\t<tr><td>Develop methods of assessing or measuring corporate performance in terms of environmental, social, and governance (ESG) issues.                                   </td><td>Assess the potential impact of climate change on business financial issues, such as damage repairs, insurance costs, or potential disruptions of daily activities.</td><td>1</td><td>1.88</td><td>1.67</td><td>0.5319149</td><td>0.5988024</td><td>0.5319149</td></tr>\n",
              "\t<tr><td>Develop methods of assessing or measuring corporate performance in terms of environmental, social, and governance (ESG) issues.                                   </td><td>Develop tools to assess green technologies or green financial products, such as green hedge funds or social responsibility investment funds.                      </td><td>1</td><td>1.88</td><td>1.69</td><td>0.5319149</td><td>0.5917160</td><td>0.5319149</td></tr>\n",
              "\t<tr><td>Develop tools to assess green technologies or green financial products, such as green hedge funds or social responsibility investment funds.                      </td><td>Develop methods of assessing or measuring corporate performance in terms of environmental, social, and governance (ESG) issues.                                   </td><td>1</td><td>1.69</td><td>1.88</td><td>0.5917160</td><td>0.5319149</td><td>0.5319149</td></tr>\n",
              "\t<tr><td>Remove material from bars of percussion instruments to obtain specified tones, using bandsaws, sanding machines, machine grinders, or hand files and scrapers.    </td><td>Replace xylophone bars and wheels.                                                                                                                                </td><td>1</td><td>1.57</td><td>1.92</td><td>0.6369427</td><td>0.5208333</td><td>0.5208333</td></tr>\n",
              "\t<tr><td>Replace xylophone bars and wheels.                                                                                                                                </td><td>Remove material from bars of percussion instruments to obtain specified tones, using bandsaws, sanding machines, machine grinders, or hand files and scrapers.    </td><td>1</td><td>1.92</td><td>1.57</td><td>0.5208333</td><td>0.6369427</td><td>0.5208333</td></tr>\n",
              "</tbody>\n",
              "</table>\n"
            ]
          },
          "metadata": {}
        }
      ],
      "source": [
        "df_cppt %>%\n",
        "  arrange(desc(phi)) %>%\n",
        "  head(n=10)"
      ]
    },
    {
      "cell_type": "markdown",
      "metadata": {
        "id": "Ou2ECfw_nYHg"
      },
      "source": [
        "## Patents: Country and city specializations over time, and technology proximities\n",
        "\n"
      ]
    },
    {
      "cell_type": "markdown",
      "metadata": {
        "id": "c7LDs2UenYHi"
      },
      "source": [
        "We can apply this to patent data as well.\n",
        "\n",
        "At the Growth Lab we have access to and worked with the Patstat database, patents from Google Bigquery, patents from PatentView, HistPat, and patents obtained from USPTO publications from 1790 onwards through optical character recognition.\n",
        "\n"
      ]
    },
    {
      "cell_type": "markdown",
      "metadata": {
        "id": "9ze3_6PAnYHl"
      },
      "source": [
        "### Technological diversification of countries\n",
        "\n"
      ]
    },
    {
      "cell_type": "markdown",
      "metadata": {
        "id": "CL7d-zUjnYHn"
      },
      "source": [
        "First we look at diversification of countries, using patents extracted from the Patstat database.\n",
        "\n",
        "Patstat includes all patents from ~ 1903 onwards.\n",
        "\n",
        "Below is an outline of what is available in Patstat:\n",
        "\n",
        "![img](https://www.dropbox.com/s/zqgv7fi61c2ip2f/patstat.png?dl=1)\n",
        "\n",
        "Below we use an aggregated file created from the Patstat database, containing:\n",
        "\n",
        "-   Year\n",
        "-   Country\n",
        "-   Technology class\n",
        "-   Count (N of patents)\n",
        "\n",
        "which I put on Dropbox temporarily so we can load it in directly into Google CoLab.\n",
        "\n"
      ]
    },
    {
      "cell_type": "markdown",
      "metadata": {
        "id": "H10lXWNznYH0"
      },
      "source": [
        "#### Load patent data\n",
        "\n"
      ]
    },
    {
      "cell_type": "code",
      "execution_count": null,
      "metadata": {
        "id": "FNVSgoVwnYH5",
        "colab": {
          "base_uri": "https://localhost:8080/"
        },
        "outputId": "58f52fc7-7264-467e-c8a3-a99b72603f2c"
      },
      "outputs": [
        {
          "output_type": "stream",
          "name": "stdout",
          "text": [
            "[1] \"loading patent data\"\n",
            "[1] \"patent data loaded\"\n"
          ]
        }
      ],
      "source": [
        "print('loading patent data')\n",
        "# load STATA file into R directly from URL (using the 'foreign' library)\n",
        "dfp <- read.dta('https://www.dropbox.com/s/nwox3dznoupzm0q/patstat_year_country_tech_inventor_locations.dta?dl=1')\n",
        "#dfp <- read.dta('~/Dropbox/proj/org_zhtml_projects/product-space-eci-workshop/files/patstat_year_country_tech/patstat_year_country_tech_inventor_locations.dta')\n",
        "print('patent data loaded')"
      ]
    },
    {
      "cell_type": "markdown",
      "metadata": {
        "id": "6gHnUMAjnYH7"
      },
      "source": [
        "##### Sample of data\n",
        "\n"
      ]
    },
    {
      "cell_type": "code",
      "execution_count": null,
      "metadata": {
        "id": "8NZWdslTnYH9",
        "colab": {
          "base_uri": "https://localhost:8080/",
          "height": 484
        },
        "outputId": "143b14fb-3be3-4910-8744-0de95e882a73"
      },
      "outputs": [
        {
          "output_type": "display_data",
          "data": {
            "text/plain": [
              "       index  year country_iso_code country_name \n",
              "85190   88354 2006 CHN              China        \n",
              "110867 114031 2015 QAT              Qatar        \n",
              "123666 126830 2020 ARG              Argentinia   \n",
              "3360     6524 1912 DZA              Algeria      \n",
              "59218   62382 1994 LUX              Luxembourg   \n",
              "111163 114327 2015 SMR              San Marino   \n",
              "73752   76916 2001 FRA              France       \n",
              "87311   90475 2007 AUT              Austria      \n",
              "96554   99718 2010 PER              Peru         \n",
              "63422   66586 1996 LIE              Liechtenstein\n",
              "       tech                            count\n",
              "85190  Control                         3072 \n",
              "110867 Telecommunications                 1 \n",
              "123666 Audio-visual technology            2 \n",
              "3360   Civil engineering                  4 \n",
              "59218  Civil engineering                  2 \n",
              "111163 Handling                           2 \n",
              "73752  Thermal processes and apparatus  379 \n",
              "87311  Surface technology, coating      107 \n",
              "96554  Optics                             1 \n",
              "63422  Semiconductors                     2 "
            ],
            "text/latex": "A data.frame: 10 × 6\n\\begin{tabular}{r|llllll}\n  & index & year & country\\_iso\\_code & country\\_name & tech & count\\\\\n  & <int> & <int> & <chr> & <chr> & <chr> & <int>\\\\\n\\hline\n\t85190 &  88354 & 2006 & CHN & China         & Control                         & 3072\\\\\n\t110867 & 114031 & 2015 & QAT & Qatar         & Telecommunications              &    1\\\\\n\t123666 & 126830 & 2020 & ARG & Argentinia    & Audio-visual technology         &    2\\\\\n\t3360 &   6524 & 1912 & DZA & Algeria       & Civil engineering               &    4\\\\\n\t59218 &  62382 & 1994 & LUX & Luxembourg    & Civil engineering               &    2\\\\\n\t111163 & 114327 & 2015 & SMR & San Marino    & Handling                        &    2\\\\\n\t73752 &  76916 & 2001 & FRA & France        & Thermal processes and apparatus &  379\\\\\n\t87311 &  90475 & 2007 & AUT & Austria       & Surface technology, coating     &  107\\\\\n\t96554 &  99718 & 2010 & PER & Peru          & Optics                          &    1\\\\\n\t63422 &  66586 & 1996 & LIE & Liechtenstein & Semiconductors                  &    2\\\\\n\\end{tabular}\n",
            "text/markdown": "\nA data.frame: 10 × 6\n\n| <!--/--> | index &lt;int&gt; | year &lt;int&gt; | country_iso_code &lt;chr&gt; | country_name &lt;chr&gt; | tech &lt;chr&gt; | count &lt;int&gt; |\n|---|---|---|---|---|---|---|\n| 85190 |  88354 | 2006 | CHN | China         | Control                         | 3072 |\n| 110867 | 114031 | 2015 | QAT | Qatar         | Telecommunications              |    1 |\n| 123666 | 126830 | 2020 | ARG | Argentinia    | Audio-visual technology         |    2 |\n| 3360 |   6524 | 1912 | DZA | Algeria       | Civil engineering               |    4 |\n| 59218 |  62382 | 1994 | LUX | Luxembourg    | Civil engineering               |    2 |\n| 111163 | 114327 | 2015 | SMR | San Marino    | Handling                        |    2 |\n| 73752 |  76916 | 2001 | FRA | France        | Thermal processes and apparatus |  379 |\n| 87311 |  90475 | 2007 | AUT | Austria       | Surface technology, coating     |  107 |\n| 96554 |  99718 | 2010 | PER | Peru          | Optics                          |    1 |\n| 63422 |  66586 | 1996 | LIE | Liechtenstein | Semiconductors                  |    2 |\n\n",
            "text/html": [
              "<table class=\"dataframe\">\n",
              "<caption>A data.frame: 10 × 6</caption>\n",
              "<thead>\n",
              "\t<tr><th></th><th scope=col>index</th><th scope=col>year</th><th scope=col>country_iso_code</th><th scope=col>country_name</th><th scope=col>tech</th><th scope=col>count</th></tr>\n",
              "\t<tr><th></th><th scope=col>&lt;int&gt;</th><th scope=col>&lt;int&gt;</th><th scope=col>&lt;chr&gt;</th><th scope=col>&lt;chr&gt;</th><th scope=col>&lt;chr&gt;</th><th scope=col>&lt;int&gt;</th></tr>\n",
              "</thead>\n",
              "<tbody>\n",
              "\t<tr><th scope=row>85190</th><td> 88354</td><td>2006</td><td>CHN</td><td>China        </td><td>Control                        </td><td>3072</td></tr>\n",
              "\t<tr><th scope=row>110867</th><td>114031</td><td>2015</td><td>QAT</td><td>Qatar        </td><td>Telecommunications             </td><td>   1</td></tr>\n",
              "\t<tr><th scope=row>123666</th><td>126830</td><td>2020</td><td>ARG</td><td>Argentinia   </td><td>Audio-visual technology        </td><td>   2</td></tr>\n",
              "\t<tr><th scope=row>3360</th><td>  6524</td><td>1912</td><td>DZA</td><td>Algeria      </td><td>Civil engineering              </td><td>   4</td></tr>\n",
              "\t<tr><th scope=row>59218</th><td> 62382</td><td>1994</td><td>LUX</td><td>Luxembourg   </td><td>Civil engineering              </td><td>   2</td></tr>\n",
              "\t<tr><th scope=row>111163</th><td>114327</td><td>2015</td><td>SMR</td><td>San Marino   </td><td>Handling                       </td><td>   2</td></tr>\n",
              "\t<tr><th scope=row>73752</th><td> 76916</td><td>2001</td><td>FRA</td><td>France       </td><td>Thermal processes and apparatus</td><td> 379</td></tr>\n",
              "\t<tr><th scope=row>87311</th><td> 90475</td><td>2007</td><td>AUT</td><td>Austria      </td><td>Surface technology, coating    </td><td> 107</td></tr>\n",
              "\t<tr><th scope=row>96554</th><td> 99718</td><td>2010</td><td>PER</td><td>Peru         </td><td>Optics                         </td><td>   1</td></tr>\n",
              "\t<tr><th scope=row>63422</th><td> 66586</td><td>1996</td><td>LIE</td><td>Liechtenstein</td><td>Semiconductors                 </td><td>   2</td></tr>\n",
              "</tbody>\n",
              "</table>\n"
            ]
          },
          "metadata": {}
        }
      ],
      "source": [
        "sample_n(dfp,10)"
      ]
    },
    {
      "cell_type": "markdown",
      "metadata": {
        "id": "PwTASoSanYH-"
      },
      "source": [
        "##### What are the first and last years in the data?\n",
        "\n"
      ]
    },
    {
      "cell_type": "code",
      "execution_count": null,
      "metadata": {
        "id": "Goa4mq47nYIA",
        "colab": {
          "base_uri": "https://localhost:8080/",
          "height": 72
        },
        "outputId": "cfeb8d50-1b43-4076-eb8e-e058a2d359a6"
      },
      "outputs": [
        {
          "output_type": "display_data",
          "data": {
            "text/plain": [
              "[1] 1906"
            ],
            "text/latex": "1906",
            "text/markdown": "1906",
            "text/html": [
              "1906"
            ]
          },
          "metadata": {}
        },
        {
          "output_type": "display_data",
          "data": {
            "text/plain": [
              "[1] 2020"
            ],
            "text/latex": "2020",
            "text/markdown": "2020",
            "text/html": [
              "2020"
            ]
          },
          "metadata": {}
        }
      ],
      "source": [
        "min(dfp$year)\n",
        "max(dfp$year)"
      ]
    },
    {
      "cell_type": "markdown",
      "metadata": {
        "id": "rdb0QirxnYIC"
      },
      "source": [
        "##### How many countries and technology classes are in the data?\n",
        "\n"
      ]
    },
    {
      "cell_type": "code",
      "execution_count": null,
      "metadata": {
        "id": "17hw1EAqnYIE",
        "colab": {
          "base_uri": "https://localhost:8080/",
          "height": 108
        },
        "outputId": "165995ac-ac68-4a31-e0b0-6c4ce6a7eb7f"
      },
      "outputs": [
        {
          "output_type": "stream",
          "name": "stdout",
          "text": [
            "[1] \"Unique N of counties:\"\n"
          ]
        },
        {
          "output_type": "display_data",
          "data": {
            "text/plain": [
              "[1] 229"
            ],
            "text/latex": "229",
            "text/markdown": "229",
            "text/html": [
              "229"
            ]
          },
          "metadata": {}
        },
        {
          "output_type": "stream",
          "name": "stdout",
          "text": [
            "[1] \"Unique N of technologies:\"\n"
          ]
        },
        {
          "output_type": "display_data",
          "data": {
            "text/plain": [
              "[1] 35"
            ],
            "text/latex": "35",
            "text/markdown": "35",
            "text/html": [
              "35"
            ]
          },
          "metadata": {}
        }
      ],
      "source": [
        "print('Unique N of counties:')\n",
        "\n",
        "length(unique(dfp$country_name))\n",
        "\n",
        "print('Unique N of technologies:')\n",
        "\n",
        "length(unique(dfp$tech))"
      ]
    },
    {
      "cell_type": "markdown",
      "metadata": {
        "id": "DE7H6PRjnYIG"
      },
      "source": [
        "#### RCAs\n",
        "\n"
      ]
    },
    {
      "cell_type": "code",
      "execution_count": null,
      "metadata": {
        "id": "Kb35nLaonYII",
        "colab": {
          "base_uri": "https://localhost:8080/",
          "height": 686
        },
        "outputId": "63464597-0ea8-4b43-dd5b-8c40f0be4d13"
      },
      "outputs": [
        {
          "output_type": "error",
          "ename": "ERROR",
          "evalue": "ignored",
          "traceback": [
            "\u001b[1m\u001b[33mError\u001b[39m in \u001b[1m\u001b[1m\u001b[30m\u001b[47m`filter()`\u001b[49m\u001b[39m:\u001b[22m\n\u001b[1m\u001b[22m\u001b[33m!\u001b[39m Problem while computing `..1 = selection_col == selection_value`.\n\u001b[1mCaused by error:\u001b[22m\n\u001b[33m!\u001b[39m object 'time_col' not found\nTraceback:\n",
            "1. calc_rca(data = dfp_rca, job_col, task_col, time_col, value_col)",
            "2. data %>% filter(selection_col == selection_value) %>% select(job_col, \n .     task_col, value_col, product_code)   # at line 5-7 of file <text>",
            "3. select(., job_col, task_col, value_col, product_code)",
            "4. filter(., selection_col == selection_value)",
            "5. filter.data.frame(., selection_col == selection_value)",
            "6. filter_rows(.data, ..., caller_env = caller_env())",
            "7. filter_eval(dots, mask = mask, error_call = error_call)",
            "8. withCallingHandlers({\n .     mask$eval_all_filter(dots, env_filter)\n . }, error = function(e) {\n .     local_error_context(dots = dots, .index = env_filter$current_expression, \n .         mask = mask)\n .     bullets <- c(cnd_bullet_header(\"computing\"), filter_bullets(e))\n .     abort(bullets, call = error_call, parent = skip_internal_condition(e))\n . })",
            "9. mask$eval_all_filter(dots, env_filter)",
            "10. .handleSimpleError(function (e) \n  . {\n  .     local_error_context(dots = dots, .index = env_filter$current_expression, \n  .         mask = mask)\n  .     bullets <- c(cnd_bullet_header(\"computing\"), filter_bullets(e))\n  .     abort(bullets, call = error_call, parent = skip_internal_condition(e))\n  . }, \"object 'time_col' not found\", base::quote(mask$eval_all_filter(dots, \n  .     env_filter)))",
            "11. h(simpleError(msg, call))",
            "12. abort(bullets, call = error_call, parent = skip_internal_condition(e))",
            "13. signal_abort(cnd, .file)"
          ]
        }
      ],
      "source": [
        "# rename columns accordingly\n",
        "dfp_rca <- dfp %>%\n",
        "  rename(time_col = year,\n",
        "         job_col = country_name,\n",
        "         task_col = tech,\n",
        "         value_col = count)\n",
        "\n",
        "# calculate RCA\n",
        "dfp_rca <- calc_rca(data=dfp_rca,job_col,task_col,time_col,value_col)\n",
        "\n",
        "print('patent rcas ready')"
      ]
    },
    {
      "cell_type": "markdown",
      "metadata": {
        "id": "5JSyj5F8nYIO"
      },
      "source": [
        "##### What were Japan and Germany specialized in, in 1960 and 2010?\n",
        "\n"
      ]
    },
    {
      "cell_type": "code",
      "execution_count": null,
      "metadata": {
        "id": "D9QjwHGPnYIS"
      },
      "outputs": [],
      "source": [
        "countries <- list(\"Japan\", \"Germany\")\n",
        "years <- list(1960, 2010)\n",
        "for (country in countries) {\n",
        "  for (year in years) {\n",
        "    dft <- dfp_rca %>%\n",
        "      filter(job_col == country, time_col == year) %>%\n",
        "      arrange(desc(RCAcpt)) %>%\n",
        "      head\n",
        "    print(dft)\n",
        "  }\n",
        "}"
      ]
    },
    {
      "cell_type": "markdown",
      "metadata": {
        "id": "Sg9R9do5nYIW"
      },
      "source": [
        "#### Technology proximities\n",
        "\n"
      ]
    },
    {
      "cell_type": "markdown",
      "metadata": {
        "id": "liBSfn9MnYIZ"
      },
      "source": [
        "What technology classes are most proximate (in 2010)?\n",
        "\n"
      ]
    },
    {
      "cell_type": "code",
      "execution_count": null,
      "metadata": {
        "id": "30hkdcGtnYIc"
      },
      "outputs": [],
      "source": [
        "# Define Mcp\n",
        "dfp_rca$Mcp = 0\n",
        "dfp_rca <- dfp_rca %>%\n",
        "  mutate(Mcp = ifelse(RCAcpt> 1, 1,0))\n",
        "\n",
        "# Keep only years 2010 and only country-product combinations where Mcp == 1 (thus RCAcp > 1)\n",
        "dft <-  dfp_rca %>%\n",
        "  filter(time_col==2010,Mcp==1)\n",
        "\n",
        "# Calculate cppt\n",
        "dfp_cppt <- calc_cppt(data=dft,job_col,task_col)\n",
        "\n",
        "print('cppt patent co-occurences and proximities dataframe ready')\n",
        "\n",
        "# Show most proximate technologies\n",
        "dfp_cppt %>%\n",
        "  arrange(desc(phi)) %>%\n",
        "  head(10)"
      ]
    },
    {
      "cell_type": "markdown",
      "metadata": {
        "id": "a0JSp-bJnYIe"
      },
      "source": [
        "(You can use density regressions as well here to predict technological diversification of countries. Shreyas will cover this Session 5).\n",
        "\n"
      ]
    },
    {
      "cell_type": "markdown",
      "metadata": {
        "id": "V65QNMRhnYIf"
      },
      "source": [
        "### Technological diversification of cities in the USA\n",
        "\n"
      ]
    },
    {
      "cell_type": "markdown",
      "metadata": {
        "id": "UjS3EZEznYIh"
      },
      "source": [
        "We can also investigate technological diversification at the sub-national level.\n",
        "\n",
        "Below we&rsquo;re using patent counts per city per technology from 1975 onwards (obtained from patents extracted from the PatentView database). Patents&rsquo; technologies are defined according to the Cooperative Patent Classification (CPC).\n",
        "\n"
      ]
    },
    {
      "cell_type": "markdown",
      "metadata": {
        "id": "74JJujgnnYIi"
      },
      "source": [
        "#### Load patent data\n",
        "\n"
      ]
    },
    {
      "cell_type": "code",
      "execution_count": null,
      "metadata": {
        "id": "FBz8bJgJnYIk"
      },
      "outputs": [],
      "source": [
        "# load csv file into R directly from URL\n",
        "print('loading patent data')\n",
        "dfp <- read.csv('https://www.dropbox.com/s/th4zqkmuofmg4u3/patentview_class_2022.csv?dl=1')\n",
        "#dfp <- read.csv('~/Dropbox/proj/odyssey_from/patentview_class_2022.csv')\n",
        "print('patent data loaded')"
      ]
    },
    {
      "cell_type": "markdown",
      "metadata": {
        "id": "NALOVbxcnYIn"
      },
      "source": [
        "##### Sample of data\n",
        "\n"
      ]
    },
    {
      "cell_type": "code",
      "execution_count": null,
      "metadata": {
        "id": "frYDszFUnYIo"
      },
      "outputs": [],
      "source": [
        "sample_n(dfp,10)"
      ]
    },
    {
      "cell_type": "markdown",
      "metadata": {
        "id": "53WDdcIGnYIq"
      },
      "source": [
        "##### What are the first and last years in the data?\n",
        "\n"
      ]
    },
    {
      "cell_type": "code",
      "execution_count": null,
      "metadata": {
        "id": "DXT7XdRFnYIt"
      },
      "outputs": [],
      "source": [
        "min(dfp$year)\n",
        "max(dfp$year)"
      ]
    },
    {
      "cell_type": "markdown",
      "metadata": {
        "id": "9nGXzRG9nYIv"
      },
      "source": [
        "##### How many cities (regions) and technology classes are in the data?\n",
        "\n"
      ]
    },
    {
      "cell_type": "code",
      "execution_count": null,
      "metadata": {
        "id": "h-iH-qmUnYIx"
      },
      "outputs": [],
      "source": [
        "print('Unique N of counties:')\n",
        "length(unique(dfp$region))\n",
        "\n",
        "print('Unique N of technologies:')\n",
        "length(unique(dfp$tech))"
      ]
    },
    {
      "cell_type": "markdown",
      "metadata": {
        "id": "E6eXvyKZnYI0"
      },
      "source": [
        "#### RCAs\n",
        "\n"
      ]
    },
    {
      "cell_type": "code",
      "execution_count": null,
      "metadata": {
        "id": "q0ifc6D9nYI4"
      },
      "outputs": [],
      "source": [
        "# rename columns accordingly\n",
        "dfp_rca <- dfp %>%\n",
        "  rename(time_col = year,\n",
        "         job_col = region,\n",
        "         task_col = tech,\n",
        "         value_col = count)\n",
        "\n",
        "# calculate RCA\n",
        "# -- keep 1980 and 2017\n",
        "dfp_rca <- dfp_rca %>% filter(time_col==1980 | time_col == 2017)\n",
        "\n",
        "# -- calculate\n",
        "dfp_rca <- calc_rca(data=dfp_rca,job_col,task_col,time_col,value_col)\n",
        "\n",
        "print('patent rcas ready')"
      ]
    },
    {
      "cell_type": "markdown",
      "metadata": {
        "id": "tNv7bLSqnYI6"
      },
      "source": [
        "##### What were Silicon Valley (Santa Clara county) and Detroit (MI - Wayne county) specialized in, in 1980 and 2017?\n",
        "\n"
      ]
    },
    {
      "cell_type": "code",
      "execution_count": null,
      "metadata": {
        "id": "UV8dB_xZnYI7"
      },
      "outputs": [],
      "source": [
        "# -- minimal 5 patents\n",
        "regions <- list(\"CA > Santa Clara\", \"MI > Wayne\")\n",
        "years <- list(1980, 2017)\n",
        "for (region in regions) {\n",
        "  for (year in years) {\n",
        "    dft <- dfp_rca %>%\n",
        "      filter(grepl(region, job_col),time_col==year,value_col>5) %>%\n",
        "      arrange(desc(RCAcpt)) %>%\n",
        "      head\n",
        "    print(dft)\n",
        "  }\n",
        "}"
      ]
    },
    {
      "cell_type": "markdown",
      "metadata": {
        "id": "R4TQCeTSnYI-"
      },
      "source": [
        "#### Technology proximities (cpc)\n",
        "\n"
      ]
    },
    {
      "cell_type": "markdown",
      "metadata": {
        "id": "3inQY7sxnYI_"
      },
      "source": [
        "What technology classes (cpc classification) are most proximate (in 2010)?\n",
        "\n"
      ]
    },
    {
      "cell_type": "code",
      "execution_count": null,
      "metadata": {
        "id": "hoZGkD7TnYJB"
      },
      "outputs": [],
      "source": [
        "# Define Mcp\n",
        "dfp_rca$Mcp = 0\n",
        "dfp_rca <- dfp_rca %>%\n",
        "  mutate(Mcp = ifelse(RCAcpt> 1, 1,0))\n",
        "\n",
        "# Keep only years 2010 and only country-product combinations where Mcp == 1 (thus RCAcp > 1)\n",
        "dft <-  dfp_rca %>%\n",
        "  filter(time_col==2017,Mcp==1)\n",
        "\n",
        "# Calculate cppt\n",
        "dfp_cppt <- calc_cppt(data=dft,job_col,task_col)\n",
        "\n",
        "print('df_cppt ready')\n",
        "print('cppt patent co-occurences and proximities dataframe ready')\n",
        "\n",
        "# Show most proximate technologies\n",
        "dfp_cppt %>%\n",
        "  arrange(desc(phi)) %>%\n",
        "  head(10)"
      ]
    },
    {
      "cell_type": "markdown",
      "metadata": {
        "id": "e7ji2PDgnYJE"
      },
      "source": [
        "## Product space\n",
        "\n"
      ]
    },
    {
      "cell_type": "markdown",
      "metadata": {
        "id": "uSq6a4npnYJI"
      },
      "source": [
        "### Overview\n",
        "\n"
      ]
    },
    {
      "cell_type": "markdown",
      "metadata": {
        "id": "x8Q21F9DnYJP"
      },
      "source": [
        "We now have a measure of similarity between products (and patents), which is the core of the product space.\n",
        "\n",
        "[https://atlas.cid.harvard.edu/explore/network?country=114&year=2018&productClass=HS&product=undefined&startYear=undefined&target=Product&partner=undefined](https://atlas.cid.harvard.edu/explore/network?country=114&year=2018&productClass=HS&product=undefined&startYear=undefined&target=Product&partner=undefined)\n",
        "\n",
        "![img](/Users/admin/Dropbox/proj/org_zhtml_projects/product-space-eci-workshop/imgs/product_space_atlas_website.png)\n",
        "\n",
        "![img](https://www.dropbox.com/s/izag1xf28yldanf/product_space_atlas_website.png?dl=1)\n",
        "\n",
        "Below we will explore the product space using R whilst interacting with Python. You can then directly manipulate the product space and visualize selectively if not possible in the Atlas interface (e.g. only products exported to certain countries).\n",
        "\n",
        "The Github repo for this is available at [https://github.com/matteha/py-productspace](https://github.com/matteha/py-productspace).\n",
        "\n",
        "What we need is information on:\n",
        "\n",
        "-   Edges (ties) between nodes\n",
        "    \n",
        "    Ties between nodes represent the product proximity calculated above. Each product pair has a proximity value, but visualizing all ties, however, would result in a major &ldquo;hairball&rdquo;.\n",
        "    \n",
        "    To determine which of the ties to visualize in the product space, a &rsquo;maximum spanning tree algorithm&rsquo; is used (to make sure all nodes are connected directly or indirectly) in conjunction with a certain proximity threshold (0.55 minimum conditional probability). The details can be found in the Supplementary Material of Hidalgo et al. (2007) at [https://science.sciencemag.org/content/suppl/2007/07/26/317.5837.482.DC1](https://science.sciencemag.org/content/suppl/2007/07/26/317.5837.482.DC1).\n",
        "    \n",
        "    The data on the ties of nodes is available in the Atlas data repository at:\n",
        "    [https://dataverse.harvard.edu/file.xhtml?persistentId=doi:10.7910/DVN/FCDZBN/QSEETD&version=1.1](https://dataverse.harvard.edu/file.xhtml?persistentId=doi:10.7910/DVN/FCDZBN/QSEETD&version=1.1)\n",
        "    \n",
        "    We can directly load it into R using the link below (temporarily for this session, when using Harvard&rsquo;s dataverse you&rsquo;d need to sign a short User Agreement form so you can&rsquo;t load data directly from a URL):\n",
        "    \n",
        "    [https://www.dropbox.com/s/r601tjoulq1denf/network_hs92_4digit.json?dl=1](https://www.dropbox.com/s/r601tjoulq1denf/network_hs92_4digit.json?dl=1)\n",
        "\n",
        "-   Position of nodes\n",
        "    -   Each node is a product\n",
        "    \n",
        "    -   To position them in the product space, Hidalgo et al. (2007) used a spring embedding algorithm (which positions the nodes in such a way that there are as few crossing ties as possible, using physical simulations with force-directed algorithms), followed by hand-crafting the outcome to further visually separate distinct &rsquo;clusters&rsquo; of products.\n",
        "        \n",
        "        The data on the position of nodes (x, y coordinates) is in the same file as the one above with the data on ties (network<sub>hs92</sub><sub>4digit.json</sub>).\n",
        "        \n",
        "        We will use this fixed layout for now (James and Yang will deal with different ways to visualize multi-dimensional data in 2D/3D, e.g. with machine learning, UMAP).\n",
        "\n",
        "-   Size of nodes\n",
        "    \n",
        "    The size in the product space represents the total $ in world trade, but one can also use other attributes of nodes (e.g. if nodes are industries, the size could be total employment).\n",
        "\n",
        "-   Color of nodes\n",
        "    \n",
        "    In the product space the node color represents major product groups (e.g. Agriculture, Chemicals) following the Leamer classification. The node coloring data is available in the Atlas data repository at:\n",
        "    [https://dataverse.harvard.edu/dataverse/atlas?q=&types=files&sort=dateSort&order=desc&page=1](https://dataverse.harvard.edu/dataverse/atlas?q=&types=files&sort=dateSort&order=desc&page=1)\n",
        "    \n",
        "    We can directly load it into R using the link below (again, temporary for this session):\n",
        "    \n",
        "    [https://www.dropbox.com/s/rlm8hu4pq0nkg63/hs4_hex_colors_intl_atlas.csv?dl=1](https://www.dropbox.com/s/rlm8hu4pq0nkg63/hs4_hex_colors_intl_atlas.csv?dl=1)\n",
        "\n"
      ]
    },
    {
      "cell_type": "markdown",
      "metadata": {
        "id": "J9hSpTxKnYJV"
      },
      "source": [
        "### (Visualizing in the product space, using R with Python)\n",
        "\n"
      ]
    },
    {
      "cell_type": "markdown",
      "metadata": {
        "id": "nOLiYNrxnYJd"
      },
      "source": [
        "Some (most) tools at the Growth Lab are written in Python / STATA rather than R, but with the &rsquo;reticulate&rsquo; package in R one can interact directly with Python libraries in the backend. Below is a showcase of one way to do so;\n",
        "\n",
        "Yang&rsquo;s session (Session 3) will go much deeper into visualization as such using UMAP, machine learning etc.\n",
        "\n"
      ]
    },
    {
      "cell_type": "markdown",
      "metadata": {
        "id": "yKqyGVZhnYJe"
      },
      "source": [
        "#### Prepare dataframe\n",
        "\n"
      ]
    },
    {
      "cell_type": "markdown",
      "metadata": {
        "id": "2YVwfiXPnYJg"
      },
      "source": [
        "First we select the country which product portfolio we wish to visualize. We&rsquo;ll use Saudi Arabia below for the dataframe of the product space (&rsquo;df<sub>ps</sub>&rsquo;).\n",
        "\n"
      ]
    },
    {
      "cell_type": "code",
      "execution_count": null,
      "metadata": {
        "id": "vvoaepKYnYJi"
      },
      "outputs": [],
      "source": [
        "   JOB_STRING <- 'Chief Executives'\n",
        " #JOB_STRING <- 'Tire Repairers and Changers'\n",
        "df_ps <- df_rca %>%\n",
        "  filter(job_col==JOB_STRING)\n",
        "\n",
        "# Cross-check\n",
        "if (dim(df_ps)[1]==0) {\n",
        "    print('Country string set above does not exist in data, typed correctly?')\n",
        "    STOP\n",
        "}"
      ]
    },
    {
      "cell_type": "markdown",
      "metadata": {
        "id": "TFqQRrjynYJl"
      },
      "source": [
        "##### Country, RCA, year, export value selections\n",
        "\n"
      ]
    },
    {
      "cell_type": "markdown",
      "metadata": {
        "id": "nwvQ98dsnYJp"
      },
      "source": [
        "Next we define what trade properties of Saudi Arabia we want to visualize. The example below visualizes specialiation in 2005 (year=2005, RCAcpt>1) of only those products with at least 40 million in trade value.\n",
        "\n",
        "This data preparation happens before inputting into it the product space function so you can inspect the dataframe before plotting.\n",
        "\n"
      ]
    },
    {
      "cell_type": "code",
      "execution_count": null,
      "metadata": {
        "id": "9PAZc6ManYJs"
      },
      "outputs": [],
      "source": [
        "df_ps <- \n",
        "df_rca %>%\n",
        "  filter(job_col==JOB_STRING)   %>% \n",
        "    select(task_col,value_col, product_code)"
      ]
    },
    {
      "cell_type": "markdown",
      "metadata": {
        "id": "ZOgOcvMinYJu"
      },
      "source": [
        "To visualize the data in the product space, we will now use a Product Space visualization package by the Growth Lab written in Python (work in progress) at\n",
        "\n",
        "[https://github.com/cid-harvard/py-productspace](https://github.com/cid-harvard/py-productspace)\n",
        "\n",
        "The &rsquo;reticulate&rsquo; library in R allows one to (easily) incorporate python libraries in R:\n",
        "\n",
        "[https://rstudio.github.io/reticulate/](https://rstudio.github.io/reticulate/)\n",
        "\n",
        "Any Python module can be imported into and called from R (using &rsquo;import&rsquo;). For instance, we can import Python&rsquo;s os module and call the getcwd function to show the current working directory:\n",
        "\n"
      ]
    },
    {
      "cell_type": "code",
      "execution_count": null,
      "metadata": {
        "id": "Gfhq7ZSHnYJv"
      },
      "outputs": [],
      "source": [
        "os <- import(\"os\")\n",
        "os$getcwd()"
      ]
    },
    {
      "cell_type": "markdown",
      "metadata": {
        "id": "jzUe1n-PnYJw"
      },
      "source": [
        "Below we&rsquo;ll import into R the product space visualization library in Python and visualize Saudi Arabia&rsquo;s portfolio accordingly:\n",
        "\n"
      ]
    },
    {
      "cell_type": "code",
      "execution_count": null,
      "metadata": {
        "id": "4nWAcxUjnYJx"
      },
      "outputs": [],
      "source": [
        "# store df_ps dataframe in R's temporary folder before loading it into Python\n",
        "file_name <- tempfile(fileext = \".csv\")\n",
        "write.csv(df_ps, file=file_name,row.names=FALSE)\n",
        " print(file_name)\n",
        " \n",
        "# Call the python function from R\n",
        "source_python('https://raw.githubusercontent.com/cid-harvard/py-productspace/master/create_product_space_v2.py')\n",
        "\n",
        "# Filename of product space image (saved in R's temporary folder)\n",
        "network_image_file_name <- tempfile(fileext=\".png\")\n",
        "\n",
        "# To add R variables as Python parameters, we'll use the glue library\n",
        "string_python <- glue(\"create_product_space(df_plot_dataframe_filename ='{file_name}', \\\\\\\n",
        "                     df_plot_node_col = 'task_col', \\\\\\\n",
        "                     df_node_size_col = 'value_col', \\\\\\\n",
        "                     output_image_file ='{network_image_file_name}')\"\n",
        "                     )\n",
        "\n",
        "# Run the python string\n",
        "py_run_string(string_python)\n",
        "\n",
        "sprintf('product space image saved in %s',network_image_file_name)\n",
        "\n",
        "# Plot the product space now\n",
        "\n",
        "# -- load png file\n",
        "pp <- readPNG(network_image_file_name)\n",
        "\n",
        "# -- enlarge plot area in Jupyter Notebook\n",
        "options(repr.plot.width=15, repr.plot.height=15)\n",
        "\n",
        "# -- plot, enlarge width / height for higher resolution\n",
        "grid::grid.raster(pp,width=1.8,height=1.8)\n",
        "\n",
        "print('the network can be saved as an image locally by right clicking on it in the notebook\n",
        "and clicking \"Save Image\", or by editing the output_image_file parameter above')"
      ]
    },
    {
      "cell_type": "markdown",
      "metadata": {
        "id": "g5enB_RenYJy"
      },
      "source": [
        "## -----------&#x2013;&#x2014; Break: Excercise 1 ------------------\n",
        "\n"
      ]
    },
    {
      "cell_type": "markdown",
      "metadata": {
        "id": "w4qPVkgjnYJz"
      },
      "source": [
        "### What product does Ukraine export most in 1995? (excluding services such as &rsquo;transport&rsquo;, &rsquo;ict&rsquo; etc)\n",
        "\n"
      ]
    },
    {
      "cell_type": "code",
      "execution_count": null,
      "metadata": {
        "id": "PzmvnLbCnYJ1"
      },
      "outputs": [],
      "source": [
        "df_orig %>%\n",
        "  filter(country_code == 'UKR' & year == 1995 & !is.na(as.numeric(product_code))) %>% \n",
        "  group_by(product_code,product_name) %>%\n",
        "  summarise(sum_export_value = sum(export_value)) %>%\n",
        "  arrange(desc(sum_export_value)) %>%\n",
        "  head(1)"
      ]
    },
    {
      "cell_type": "markdown",
      "metadata": {
        "id": "0_lmBktKnYJ2"
      },
      "source": [
        "### What products is Ukraine specialized in in 1995 and 2005 and how much do they export of these?\n",
        "\n"
      ]
    },
    {
      "cell_type": "code",
      "execution_count": null,
      "metadata": {
        "id": "NI8G-ejEnYJ5"
      },
      "outputs": [],
      "source": [
        ""
      ]
    },
    {
      "cell_type": "markdown",
      "metadata": {
        "id": "njOn6NbCnYJ9"
      },
      "source": [
        "### Which product is most related to the product &rsquo;Stainless steel wire&rsquo;?\n",
        "\n"
      ]
    },
    {
      "cell_type": "code",
      "execution_count": null,
      "metadata": {
        "id": "M9OI2kxnnYJ-"
      },
      "outputs": [],
      "source": [
        ""
      ]
    },
    {
      "cell_type": "markdown",
      "metadata": {
        "id": "-KJM1sAunYKA"
      },
      "source": [
        "### Plot Ukraine in the product space in 1995.\n",
        "\n"
      ]
    },
    {
      "cell_type": "markdown",
      "metadata": {
        "id": "Z4Y9cCMtnYKC"
      },
      "source": [
        "How would you characterize Ukraine&rsquo;s position in the product space?\n",
        "\n"
      ]
    },
    {
      "cell_type": "code",
      "execution_count": null,
      "metadata": {
        "id": "4oR2OpQvnYKD"
      },
      "outputs": [],
      "source": [
        ""
      ]
    },
    {
      "cell_type": "markdown",
      "metadata": {
        "id": "IpHYgkCPnYKE"
      },
      "source": [
        "### Plot Ukraine in the product space in 2015.\n",
        "\n"
      ]
    },
    {
      "cell_type": "markdown",
      "metadata": {
        "id": "6vC8fFiZnYKG"
      },
      "source": [
        "Do you notice a difference with 1995?\n",
        "\n"
      ]
    },
    {
      "cell_type": "code",
      "execution_count": null,
      "metadata": {
        "id": "9HeABvhYnYKI"
      },
      "outputs": [],
      "source": [
        ""
      ]
    },
    {
      "cell_type": "markdown",
      "metadata": {
        "id": "RoQPsaSBnYKJ"
      },
      "source": [
        "### Plot your own country across different years in the product space. Do the results make sense? Do you notice any patterns?\n",
        "\n"
      ]
    },
    {
      "cell_type": "code",
      "execution_count": null,
      "metadata": {
        "id": "Xy-h3FrSnYKL"
      },
      "outputs": [],
      "source": [
        ""
      ]
    },
    {
      "cell_type": "markdown",
      "metadata": {
        "id": "RIj5vDjunYKM"
      },
      "source": [
        "## Predicting diversification of countries: densities / density regressions\n",
        "\n"
      ]
    },
    {
      "cell_type": "markdown",
      "metadata": {
        "id": "iOIHByFVnYKN"
      },
      "source": [
        "Shreyas will cover this.\n",
        "\n"
      ]
    },
    {
      "cell_type": "markdown",
      "metadata": {
        "id": "0IR9uDyZnYKO"
      },
      "source": [
        "## Calculating Economic Complexity / Product Complexity\n",
        "\n"
      ]
    },
    {
      "cell_type": "markdown",
      "metadata": {
        "id": "78Mj9VltnYKP"
      },
      "source": [
        "We know from the product space and density regressions how products are related to one another and how that matters for diversification of countries.\n",
        "\n",
        "The next step is to look at which parts of the product space are most interesting to ultimately reach / diversify into. Generally complex products are located in the center of the product space, and countries with a higher economic complexity tend to have higher economic growth.\n",
        "\n",
        "![img](https://github.com/matteha/product-space-eci-workshop/blob/main/imgs/complex_products_in_product_space.png?raw=1)\n",
        "\n",
        "![img](https://www.dropbox.com/s/a231jw76yocjkkr/complex_products_in_product_space.png?dl=1)\n",
        "\n",
        "Recall from the lecture that the economic complexity index (ECI) and product complexity index (PCI) measures are derived from an iterative method of reflections algorithm on country diversity and product ubiquity (Hidalgo Hausmann 2009), or finding the eigenvalues of a country-product matrix (Mealy et al. 2019):\n",
        "\n",
        "![img](/Users/admin/Dropbox/proj/org_zhtml_projects/product-space-eci-workshop/imgs/countries_products_eci.png)\n",
        "\n",
        "![img](https://www.dropbox.com/s/dte4vwgk4tvj3rd/countries_products_eci.png?dl=1)\n",
        "\n",
        "The STATA package to calculate this - by Sebastian Bustos and Muhammed Yildirim - is available at:\n",
        "\n",
        "[https://github.com/cid-harvard/ecomplexity](https://github.com/cid-harvard/ecomplexity)\n",
        "\n",
        "The Python package to calculate this - by Shreyas Gadgin Matha - is available at:\n",
        "\n",
        "[https://github.com/cid-harvard/py-ecomplexity](https://github.com/cid-harvard/py-ecomplexity)\n",
        "\n",
        "The R package to calculate this, by Mauricio Vargas, Carlo Bottai, Diego Kozlowski, Nico Pintar, The World Bank, Open Trade Statistics, is available at:\n",
        "\n",
        "[https://cran.r-project.org/web/packages/economiccomplexity/index.html](https://cran.r-project.org/web/packages/economiccomplexity/index.html)\n",
        "\n",
        "(When using other software, e.g. Excel without having access to these packages, one can also calculate ECI by directly downloading the PCI value for every product from the Atlas Dataverse repository - the ECI of a country is the mean of the PCI values of the products it has a comparative advantage in).\n",
        "\n"
      ]
    },
    {
      "cell_type": "markdown",
      "metadata": {
        "id": "bLaol643nYKQ"
      },
      "source": [
        "### Using the &rsquo;economiccomplexity&rsquo; R package\n",
        "\n"
      ]
    },
    {
      "cell_type": "markdown",
      "metadata": {
        "id": "Uv1PFuG2nYKR"
      },
      "source": [
        "#### Trade data\n",
        "\n"
      ]
    },
    {
      "cell_type": "code",
      "execution_count": null,
      "metadata": {
        "id": "qIdlDlf0nYKS"
      },
      "outputs": [],
      "source": [
        "# select only year 2000\n",
        "dft <- df_orig %>% filter(year==2000) %>% select (country_name,product_name,export_value)\n",
        "\n",
        "# rename columns accordingly\n",
        "dft <- dft %>%\n",
        "  rename(country = country_name,\n",
        "         product = product_name,\n",
        "         value = export_value)\n",
        "\n",
        "# calculate the Balassa index (rca, 1 if > 1)\n",
        "bi <- balassa_index(dft)\n",
        "\n",
        "# calculate eci / pci, using reflections here: same values as py-ecomplexity package\n",
        "cm <- complexity_measures(bi,method='reflections')\n",
        "\n",
        "# convert to tibble, add country names, sort from most to least complex\n",
        "# -- xci labels are set with setNames (extract with 'names')\n",
        "df_eci <- cm$complexity_index_country %>%\n",
        "  as_tibble() %>%\n",
        "  mutate(country = names(cm$complexity_index_country)) %>%\n",
        "  rename(eci = value)\n",
        "\n",
        "# same procedure for products (pci)\n",
        "df_pci <- cm$complexity_index_product %>%\n",
        "  as_tibble() %>%\n",
        "  mutate(product = names(cm$complexity_index_product)) %>%\n",
        "  rename(pci= value)\n",
        "\n",
        "# add product codes as well to df_pci\n",
        "df_product_codes <- df_orig %>%\n",
        "  select(product_name,product_code) %>%\n",
        "  distinct(product_name, .keep_all= TRUE) # drop_duplicates in pandas\n",
        "\n",
        "df_pci <- left_join(df_pci,df_product_codes,by=c('product'='product_name'))\n",
        "#########\n",
        "\n",
        "print('eci, pci dataframes ready')"
      ]
    },
    {
      "cell_type": "markdown",
      "metadata": {
        "id": "FPn61RVUnYKU"
      },
      "source": [
        "Most complex countries:\n",
        "\n"
      ]
    },
    {
      "cell_type": "code",
      "execution_count": null,
      "metadata": {
        "id": "uURFSGRlnYKW"
      },
      "outputs": [],
      "source": [
        "df_eci %>% arrange(desc(eci)) %>% head"
      ]
    },
    {
      "cell_type": "markdown",
      "metadata": {
        "id": "bar9HX3anYKZ"
      },
      "source": [
        "Most complex products:\n",
        "\n"
      ]
    },
    {
      "cell_type": "code",
      "execution_count": null,
      "metadata": {
        "id": "rhEa5TKHnYKa"
      },
      "outputs": [],
      "source": [
        "df_pci %>% arrange(desc(pci)) %>% head"
      ]
    },
    {
      "cell_type": "markdown",
      "metadata": {
        "id": "bG5WtyVAnYKb"
      },
      "source": [
        "### Complexity weighted by destination (example: Ukraine)\n",
        "\n"
      ]
    },
    {
      "cell_type": "markdown",
      "metadata": {
        "id": "cDi0DVUXnYKd"
      },
      "source": [
        "You can also calculate economic complexity by destination.\n",
        "\n",
        "We did this to explore opportunities for Ukraine (to connect to European value chains):\n",
        "\n",
        "[https://growthlab.cid.harvard.edu/publications/assessing-ukraines-role-european-value-chains-gravity-equation-cum-economic](https://growthlab.cid.harvard.edu/publications/assessing-ukraines-role-european-value-chains-gravity-equation-cum-economic)\n",
        "\n",
        "(Using the ECI by destination we found that highly complex products from Ukraine in the 2000s were typically destined for the Russian market, which was also one of the largest importers of products from Ukraine. The detoriation in relations with Russia led to a significant decline in exports there from 2011 onwards, resulting in Ukraine suffering from not only a quantitative but also a qualitative decline in exports).\n",
        "\n",
        "Hidalgo and Hausmann (2009) calculate complexity of country $c$ as the average PCI of all products for which ${RCA}_{cp}>1$.\n",
        "\n",
        "Below we define it as the weighted average PCI, where weights are given by the value of country $c$’s exports in each product. This allows us to define an ECI for separate export markets.\n",
        "\n",
        "Let $\\mathcal{M}$ be the set of countries that together constitute an export market (say, the EU&rsquo;s Single Market). Now, the destination-market specific ECI for country $c$ is defined as:\n",
        "\n",
        "\\begin{equation} \\label{e_ECI}\n",
        "ECI_{c}^{\\mathcal{M}}=\\sum \\limits_{p} \\frac{\\sum \\limits_{d \\in \\mathcal{M}} X^{d}_{op}}{\\sum \\limits_{d \\in \\mathcal{M}} X^{d}_{o}} {PCI}_{p}   \n",
        "\\end{equation}\n",
        "\n",
        "where $X_{op}^{d}$ represents the exports of product $p$ from exporter $o$ to importer $d$ and an omitted subscript indicates the summation over the omitted category: $X_{o}^{d}=\\sum \\limits_{p} X_{op}^{d}$.\n",
        "\n",
        "To calculate this, we need a dataset that has country exports **per destination** for this, which is available in the Growth Lab&rsquo;s DataVerse as:\n",
        "\n",
        "    \"country_partner_hsproduct4digit_years_2000_2016.csv\"\n",
        "\n",
        "As this file above is 16 gigabytes, we will load a version of it for only Ukraine&rsquo;s exports. This file has been processed outside of Google colab using the code below:\n",
        "\n",
        "    df = pd.read_csv('country_partner_hsproduct4digit_years_2000_2016.csv')\n",
        "    df = df[df['location_code_code']=='UKR')\n",
        "    df = df[df['export_value']>0]\n",
        "    df.to_csv('ukr_exports_per_destination.csv',index=False)\n",
        "\n"
      ]
    },
    {
      "cell_type": "code",
      "execution_count": null,
      "metadata": {
        "id": "_Rj9dbxBnYKe"
      },
      "outputs": [],
      "source": [
        "# Complexity by destination\n",
        "print('loading data')\n",
        "#df_ukr <- read_csv(file='~/Dropbox/proj/org_zhtml_projects/product-space-eci-workshop/files/ukr_exports_per_destination.csv')\n",
        "df_ukr <- read_csv(file='https://www.dropbox.com/s/megm8qzn3jcwnqz/ukr_exports_per_destination.csv?dl=1')\n",
        "print('loaded')\n",
        "\n",
        "# show sample of dataset\n",
        "sample_n(df_ukr,10)"
      ]
    },
    {
      "cell_type": "markdown",
      "metadata": {
        "id": "A3GsoruXnYKg"
      },
      "source": [
        "Merge PCI from products in 2000 into the dataframe (from df<sub>ec</sub> created in previous section using py-ecomplexity).\n",
        "\n"
      ]
    },
    {
      "cell_type": "code",
      "execution_count": null,
      "metadata": {
        "id": "cC6LVBXKnYKh"
      },
      "outputs": [],
      "source": [
        "# add leading zero if 3-digit\n",
        "df_ukr$len_hs_product_code = str_length(df_ukr$hs_product_code)\n",
        "df_ukr <- df_ukr %>%\n",
        "    mutate(hs_product_code = ifelse(len_hs_product_code == 3, paste('0',hs_product_code,sep=\"\"),hs_product_code))\n",
        "\n",
        "# strip leading / trailing spaces\n",
        "df_ukr$hs_product_code <- trimws(df_ukr$hs_product_code, which = c(\"both\"))\n",
        "\n",
        "# merge\n",
        "df_ukr <- left_join(df_ukr, df_pci, by = c(\"hs_product_code\" = \"product_code\"))"
      ]
    },
    {
      "cell_type": "markdown",
      "metadata": {
        "id": "LG6QnmZtnYKi"
      },
      "source": [
        "Now we calculate the ECI by destination:\n",
        "\n"
      ]
    },
    {
      "cell_type": "code",
      "execution_count": null,
      "metadata": {
        "id": "bYjQ2S9rnYKj"
      },
      "outputs": [],
      "source": [
        "calc_ecimc <- function(data,origin_col,destination_col,task_col,value_col,pci_col) {\n",
        "           dft <- data\n",
        "\n",
        "           # total exports by exporter-importer\n",
        "           dft <- dft %>%\n",
        "             group_by(origin_col,destination_col) %>%\n",
        "             mutate(export_value_cot = sum(value_col))\n",
        "\n",
        "           # sum of pci per export\n",
        "           dft$pci_x_export = dft$pci_col * dft$value_col\n",
        "\n",
        "           dft <- dft %>%\n",
        "             group_by(origin_col,destination_col) %>%\n",
        "             mutate(pci_x_export_sum = sum(pci_x_export))\n",
        "\n",
        "           dft$eciMc = dft$pci_x_export_sum / dft$export_value_cot\n",
        "\n",
        "           dft <- dft %>%\n",
        "             distinct(origin_col,destination_col, .keep_all= TRUE)\n",
        "\n",
        "           dft <- dft %>% select(origin_col,destination_col,eciMc)\n",
        "\n",
        "           return(dft)\n",
        "         }\n",
        "\n",
        "print('ecimc function defined')"
      ]
    },
    {
      "cell_type": "code",
      "execution_count": null,
      "metadata": {
        "id": "Efudvli-nYKj"
      },
      "outputs": [],
      "source": [
        "df_ukr_ecimc <- df_ukr %>%\n",
        "  rename(origin_col = location_code,\n",
        "         destination_col = partner_code,\n",
        "         task_col = hs_product_code,\n",
        "         value_col = export_value,\n",
        "         pci_col = pci\n",
        "  )\n",
        "\n",
        "# calculate ecimc\n",
        "df_ukr_ecimc <- calc_ecimc(data=df_ukr_ecimc,origin_col,destination_col,task_col,value_col,pci_col)\n",
        "\n",
        "print('dataset eci weighted ready, sample below')\n",
        "\n",
        "head(df_ukr_ecimc)"
      ]
    },
    {
      "cell_type": "markdown",
      "metadata": {
        "id": "_lybVY4EnYKk"
      },
      "source": [
        "Economic complexity of Ukrainian exports by destination: most complex highlighted\n",
        "\n"
      ]
    },
    {
      "cell_type": "code",
      "execution_count": null,
      "metadata": {
        "id": "KfTmx3btnYKl"
      },
      "outputs": [],
      "source": [
        "print ('need to install highcharter / maps but takes some time on google co-lab, hence not done at beginning')\n",
        "\n",
        "###################\n",
        "###################\n",
        "ptm <- proc.time()\n",
        "print('installing highcharter')\n",
        "install.packages('highcharter',verbose=TRUE)\n",
        "install.packages('highcharter') # slow install (in colab)\n",
        "proc.time() - ptm\n",
        "\n",
        "ptm <- proc.time()\n",
        "print('installing maps')\n",
        "install.packages('maps',verbose=TRUE)\n",
        "install.packages('maps')\n",
        "proc.time() - ptm\n",
        "###################\n",
        "###################\n",
        "\n",
        "library('highcharter')\n",
        "library('maps')"
      ]
    },
    {
      "cell_type": "code",
      "execution_count": null,
      "metadata": {
        "id": "_fzD7fV3nYKm"
      },
      "outputs": [],
      "source": [
        "df_ukr_ecimc_map <- df_ukr_ecimc %>%\n",
        "  rename(\"iso-a3\"=\"destination_col\")\n",
        "\n",
        "hcmap(\n",
        "  map = \"custom/world-highres3\", # high resolution world map\n",
        "  # eci in 85th percentile\n",
        "  data = filter(df_ukr_ecimc_map,eciMc>quantile(df_ukr_ecimc_map$eciMc,probs=c(0.85),na.rm=TRUE)),\n",
        "  joinBy = \"iso-a3\",\n",
        "  value = \"eciMc\",\n",
        "  showInLegend = FALSE, # hide legend\n",
        "  #nullColor = \"#DADADA\",\n",
        "  download_map_data = TRUE\n",
        ") %>% hc_colorAxis(minColor = \"orange\", maxColor = \"red\")"
      ]
    },
    {
      "cell_type": "code",
      "execution_count": null,
      "metadata": {
        "id": "JWIMr4dhnYKn"
      },
      "outputs": [],
      "source": [
        "head(df_ukr_ecimc)"
      ]
    },
    {
      "cell_type": "markdown",
      "metadata": {
        "id": "YQg7UzmHnYKp"
      },
      "source": [
        "Highly complex products are typically destined for the Russian market, which is also one of the largest importers of products from Ukraine.\n",
        "\n",
        "The detoriation in relations with Russia led to a significant decline in exports there from 2011 onwards:\n",
        "![img](https://www.dropbox.com/s/xfl3gig3zxer0fm/total_exports_Ukraine_over_years.png?dl=1)\n",
        "\n",
        "As a result, Ukraine suffers from not only a quantitative but also a qualitative decline in exports. In the paper we explore new opportunities for Ukraine.\n",
        "\n",
        "(Note: double-check political controversies when using mapping libraries in R / Python (e.g. geopandas, highcharter)!)\n",
        "\n",
        "![img](https://www.dropbox.com/s/twtl8p5ksgfezm0/map_ukraine.png?dl=1)\n",
        "\n"
      ]
    },
    {
      "cell_type": "markdown",
      "metadata": {
        "id": "6ILiJFRRnYKr"
      },
      "source": [
        "## -----------&#x2013;&#x2014; Break: Excercise 2 ------------------\n",
        "\n"
      ]
    },
    {
      "cell_type": "markdown",
      "metadata": {
        "id": "TBtCdBY7nYKs"
      },
      "source": [
        "### What are countries with high complexity in 2015?\n",
        "\n"
      ]
    },
    {
      "cell_type": "code",
      "execution_count": null,
      "metadata": {
        "id": "ZmTMwgDInYKu"
      },
      "outputs": [],
      "source": [
        ""
      ]
    },
    {
      "cell_type": "markdown",
      "metadata": {
        "id": "V5UA1H-KnYKv"
      },
      "source": [
        "### Vice versa, what are countries with low complexity in 2015?\n",
        "\n"
      ]
    },
    {
      "cell_type": "code",
      "execution_count": null,
      "metadata": {
        "id": "ZiwBRawSnYKw"
      },
      "outputs": [],
      "source": [
        ""
      ]
    },
    {
      "cell_type": "markdown",
      "metadata": {
        "id": "2VEdcP_9nYKx"
      },
      "source": [
        "### What are products (PCI) with high complexity in 2015?\n",
        "\n"
      ]
    },
    {
      "cell_type": "code",
      "execution_count": null,
      "metadata": {
        "id": "bafphGMqnYK0"
      },
      "outputs": [],
      "source": [
        ""
      ]
    },
    {
      "cell_type": "markdown",
      "metadata": {
        "id": "iJmfpjH9nYK1"
      },
      "source": [
        "### Vice versa, what are products (PCI) with low complexity in 2015?\n",
        "\n"
      ]
    },
    {
      "cell_type": "code",
      "execution_count": null,
      "metadata": {
        "id": "kqBojpINnYK2"
      },
      "outputs": [],
      "source": [
        ""
      ]
    },
    {
      "cell_type": "markdown",
      "metadata": {
        "id": "pH0et6rrnYK3"
      },
      "source": [
        "### Ukraine\n",
        "\n"
      ]
    },
    {
      "cell_type": "markdown",
      "metadata": {
        "id": "1-NQzdRbnYK4"
      },
      "source": [
        "#### How did Ukraine&rsquo;s economic complexity evolve over time?\n",
        "\n"
      ]
    },
    {
      "cell_type": "code",
      "execution_count": null,
      "metadata": {
        "id": "FN8ZJ7SSnYK5"
      },
      "outputs": [],
      "source": [
        ""
      ]
    },
    {
      "cell_type": "markdown",
      "metadata": {
        "id": "nUpUiJdVnYK6"
      },
      "source": [
        "#### How does Ukraine&rsquo;s economic complexity in 2015 compare to other countries? Which countries have comparable economic complexity?\n",
        "\n"
      ]
    },
    {
      "cell_type": "code",
      "execution_count": null,
      "metadata": {
        "id": "Z5jYvDIBnYK7"
      },
      "outputs": [],
      "source": [
        ""
      ]
    },
    {
      "cell_type": "markdown",
      "metadata": {
        "id": "ysv0ZeV9nYK8"
      },
      "source": [
        "#### What are the most complex products that Ukraine exported in 2015?\n",
        "\n"
      ]
    },
    {
      "cell_type": "code",
      "execution_count": null,
      "metadata": {
        "id": "hwf4lHwknYK9"
      },
      "outputs": [],
      "source": [
        ""
      ]
    },
    {
      "cell_type": "markdown",
      "metadata": {
        "id": "wo7_cGZTnYK-"
      },
      "source": [
        "## ---\n",
        "\n"
      ]
    },
    {
      "cell_type": "markdown",
      "metadata": {
        "id": "DEAm69TcnYK_"
      },
      "source": [
        "## ---\n",
        "\n"
      ]
    },
    {
      "cell_type": "markdown",
      "metadata": {
        "id": "6dTF_Yd9nYLA"
      },
      "source": [
        "## ---\n",
        "\n"
      ]
    },
    {
      "cell_type": "markdown",
      "metadata": {
        "id": "n0sGf7QSnYLC"
      },
      "source": [
        "## Excercise answers\n",
        "\n"
      ]
    },
    {
      "cell_type": "markdown",
      "metadata": {
        "id": "ktNXp5zrnYLD"
      },
      "source": [
        "### Excercise 1\n",
        "\n"
      ]
    },
    {
      "cell_type": "markdown",
      "metadata": {
        "id": "shAt0V7dnYLD"
      },
      "source": [
        "#### What product does Ukraine export most in 1995? (excluding services such as &rsquo;transport&rsquo;, &rsquo;ict&rsquo; etc)\n",
        "\n"
      ]
    },
    {
      "cell_type": "code",
      "execution_count": null,
      "metadata": {
        "id": "6LONsoPBnYLE"
      },
      "outputs": [],
      "source": [
        "df_orig %>%\n",
        "  filter(country_name=='Ukraine',year==2005) %>%\n",
        "  group_by(product_code,product_name) %>%\n",
        "  summarise(sum_export_value = sum(export_value)) %>%\n",
        "  arrange(desc(sum_export_value)) %>%\n",
        "  head()"
      ]
    },
    {
      "cell_type": "markdown",
      "metadata": {
        "id": "CE9qm4CXnYLG"
      },
      "source": [
        "#### What products is Ukraine specialized in in 1995 and 2005 and how much do they export of these?\n",
        "\n"
      ]
    },
    {
      "cell_type": "code",
      "execution_count": null,
      "metadata": {
        "id": "6dZTKawcnYLG"
      },
      "outputs": [],
      "source": [
        "# Use the 'df_rca' dataframe for this\n",
        "print('1995: ')\n",
        "df_rca %>%\n",
        "  filter(job_col=='Ukraine',time_col==1995) %>%\n",
        "  arrange(desc(RCAcpt)) %>%\n",
        "  select(task_col,RCAcpt,value_col) %>%\n",
        "  head\n",
        "\n",
        "print('2005: ')\n",
        "df_rca %>%\n",
        "  filter(job_col=='Ukraine',time_col==2005) %>%\n",
        "  arrange(desc(RCAcpt)) %>%\n",
        "  select(task_col,RCAcpt,value_col) %>%\n",
        "  head"
      ]
    },
    {
      "cell_type": "markdown",
      "metadata": {
        "id": "34_ze6fsnYLJ"
      },
      "source": [
        "#### Which product is most related to the product &rsquo;Stainless steel wire&rsquo;?\n",
        "\n"
      ]
    },
    {
      "cell_type": "code",
      "execution_count": null,
      "metadata": {
        "id": "y_flIOhjnYLK"
      },
      "outputs": [],
      "source": [
        "df_cppt %>%\n",
        "  filter(task_col_1=='Stainless steel wire') %>%\n",
        "  arrange(desc(phi)) %>%\n",
        "  head()"
      ]
    },
    {
      "cell_type": "markdown",
      "metadata": {
        "id": "XKONnkRenYLM"
      },
      "source": [
        "#### Plot Ukraine in the product space in 1995.\n",
        "\n"
      ]
    },
    {
      "cell_type": "markdown",
      "metadata": {
        "id": "P9ym15OmnYLN"
      },
      "source": [
        "How would you characterize Ukraine&rsquo;s position in the product space?\n",
        "\n"
      ]
    },
    {
      "cell_type": "code",
      "execution_count": null,
      "metadata": {
        "id": "FarxOyPWnYLP"
      },
      "outputs": [],
      "source": [
        "df_ps <- df_rca %>%\n",
        "  filter(job_col=='Ukraine', time_col==1995,RCAcpt>1,value_col > 4000000) %>%\n",
        "  select(task_col,value_col,product_code)\n",
        "\n",
        "file_name <- tempfile(fileext = \".csv\")\n",
        "write.csv(df_ps, file=file_name,row.names=FALSE)\n",
        "\n",
        "# Call python functions from R\n",
        "source_python('https://raw.githubusercontent.com/cid-harvard/py-productspace/master/create_product_space_v2.py')\n",
        "\n",
        "# We will use the glue library here to add R variables as Python parameters\n",
        "network_image_file_name <- tempfile(fileext=\".png\")\n",
        "\n",
        "string_python <- glue(\"create_product_space(df_plot_dataframe_filename ='{file_name}', \\\\\\\n",
        "                     df_plot_node_col = 'product_code', \\\\\\\n",
        "                     df_node_size_col = 'value_col', \\\\\\\n",
        "                     output_image_file ='{network_image_file_name}')\"\n",
        "                     )\n",
        "\n",
        "py_run_string(string_python)\n",
        "\n",
        "sprintf('product space image saved in %s',network_image_file_name)\n",
        "\n",
        "# Plot the product space now\n",
        "pp <- readPNG(network_image_file_name)\n",
        "options(repr.plot.width=15, repr.plot.height=15)\n",
        "grid::grid.raster(pp,width=1.8,height=1.8)\n",
        "\n",
        "print('the network can be saved as an image locally by right clicking on it in the notebook\n",
        "and clicking \"Save Image\", or by editing the output_image_file parameter above')"
      ]
    },
    {
      "cell_type": "markdown",
      "metadata": {
        "id": "Ngja3wfanYLR"
      },
      "source": [
        "#### Plot Ukraine in the product space in 2015.\n",
        "\n"
      ]
    },
    {
      "cell_type": "markdown",
      "metadata": {
        "id": "DH7as40GnYLS"
      },
      "source": [
        "Do you notice a difference with 1995?\n",
        "\n"
      ]
    },
    {
      "cell_type": "code",
      "execution_count": null,
      "metadata": {
        "id": "6Lsi0TLXnYLU"
      },
      "outputs": [],
      "source": [
        "df_ps <- df_rca %>%\n",
        "  filter(job_col=='Ukraine', time_col==2015,RCAcpt>1,value_col > 4000000) %>%\n",
        "  select(task_col,value_col,product_code)\n",
        "\n",
        "file_name <- tempfile(fileext = \".csv\")\n",
        "write.csv(df_ps, file=file_name,row.names=FALSE)\n",
        "\n",
        "# Call python functions from R\n",
        "source_python('https://raw.githubusercontent.com/cid-harvard/py-productspace/master/create_product_space_v2.py')\n",
        "\n",
        "# We will use the glue library here to add R variables as Python parameters\n",
        "network_image_file_name <- tempfile(fileext=\".png\")\n",
        "\n",
        "string_python <- glue(\"create_product_space(df_plot_dataframe_filename ='{file_name}', \\\\\\\n",
        "                     df_plot_node_col = 'product_code', \\\\\\\n",
        "                     df_node_size_col = 'value_col', \\\\\\\n",
        "                     output_image_file ='{network_image_file_name}')\"\n",
        "                     )\n",
        "\n",
        "py_run_string(string_python)\n",
        "\n",
        "sprintf('product space image saved in %s',network_image_file_name)\n",
        "\n",
        "# Plot the product space now\n",
        "pp <- readPNG(network_image_file_name)\n",
        "options(repr.plot.width=15, repr.plot.height=15)\n",
        "grid::grid.raster(pp,width=1.8,height=1.8)\n",
        "\n",
        "print('the network can be saved as an image locally by right clicking on it in the notebook\n",
        "and clicking \"Save Image\", or by editing the output_image_file parameter above')"
      ]
    },
    {
      "cell_type": "markdown",
      "metadata": {
        "id": "cecWxIX4nYLV"
      },
      "source": [
        "#### Plot your own country across different years in the product space. Do the results make sense? Do you notice any patterns?\n",
        "\n"
      ]
    },
    {
      "cell_type": "markdown",
      "metadata": {
        "id": "ke0qFHw_nYLX"
      },
      "source": [
        "### Excercise 2:\n",
        "\n"
      ]
    },
    {
      "cell_type": "markdown",
      "metadata": {
        "id": "so1Vi_VjnYLZ"
      },
      "source": [
        "#### What are countries with high complexity in 2015?\n",
        "\n"
      ]
    },
    {
      "cell_type": "code",
      "execution_count": null,
      "metadata": {
        "id": "CeaSAU7NnYLb"
      },
      "outputs": [],
      "source": [
        "df_eci %>%\n",
        "  arrange(desc(eci)) %>%\n",
        "  head"
      ]
    },
    {
      "cell_type": "markdown",
      "metadata": {
        "id": "HW3YUifHnYLd"
      },
      "source": [
        "#### Vice versa, what are countries with low complexity in 2015?\n",
        "\n"
      ]
    },
    {
      "cell_type": "code",
      "execution_count": null,
      "metadata": {
        "id": "3k3gJJyCnYLf"
      },
      "outputs": [],
      "source": [
        "df_eci %>%\n",
        "  arrange(desc(eci)) %>%\n",
        "  tail()"
      ]
    },
    {
      "cell_type": "markdown",
      "metadata": {
        "id": "b624fOqTnYLl"
      },
      "source": [
        "#### What are products (PCI) with high complexity in 2015?\n",
        "\n"
      ]
    },
    {
      "cell_type": "code",
      "execution_count": null,
      "metadata": {
        "id": "r34rPEyZnYLm"
      },
      "outputs": [],
      "source": [
        "df_pci %>%\n",
        "  arrange(desc(pci)) %>%\n",
        "  head()"
      ]
    },
    {
      "cell_type": "markdown",
      "metadata": {
        "id": "GWUWSdDdnYLo"
      },
      "source": [
        "#### Vice versa, what are products (PCI) with low complexity in 2015?\n",
        "\n"
      ]
    },
    {
      "cell_type": "code",
      "execution_count": null,
      "metadata": {
        "id": "g3N4DeO2nYLr"
      },
      "outputs": [],
      "source": [
        "df_pci %>%\n",
        "  arrange(desc(pci)) %>%\n",
        "  tail()"
      ]
    },
    {
      "cell_type": "markdown",
      "metadata": {
        "id": "s6qL5YEznYLt"
      },
      "source": [
        "#### Ukraine\n",
        "\n"
      ]
    },
    {
      "cell_type": "markdown",
      "metadata": {
        "id": "Mt_EVQICnYLv"
      },
      "source": [
        "##### How did Ukraine&rsquo;s economic complexity evolve over time?\n",
        "\n"
      ]
    },
    {
      "cell_type": "code",
      "execution_count": null,
      "metadata": {
        "id": "UjSHMS-qnYLx"
      },
      "outputs": [],
      "source": [
        "df_eci_allyrs <- data.frame()\n",
        "years <- 1995:2016\n",
        "  for (yeart in years) {\n",
        "    sprintf('doing year %s',yeart)\n",
        "    # Loop now\n",
        "    head(df_orig)\n",
        "    dft <- df_orig %>% filter(year==yeart) %>% select (country_name,product_name,export_value)\n",
        "    dft <- dft %>%\n",
        "      rename(country = country_name,\n",
        "             product = product_name,\n",
        "             value = export_value)\n",
        "    # balassa index (rca, 1 if > 1)\n",
        "    bi <- balassa_index(dft)\n",
        "    # calculate eci / pci, using reflections here: same values as py-ecomplexity package\n",
        "    cm <- complexity_measures(bi,method='reflections')\n",
        "    # convert to tibble, add country names, sort from most to least complex\n",
        "    # -- xci labels are set with setNames (extract with 'names')\n",
        "    df_eci <- cm$complexity_index_country %>%\n",
        "      as_tibble() %>%\n",
        "      mutate(country = names(cm$complexity_index_country)) %>%\n",
        "      rename(eci = value)\n",
        "    df_eci$year = yeart\n",
        "    head(df_eci)\n",
        "    df_eci_allyrs <- bind_rows(df_eci_allyrs,df_eci)\n",
        "  }\n",
        "\n",
        "# plot eci over the years\n",
        "dft <- filter(df_eci_allyrs,country == 'Ukraine')\n",
        "dft %>% ggplot(aes(x = year, y = eci)) + geom_line()"
      ]
    },
    {
      "cell_type": "markdown",
      "metadata": {
        "id": "7HKAvkXcnYL0"
      },
      "source": [
        "##### How does Ukraine&rsquo;s economic complexity in 2015 compare to other countries? Which countries have comparable economic complexity?\n",
        "\n"
      ]
    },
    {
      "cell_type": "code",
      "execution_count": null,
      "metadata": {
        "id": "NX3Rlb_hnYL2"
      },
      "outputs": [],
      "source": [
        "# - keep 2015, sort by eci and create row number\n",
        "dft <- df_eci_allyrs %>%\n",
        "  filter(year == 2015)  %>%\n",
        "  arrange(desc(eci)) %>%\n",
        "  mutate(row_number = row_number())\n",
        "# countries above and below Ukraine in ranking\n",
        "row_number1 <- filter(dft,country=='Ukraine')$row_number-5\n",
        "row_number2 <- filter(dft,country=='Ukraine')$row_number+5\n",
        "# show\n",
        "dft %>% slice(row_number1:row_number2)"
      ]
    },
    {
      "cell_type": "markdown",
      "metadata": {
        "id": "3F88afUAnYL4"
      },
      "source": [
        "##### What are the most complex products that Ukraine exported in 2015?\n",
        "\n"
      ]
    },
    {
      "cell_type": "code",
      "execution_count": null,
      "metadata": {
        "id": "FG6u9Hs5nYL6"
      },
      "outputs": [],
      "source": [
        "df_ukr <- df_rca %>%\n",
        "  filter(time_col == 2015,job_col=='Ukraine',RCAcpt > 1)\n",
        "# to merge pci into the dataframe, add leading zero if 3-digit\n",
        "df_ukr$len_product_code = str_length(df_ukr$product_code)\n",
        "df_ukr <- df_ukr %>%\n",
        "    mutate(product_code = ifelse(len_product_code == 3, paste('0',product_code,sep=\"\"),product_code))\n",
        "# strip leading / trailing spaces\n",
        "df_ukr$product_code <- trimws(df_ukr$product_code, which = c(\"both\"))\n",
        "# merge pcis from 2000 into dataframe\n",
        "df_ukr <- left_join(df_ukr, df_pci, by = c(\"product_code\" = \"product_code\"))\n",
        "# sort\n",
        "head(arrange(df_ukr,desc(pci)))\n",
        "head(df_ukr,20)"
      ]
    },
    {
      "cell_type": "markdown",
      "metadata": {
        "id": "T3ZrFtwynYL8"
      },
      "source": [
        "## Questions?\n",
        "\n"
      ]
    },
    {
      "cell_type": "markdown",
      "metadata": {
        "id": "yQCRaAXonYL-"
      },
      "source": [
        "Contact me at matte \\_ hartog@hks.harvard.edu or drop by the fifth floor in the Rubenstein building, office 502.\n",
        "\n"
      ]
    }
  ],
  "metadata": {
    "org": null,
    "kernelspec": {
      "display_name": "R",
      "language": "R",
      "name": "ir"
    },
    "language_info": {
      "codemirror_mode": "r",
      "file_extension": ".r",
      "mimetype": "text/x-r-source",
      "name": "R",
      "pygments_lexer": "r",
      "version": "3.3.2"
    },
    "colab": {
      "name": "Job-Task Project.ipynb",
      "provenance": [],
      "collapsed_sections": [
        "JBLjMaHrnYFF",
        "FUc3e57dnYHZ",
        "KikdEWn9nYHd",
        "H10lXWNznYH0",
        "74JJujgnnYIi",
        "uSq6a4npnYJI",
        "njOn6NbCnYJ9",
        "-KJM1sAunYKA",
        "IpHYgkCPnYKE",
        "RoQPsaSBnYKJ",
        "TBtCdBY7nYKs",
        "V5UA1H-KnYKv",
        "2VEdcP_9nYKx",
        "iJmfpjH9nYK1",
        "pH0et6rrnYK3",
        "1-NQzdRbnYK4",
        "nUpUiJdVnYK6",
        "ysv0ZeV9nYK8",
        "cecWxIX4nYLV",
        "so1Vi_VjnYLZ",
        "HW3YUifHnYLd",
        "b624fOqTnYLl",
        "GWUWSdDdnYLo"
      ],
      "include_colab_link": true
    }
  },
  "nbformat": 4,
  "nbformat_minor": 0
}